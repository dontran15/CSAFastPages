{
 "cells": [
  {
   "cell_type": "markdown",
   "metadata": {},
   "source": [
    "# Fixing Database Error FRQ 2 Extra\n",
    "> Fixing error caused in transaction due to id generation method in database\n",
    "\n",
    "- title: Fixing Database Error\n",
    "- badges: true\n",
    "- toc: true\n",
    "- categories: [pbl, sql]"
   ]
  },
  {
   "cell_type": "markdown",
   "metadata": {},
   "source": [
    "## Locking Error\n",
    "OneToMany relationship and ManyToOne relationship stores POJOs in separate tables which are tied by one table that stores the relationship between using their respective ids. (In this case I used StepLog instead of Day because I thought it might've been a more appropriate name)\n",
    "\n"
   ]
  }
 ],
 "metadata": {
  "kernelspec": {
   "display_name": "Java",
   "language": "java",
   "name": "java"
  },
  "language_info": {
   "name": "java"
  },
  "orig_nbformat": 4
 },
 "nbformat": 4,
 "nbformat_minor": 2
}
