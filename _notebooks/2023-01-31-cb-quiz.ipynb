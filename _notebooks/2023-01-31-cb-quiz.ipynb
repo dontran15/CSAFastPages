{
 "cells": [
  {
   "attachments": {},
   "cell_type": "markdown",
   "metadata": {},
   "source": [
    "# Timed College Board Stuff\n",
    "> Timed College Board Stuff\n",
    "\n",
    "- title: Timed College Board Stuff\n",
    "- badges: true\n",
    "- toc: true\n",
    "- comments: true\n",
    "- categories: [collegeboard, quizzes]"
   ]
  },
  {
   "attachments": {},
   "cell_type": "markdown",
   "metadata": {},
   "source": [
    "### Overall Reflection\n",
    "Of the practices MCQs we did so far I found this one the most challenging and most time consuming. If I spent as much time as I wanted on it, I think I'd definitely be able to complete with almost a perfect score overall. Although 60/66 is not bad in any sense of the matter, I think a lot of them were less conceptual misunderstandings and more so mental exhaustion. I think if I practice doing continuos quizzes more that exhaustion will be better and I'll be able to analyze the code a lot better. I also spent well over 1.5 hours (although I did take breaks in between) but overall I think my total time on the reflection was around 2.5 hours of continuous answering them.\n",
    "\n",
    "![image](https://user-images.githubusercontent.com/75715248/214100836-7c54132c-ad64-45c4-9fb7-2a11973ea5b2.png)\n",
    "\n",
    "### Corrections\n",
    "Here are my corrections for both quizzes.\n",
    "\n",
    "#### 66 Question Quiz Corrections\n",
    "![question 1](https://user-images.githubusercontent.com/75715248/214101998-d3ebfd6a-2484-4977-ab81-9ab90d40ca20.png)\n",
    "In implementation I, num is used as a local variable rather than an actual reference variable and thus does not get assigned which I thought it did. This means I should work on getting better at recognizing the scope of my variables and how they are affected as a whole.\n",
    "\n",
    "![question 16](https://user-images.githubusercontent.com/75715248/214102792-434cc8a2-996e-4a38-abec-c5b8128099d0.png)\n",
    "This involved a lot of 2D array columns which I mistook which ones were iterating through columns and which one through rows. I think honibg in on improving my identification of code in loops would help a lot.\n",
    "\n",
    "![question 19](https://user-images.githubusercontent.com/75715248/214103233-9bdcf8dc-29eb-4eb7-b9a2-dddf047aac5f.png)\n",
    "This was just a lot of silly miscalculation (idk if thats the right word) of de morgans law that caused me to accidently apply the not symbol a flip some signs accidently.\n",
    "\n",
    "![question 26](https://user-images.githubusercontent.com/75715248/214103401-c30b4f09-8c20-4ee3-bbda-0072c24837a1.png)\n",
    "Remember indices since it messes up a lot of code sometimes and is important to consider in logic for inclusive or not.\n",
    "\n",
    "![question 42](https://user-images.githubusercontent.com/75715248/214104038-e4108960-74fd-449e-b0f5-670c06d2d701.png)\n",
    "Overlooked the out of bounds error.\n",
    "\n",
    "![question 53](https://user-images.githubusercontent.com/75715248/214104338-1e037d9e-7de3-4940-9a11-96b66baff023.png)\n",
    "Forgot about initialization."
   ]
  }
 ],
 "metadata": {
  "kernelspec": {
   "display_name": "Java",
   "language": "java",
   "name": "java"
  },
  "language_info": {
   "name": "java"
  },
  "orig_nbformat": 4
 },
 "nbformat": 4,
 "nbformat_minor": 2
}
