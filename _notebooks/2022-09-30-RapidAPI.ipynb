{
 "cells": [
  {
   "cell_type": "markdown",
   "metadata": {},
   "source": [
    "# RapidAPI AI Image Generator\n",
    "> RapidAPI implementation and answered questions\n",
    "\n",
    "- title: RapidAPI AI Image Generator\n",
    "- badges: true\n",
    "- toc: true\n",
    "- categories: [pbl, week 6]"
   ]
  },
  {
   "cell_type": "markdown",
   "metadata": {},
   "source": [
    "## My RapidAPI\n",
    "In my example, I used Yahoo finance to return related information of public companies given their ticker symbol. The user puts in their input a ticker symbol and upon submitting the form, information for a leak.\n",
    "\n",
    "[Link to API Implementation](http://localhost:8080/stock)\n",
    "\n",
    "### Benefits of Using an API?\n",
    "\n",
    "\n",
    "### Benefit(s) of Backend Implementation?\n"
   ]
  }
 ],
 "metadata": {
  "kernelspec": {
   "display_name": "Java",
   "language": "java",
   "name": "java"
  },
  "language_info": {
   "codemirror_mode": "java",
   "file_extension": ".jshell",
   "mimetype": "text/x-java-source",
   "name": "Java",
   "pygments_lexer": "java",
   "version": "18.0.1.1+2-6"
  },
  "orig_nbformat": 4,
  "vscode": {
   "interpreter": {
    "hash": "aee8b7b246df8f9039afb4144a1f6fd8d2ca17a180786b69acc140d282b71a49"
   }
  }
 },
 "nbformat": 4,
 "nbformat_minor": 2
}
