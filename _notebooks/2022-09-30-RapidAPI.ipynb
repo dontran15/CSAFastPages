{
 "cells": [
  {
   "cell_type": "markdown",
   "metadata": {},
   "source": [
    "# RapidAPI AI Stock Info\n",
    "> RapidAPI implementation and answered questions\n",
    "\n",
    "- title: RapidAPI AI Stock Info\n",
    "- badges: true\n",
    "- toc: true\n",
    "- categories: [pbl, week 6]"
   ]
  },
  {
   "cell_type": "markdown",
   "metadata": {},
   "source": [
    "## My RapidAPI\n",
    "In my example, I used Yahoo finance to return related information of public companies given their ticker symbol. The user puts in their input a ticker symbol and upon submitting the form, it gives the user an output of a summary of the company.\n",
    "\n",
    "[Link to API Implementation](http://localhost:8080/stock)\n",
    "\n",
    "### Benefits of Using an API?\n",
    "APIs benefits us because it enables us as programmers to have easy access to a variety of pre made/built processes uploaded to the web. This comes in the form of almost function like calls that return useful information or do useful processing through the web without us needing to actually use it. It also enables the communication between different services. It also is useful for bypassing the need for us to collect our own data and pour resources into collecting such data. JSON's are one of the de facto standards of data transmission across APIs because of its simplistic representation of objects. \n",
    "\n",
    "With an API, you save so much time. Since they're just basically a massive data pool, you can easily take out data. Unfortunately, these have limitations that we cannot get around without paying a bit, but we will not be doing that in this case.\n",
    "\n",
    "### Benefit(s) of Backend Implementation?\n",
    "For the backend, much of the internal processing that would've been needed to compute or process data can easily be accessed through APIs thereby saving time, money, effort, and other resources into an otherwise expensive processing. This helps the developers to focus primarily on their own unique services rather than minute redundant services that have already been made. It also helps different services interface with each other due to shared/common APIs that enable easy transfers of data. "
   ]
  }
 ],
 "metadata": {
  "kernelspec": {
   "display_name": "Java",
   "language": "java",
   "name": "java"
  },
  "language_info": {
   "codemirror_mode": "java",
   "file_extension": ".jshell",
   "mimetype": "text/x-java-source",
   "name": "Java",
   "pygments_lexer": "java",
   "version": "18.0.1.1+2-6"
  },
  "orig_nbformat": 4,
  "vscode": {
   "interpreter": {
    "hash": "aee8b7b246df8f9039afb4144a1f6fd8d2ca17a180786b69acc140d282b71a49"
   }
  }
 },
 "nbformat": 4,
 "nbformat_minor": 2
}
