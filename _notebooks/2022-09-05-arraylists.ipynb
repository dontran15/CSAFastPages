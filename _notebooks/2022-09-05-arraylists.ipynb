{
 "cells": [
  {
   "cell_type": "markdown",
   "metadata": {},
   "source": [
    "# ArraysList\n",
    "> Array Lists and their uses + implementation in SciOly\n",
    "\n",
    "- title: ArrayLists\n",
    "- badges: true\n",
    "- toc: true\n",
    "- categories: [college board, pbl, week 7]"
   ]
  },
  {
   "cell_type": "markdown",
   "metadata": {},
   "source": [
    "## ArrayLists\n",
    "ArrayLists are containers (like arrays, lists, etc), which store data within them. Unlike traditional arrays, ArrayList sizes are not set and can be modified. In Java, they act as objects with their own special syntax. Instantiating an ArrayList is almost essentially the same with any other object where the user needs to call a constructor. In addition, Java's strong type makes lists, unlike in weak type languages like Python, all the same data type. Overall, ArrayLists are very useful, especially in the context of data bases, because they are expandable containers of data that we can access in a variety of different manners.\n",
    "\n",
    "Below is an implementation of ArrayLists with a rough application to our Science Olympiad website."
   ]
  },
  {
   "cell_type": "code",
   "execution_count": 47,
   "metadata": {
    "vscode": {
     "languageId": "java"
    }
   },
   "outputs": [
    {
     "name": "stdout",
     "output_type": "stream",
     "text": [
      "----------------------------\n",
      "Method: instantiating memberList array; get(); size(); attribute specification\n",
      "Your Mom\n",
      "Joe\n",
      "Jack\n",
      "Jill\n",
      "----------------------------\n",
      "----------------------------\n",
      "Method: clear()\n",
      "no one here :(\n",
      "----------------------------\n"
     ]
    }
   ],
   "source": [
    "import java.util.*;\n",
    "public class Member{\n",
    "    //instantiates attributes\n",
    "    static int idCounter = 0;\n",
    "    int id;\n",
    "    int grade;\n",
    "    String name;\n",
    "    String email;\n",
    "    String phoneNumber;\n",
    "    String password;\n",
    "    int yearsInSciOly;\n",
    "    String team;\n",
    "    String[] events;\n",
    "\n",
    "    //Constructor for each attribute\n",
    "    public Member(int grade, String name, String email, String phoneNumber, String password, int yearsInSciOly, String team, String[] events){\n",
    "        this.id = idCounter;\n",
    "        idCounter++;\n",
    "        this.grade = grade;\n",
    "        this.name = name;\n",
    "        this.email = email;\n",
    "        this.phoneNumber = phoneNumber;\n",
    "        this.password = password;\n",
    "        this.yearsInSciOly = yearsInSciOly;\n",
    "        this.team = team;\n",
    "        this.events = events;\n",
    "    }\n",
    "\n",
    "    //creates general ArrayList using Member objects\n",
    "    public static ArrayList<Member> createMemberList(){ \n",
    "        Member member1 = new Member(11, \"Your Mom\", \"mom.your@gmail.com\", \"696-696-9696\", \"12345\", 5, \"deez\", new String[]{\"Fermi\", \"Astrology\", \"your mom\"});\n",
    "        Member member2 = new Member(12, \"Joe\", \"joe.your@gmail.com\", \"958-696-9696\", \"123456\", 5, \"deez\", new String[]{\"Fermi\", \"joe star\", \"your mom\"});\n",
    "        Member member3 = new Member(9, \"Jack\", \"jack.your@gmail.com\", \"542-696-9696\", \"23456\", 5, \"deez\", new String[]{\"Fermi\", \"Niki\", \"How to Cope\"});\n",
    "        Member member4 = new Member(10, \"Jill\", \"jill.your@gmail.com\", \"234-696-9696\", \"123456\", 5, \"deez\",new String[]{\"Fermi\", \"Chem Lab\", \"Krish Patil\"});\n",
    "\n",
    "        ArrayList<Member> memberList = new ArrayList<>();\n",
    "        //add() method adding members; useful for adding new members every time new member object instantiated\n",
    "        memberList.add(member1);\n",
    "        memberList.add(member2);\n",
    "        memberList.add(member3);\n",
    "        memberList.add(member4);\n",
    "\n",
    "        return memberList;\n",
    "    }\n",
    "\n",
    "    //print method that prints the name attribute of each object, prints method being used\n",
    "    public static void printMembers(ArrayList<Member> memberList, String arrayListMethod){\n",
    "        System.out.println(\"----------------------------\");\n",
    "        System.out.println(\"Method: \" + arrayListMethod);\n",
    "\n",
    "        //size() method gets integer length of memberList; useful for keeping track of number of members\n",
    "        for (int i = 0; i < memberList.size(); i++){\n",
    "            //get() method returns the object specified by index; useful for getting data of individual members\n",
    "            //.name retrieves the name attribute from the Member object\n",
    "            System.out.println(memberList.get(i).name);\n",
    "        }\n",
    "\n",
    "        if (memberList.size() == 0){\n",
    "            System.out.println(\"no one here :(\");\n",
    "        }\n",
    "\n",
    "        System.out.println(\"----------------------------\");\n",
    "    }\n",
    "\n",
    "    //Simple log in system that returns true or false (yes it is terribly unsecure)\n",
    "    public boolean login(String input){\n",
    "        if (input.equals(password)){\n",
    "            return true;\n",
    "        }else{\n",
    "            return false;\n",
    "        }\n",
    "    }\n",
    "\n",
    "    //main method\n",
    "    public static void main(String[] args){\n",
    "        //creates memberList and prints members; some uses of methods within print method\n",
    "        ArrayList<Member> memberList = createMemberList();\n",
    "        printMembers(memberList, \"instantiating memberList array; get(); size(); attribute specification\");\n",
    "\n",
    "        //clear method; Useful for clearing members every new season from current competition databases\n",
    "        memberList.clear();\n",
    "        printMembers(memberList, \"clear()\");\n",
    "        memberList = createMemberList();\n",
    "\n",
    "        \n",
    "\n",
    "    }\n",
    "}\n",
    "\n",
    "Member.main(null);"
   ]
  },
  {
   "cell_type": "markdown",
   "metadata": {},
   "source": [
    "#;## Let's See ArrayLists in Action\n",
    "ArrayLists can have any type of data in them ranging from primitives (booleans, int, double) to wrapper classes and any other type of object. Below is a member list of Science Olympiad and here I use a variety of methods that can alter or retrieve the data within the ArrayList. The code includes comments explaining the particular use case and why it's useful."
   ]
  },
  {
   "cell_type": "code",
   "execution_count": 48,
   "metadata": {
    "vscode": {
     "languageId": "java"
    }
   },
   "outputs": [],
   "source": [
    "public class Main{\n",
    "    public static void main(){\n",
    "        ArrayList<Member> memberList = Member.createMemberList(); //creates list of Member objects\n",
    "\n",
    "\n",
    "        \n",
    "        memberList.add(new Member(11, \"Morb\", \"tehee.your@gmail.com\", \"754-696-9696\", \"34542\", 6, \"deez\", new String[]{\"Green Generation\", \"Anime\", \"How to Hit Man\"}));\n",
    "\n",
    "    }\n",
    "}"
   ]
  }
 ],
 "metadata": {
  "kernelspec": {
   "display_name": "Java",
   "language": "java",
   "name": "java"
  },
  "language_info": {
   "codemirror_mode": "java",
   "file_extension": ".jshell",
   "mimetype": "text/x-java-source",
   "name": "Java",
   "pygments_lexer": "java",
   "version": "18.0.1.1+2-6"
  },
  "orig_nbformat": 4,
  "vscode": {
   "interpreter": {
    "hash": "aee8b7b246df8f9039afb4144a1f6fd8d2ca17a180786b69acc140d282b71a49"
   }
  }
 },
 "nbformat": 4,
 "nbformat_minor": 2
}
