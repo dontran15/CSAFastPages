{
 "cells": [
  {
   "cell_type": "markdown",
   "metadata": {},
   "source": [
    "# Booleans and If/Else Statement Notes & HW\n",
    "> Boolean and If/Else Statement Notes & HW\n",
    "\n",
    "- title: If/Else Statements\n",
    "- badges: true\n",
    "- toc: true\n",
    "- categories: [college board, week 9]"
   ]
  },
  {
   "cell_type": "markdown",
   "metadata": {},
   "source": [
    "## 3 Types\n",
    "Loops help simplify repetitive code, almost all of them use conditions that need to be changed within the code for the loop to stop.\n",
    "\n",
    "### While Loops\n",
    "While a specified condition is met, the loop will keep running until the loops condition is no longer true. \n",
    "\n",
    "### For Loop\n",
    "For each thing in a sequence of code for each part as long as a condition is met, if the condition is met as false, the condition will no longer be true and thus stop.\n",
    "\n",
    "### Recursion\n",
    "Similar to For and While loops but you run and run the function inside itself over and over again. They have conditions using if/else and keeps running until the if statement no longer is true and thus finally ends with the else statement in which the function is no longer true.\n",
    "\n",
    "### Nested Iteration\n",
    "Not a method but it's a technique to simplify code more. You put a loop within a loop and it runs two conditions where once one is no longer run, it runs again through the upper loop"
   ]
  },
  {
   "cell_type": "code",
   "execution_count": 5,
   "metadata": {},
   "outputs": [
    {
     "name": "stdout",
     "output_type": "stream",
     "text": [
      "Enter a number in the range of 1 through 100: Invalid input. Enter a number in the range of 1 through 100: Invalid input. Enter a number in the range of 1 through 100: Invalid input. Enter a number in the range of 1 through 100: "
     ]
    }
   ],
   "source": [
    "//while loop\n",
    "import java.util.Scanner;\n",
    "\n",
    "public class Checker \n",
    "{\n",
    "    public static void main(String[] args) \n",
    "    {\n",
    "        int number;  \n",
    "\t\n",
    "        // Create a Scanner object for keyboard input.  \n",
    "        Scanner keyboard = new Scanner(System.in);  \n",
    "             \n",
    "        // Get a number from the user.  \n",
    "        System.out.print(\"Enter a number in the range of 1 through 100: \");  \n",
    "        number = keyboard.nextInt();  \n",
    "\n",
    "        while (number > 100 || number < 0)\n",
    "        {  \n",
    "           System.out.print(\"Invalid input. Enter a number in the range \" +  \n",
    "                            \"of 1 through 100: \");  \n",
    "           number = keyboard.nextInt();  \n",
    "        } \n",
    "    }\n",
    "}\n",
    "\n",
    "Checker.main(null);\n"
   ]
  },
  {
   "cell_type": "code",
   "execution_count": 7,
   "metadata": {},
   "outputs": [
    {
     "name": "stdout",
     "output_type": "stream",
     "text": [
      "count is 0\n",
      "count is 1\n",
      "count is 2\n",
      "count is 3\n",
      "count is 4\n"
     ]
    }
   ],
   "source": [
    "public class LoopConversion \n",
    "{\n",
    "    public static void main(String[] args) \n",
    "    {\n",
    "        //convert to for loop\n",
    "        for (int count = 0; count < 5; count++)\n",
    "        {\n",
    "            System.out.println(\"count is \" + count);\n",
    "        }\n",
    "    }\n",
    "}\n",
    "\n",
    "LoopConversion.main(null);"
   ]
  },
  {
   "cell_type": "code",
   "execution_count": 8,
   "metadata": {},
   "outputs": [],
   "source": [
    "public class Clock  \n",
    "{  \n",
    "    public static void main(String[] args)  \n",
    "    {  \n",
    "        for(int hours = 1; hours <= 12; hours++)  \n",
    "        {  \n",
    "            for (int minutes = 0; minutes <= 59; minutes++)  \n",
    "            {  \n",
    "                for (int seconds = 0; seconds <= 59; seconds++) \n",
    "                {  \n",
    "                    System.out.printf(\"%02d:%02d:%02d\\n\", hours, minutes, seconds); \n",
    "                } \n",
    "            } \n",
    "        } \n",
    "    } \n",
    "}"
   ]
  },
  {
   "cell_type": "code",
   "execution_count": 11,
   "metadata": {},
   "outputs": [
    {
     "name": "stdout",
     "output_type": "stream",
     "text": [
      "0\n",
      "1\n",
      "2\n",
      "3\n",
      "4\n"
     ]
    }
   ],
   "source": [
    "for (int i = 0; i < 5; i++){\n",
    "    System.out.println(i);\n",
    "}"
   ]
  },
  {
   "cell_type": "code",
   "execution_count": 13,
   "metadata": {},
   "outputs": [
    {
     "name": "stdout",
     "output_type": "stream",
     "text": [
      "0\n",
      "1\n",
      "2\n",
      "3\n",
      "4\n"
     ]
    }
   ],
   "source": [
    "int i = 0;\n",
    "while (i < 5){\n",
    "    System.out.println(i);\n",
    "    i++;\n",
    "}"
   ]
  },
  {
   "cell_type": "code",
   "execution_count": 18,
   "metadata": {},
   "outputs": [
    {
     "ename": "CompilationException",
     "evalue": "",
     "output_type": "error",
     "traceback": [
      "\u001b[1m\u001b[30m|   \u001b[1m\u001b[30mpublic void recursion(num1\u001b[0m\u001b[1m\u001b[30m\u001b[41m\u001b[0m\u001b[1m\u001b[30m, num2)\u001b[0m",
      "\u001b[1m\u001b[31m<identifier> expected\u001b[0m",
      "",
      "\u001b[1m\u001b[30m|   \u001b[1m\u001b[30mpublic void recursion(num1, num2\u001b[0m\u001b[1m\u001b[30m\u001b[41m\u001b[0m\u001b[1m\u001b[30m)\u001b[0m",
      "\u001b[1m\u001b[31m<identifier> expected\u001b[0m",
      ""
     ]
    }
   ],
   "source": [
    "public void recursion(num1, num2)\n",
    "{\n",
    "    if(num1 < num2){\n",
    "        System.out.println(num1);\n",
    "\n",
    "        num1++;\n",
    "        recursion(num1, num2);\n",
    "    }\n",
    "    else{\n",
    "        System.out.println(num2);\n",
    "    }\n",
    "}\n",
    "\n",
    "recursion(0, 5);"
   ]
  },
  {
   "cell_type": "markdown",
   "metadata": {},
   "source": [
    "### Iteration Homework\n",
    "https://tigran7.github.io/fastpages/2022/10/18/Recursion.html"
   ]
  }
 ],
 "metadata": {
  "kernelspec": {
   "display_name": "Java",
   "language": "java",
   "name": "java"
  },
  "language_info": {
   "codemirror_mode": "java",
   "file_extension": ".jshell",
   "mimetype": "text/x-java-source",
   "name": "java",
   "pygments_lexer": "java",
   "version": "18.0.1.1+2-6"
  },
  "orig_nbformat": 4,
  "vscode": {
   "interpreter": {
    "hash": "aee8b7b246df8f9039afb4144a1f6fd8d2ca17a180786b69acc140d282b71a49"
   }
  }
 },
 "nbformat": 4,
 "nbformat_minor": 2
}
