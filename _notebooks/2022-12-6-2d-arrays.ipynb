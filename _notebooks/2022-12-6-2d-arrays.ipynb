{
 "cells": [
  {
   "cell_type": "markdown",
   "metadata": {},
   "source": [
    "# 2D Arrays\n",
    "> 2D Array Notes & HW\n",
    "\n",
    "- title: 2D Arrays\n",
    "- badges: true\n",
    "- toc: true\n",
    "- categories: [college board, Unit 8]"
   ]
  },
  {
   "cell_type": "markdown",
   "metadata": {},
   "source": [
    "### 2D Arrays\n",
    "- Array of arrays\n",
    "- Can be initialized using [][] (double brackets)\n",
    "- Two for loops can be used to traverse through each row and then each column in the 2d array\n",
    "- Specify index by row and column to access 2d array (like a matrix\n",
    "- Change how you print and display them according to row/column and iterate through them in different ways to go through them\n",
    "\n",
    "### 2D Array HW"
   ]
  },
  {
   "cell_type": "code",
   "execution_count": 45,
   "metadata": {
    "vscode": {
     "languageId": "java"
    }
   },
   "outputs": [
    {
     "name": "stdout",
     "output_type": "stream",
     "text": [
      "\n",
      "\n",
      "Printing out values backward\n",
      "16 15 14 13  \n",
      "12 11 10 9  \n",
      "8 7 6 5  \n",
      "4 3 2 1  \n",
      "Enter Row Index: 1\n",
      "Enter Column Index: 1\n",
      "Result: 6\n",
      "Sum: 544\n"
     ]
    }
   ],
   "source": [
    "import java.util.Scanner;\n",
    "\n",
    "public class Arrays{\n",
    "    int[][] numbers = {{1,2,3,4},{5,6,7,8},{9,10,11,12},{13,14,15,16}};\n",
    "    public void printArray(){\n",
    "        for(int i = 0; i < numbers.length; i++){\n",
    "            for(int j = 0; j < numbers[i].length; j++){\n",
    "                System.out.print(numbers[i][j] + \" \");\n",
    "            }\n",
    "\n",
    "            System.out.println();\n",
    "\n",
    "        }\n",
    "    }\n",
    "\n",
    "    public void reverseArray(){\n",
    "        System.out.println(\"\\n\\nPrinting out values backward\");\n",
    "        for(int i = numbers.length-1;i>=0;i--){\n",
    "            for(int j = numbers[i].length-1; j >= 0;j--){ \n",
    "                System.out.print(numbers[i][j] + \" \");\n",
    "            }\n",
    "            System.out.println(\" \");\n",
    "        }\n",
    "    }\n",
    "\n",
    "    public void askForIndex(){\n",
    "        Scanner scanner = new Scanner(System.in);\n",
    "\n",
    "        System.out.print(\"Enter Row Index: \");\n",
    "        int rowIndex = scanner.nextInt();\n",
    "        System.out.println(rowIndex);\n",
    "\n",
    "        System.out.print(\"Enter Column Index: \");\n",
    "        int columnIndex = scanner.nextInt();\n",
    "        System.out.println(columnIndex);\n",
    "\n",
    "        System.out.print(\"Result: \"); \n",
    "        System.out.println(numbers[rowIndex][columnIndex]);\n",
    "    }\n",
    "\n",
    "    public void multiplyThenSum(){\n",
    "        int multiplier = 4;\n",
    "        int sum = 0;\n",
    "\n",
    "        for(int i = 0; i < numbers.length; i++){\n",
    "            for(int j = 0; j < numbers[i].length; j++){\n",
    "                sum += multiplier*numbers[i][j];\n",
    "            }\n",
    "        }\n",
    "\n",
    "        System.out.print(\"Sum: \");\n",
    "        System.out.println(sum);\n",
    "    }\n",
    "\n",
    "    public static void main(String[] args){\n",
    "        Arrays array = new Arrays();\n",
    "        array.reverseArray();\n",
    "        array.askForIndex();\n",
    "        array.multiplyThenSum();\n",
    "    }\n",
    "}\n",
    "\n",
    "Arrays.main(null);"
   ]
  },
  {
   "cell_type": "code",
   "execution_count": null,
   "metadata": {
    "vscode": {
     "languageId": "java"
    }
   },
   "outputs": [],
   "source": []
  }
 ],
 "metadata": {
  "kernelspec": {
   "display_name": "Java",
   "language": "java",
   "name": "java"
  },
  "language_info": {
   "codemirror_mode": "java",
   "file_extension": ".jshell",
   "mimetype": "text/x-java-source",
   "name": "Java",
   "pygments_lexer": "java",
   "version": "18.0.1.1+2-6"
  },
  "orig_nbformat": 4,
  "vscode": {
   "interpreter": {
    "hash": "aee8b7b246df8f9039afb4144a1f6fd8d2ca17a180786b69acc140d282b71a49"
   }
  }
 },
 "nbformat": 4,
 "nbformat_minor": 2
}
