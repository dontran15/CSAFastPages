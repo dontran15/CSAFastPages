{
 "cells": [
  {
   "cell_type": "markdown",
   "metadata": {},
   "source": [
    "# 2D Arrays\n",
    "> 2D Array Notes & HW\n",
    "\n",
    "- title: 2D Arrays\n",
    "- badges: true\n",
    "- toc: true\n",
    "- categories: [college board, Unit 8]"
   ]
  },
  {
   "cell_type": "markdown",
   "metadata": {},
   "source": [
    "### 2D Arrays\n",
    "- Array of arrays\n",
    "- Can be initialized using [][] (double brackets)\n",
    "- Two for loops can be used to traverse through each row and then each column in the 2d array\n",
    "- Specify index by row and column to access 2d array (like a matrix\n",
    "- Change how you print and display them according to row/column and iterate through them in different ways to go through them\n",
    "\n",
    "### 2D Array HW"
   ]
  },
  {
   "cell_type": "code",
   "execution_count": 33,
   "metadata": {},
   "outputs": [
    {
     "name": "stdout",
     "output_type": "stream",
     "text": [
      "7 10 21 0 \n",
      "9 16 0 8 \n",
      "6 10 18 36 \n",
      "2 6 12 16 \n",
      "\n",
      "\n",
      "Printing out values backward\n",
      "16 12 6 2  \n",
      "36 18 10 6  \n",
      "8 0 16 9  \n",
      "0 21 10 7  \n",
      "Enter Row Index: 0\n",
      "Enter Column Index: 0\n",
      "Result: 7\n",
      "Sum: 41184\n"
     ]
    }
   ],
   "source": [
    "import java.util.Scanner;\n",
    "\n",
    "public class Arrays{\n",
    "    int[][] numbers;\n",
    "    public Arrays(){\n",
    "        int[][] newArray = new int[4][4];;\n",
    "        for (int i = 0; i < newArray.length; i++){\n",
    "            for (int j = 0; j < newArray[i].length; j++){\n",
    "                newArray[i][j] = (j+1) * (int) (Math.random()*10);\n",
    "            }\n",
    "        }\n",
    "\n",
    "        this.numbers = newArray;\n",
    "    }\n",
    "\n",
    "    public void printArray(){\n",
    "        for(int i = 0; i < numbers.length; i++){\n",
    "            for(int j = 0; j < numbers[i].length; j++){\n",
    "                System.out.print(numbers[i][j] + \" \");\n",
    "            }\n",
    "\n",
    "            System.out.println();\n",
    "\n",
    "        }\n",
    "    }\n",
    "\n",
    "    public void reverseArray(){\n",
    "        System.out.println(\"\\n\\nPrinting out values backward\");\n",
    "        for(int i = numbers.length-1;i>=0;i--){\n",
    "            for(int j = numbers[i].length-1; j >= 0;j--){ \n",
    "                System.out.print(numbers[i][j] + \" \");\n",
    "            }\n",
    "            System.out.println(\" \");\n",
    "        }\n",
    "    }\n",
    "\n",
    "    public void askForIndex(){\n",
    "        Scanner scanner = new Scanner(System.in);\n",
    "\n",
    "        System.out.print(\"Enter Row Index: \");\n",
    "        int rowIndex = scanner.nextInt();\n",
    "        System.out.println(rowIndex);\n",
    "\n",
    "        System.out.print(\"Enter Column Index: \");\n",
    "        int columnIndex = scanner.nextInt();\n",
    "        System.out.println(columnIndex);\n",
    "\n",
    "        System.out.print(\"Result: \"); \n",
    "        System.out.println(numbers[rowIndex][columnIndex]);\n",
    "    }\n",
    "\n",
    "    public void multiplyThenSum(){\n",
    "        int sum = 0;\n",
    "\n",
    "        for(int i = 0; i < numbers.length; i++){\n",
    "            int multiply = 1;\n",
    "\n",
    "            for(int j = 0; j < numbers[i].length; j++){\n",
    "                multiply *= numbers[i][j];\n",
    "            }\n",
    "\n",
    "            sum += multiply;\n",
    "        }\n",
    "\n",
    "        System.out.print(\"Sum: \");\n",
    "        System.out.println(sum);\n",
    "    }\n",
    "\n",
    "    public static void main(String[] args){\n",
    "        Arrays array = new Arrays();\n",
    "        array.printArray();\n",
    "        array.reverseArray();\n",
    "        array.askForIndex();\n",
    "        array.multiplyThenSum();\n",
    "\n",
    "    }\n",
    "}\n",
    "\n",
    "Arrays.main(null);"
   ]
  },
  {
   "cell_type": "code",
   "execution_count": null,
   "metadata": {},
   "outputs": [],
   "source": []
  }
 ],
 "metadata": {
  "kernelspec": {
   "display_name": "Java",
   "language": "java",
   "name": "java"
  },
  "language_info": {
   "codemirror_mode": "java",
   "file_extension": ".jshell",
   "mimetype": "text/x-java-source",
   "name": "java",
   "pygments_lexer": "java",
   "version": "18.0.1.1+2-6"
  },
  "orig_nbformat": 4,
  "vscode": {
   "interpreter": {
    "hash": "aee8b7b246df8f9039afb4144a1f6fd8d2ca17a180786b69acc140d282b71a49"
   }
  }
 },
 "nbformat": 4,
 "nbformat_minor": 2
}
