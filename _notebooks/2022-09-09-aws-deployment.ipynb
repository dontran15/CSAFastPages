{
 "cells": [
  {
   "cell_type": "markdown",
   "metadata": {},
   "source": [
    "# AWS Deployment\n",
    "> Deploying a Spring Java Project in AWS\n",
    "\n",
    "- title: AWS Deployment\n",
    "- toc: true\n",
    "- badges: true\n",
    "- comments: false\n",
    "- author: Don Tran\n",
    "- categories: [pbl, week 3]"
   ]
  },
  {
   "cell_type": "markdown",
   "metadata": {},
   "source": [
    "## AWS\n",
    "AWS is Amazon's Amazon Web Service which is essentially a cloud service where website owners rent out a server for their website. In the past, sever rooms were individually set up by companies to house their own servers. However the maintenance of such servers tended to be costly and inefficient especially if it went down. In turn, cloud services like AWS or google's or microsoft's cloud help create large data centers that house virtual machines capable of running web pages that can return and send requests for much cheaper prices. They're also built for redundancy ensuring that if one data center goes down, the rest of the web servers dependent on the data centers will continue to run. \n",
    "\n",
    "AWS is one of the most popular of these cloud services and is the cloud service we'll be using to deploy our websites. [Linked here](http://54.153.57.91/) is the link to the web server that is running on the virtual machine I set up using AWS to run my team's Spring Project.\n",
    "\n",
    "## How Our Server Runs\n",
    "On the virtual machine using AWS's service, to check that my commands work and my git repo is compatible with the virtual machine to build, I installed java 17, jdk 17, and maven to help build and run our Spring Boot Project. Then, I cloned the repo and ran ./mvnw package in order to build the website and then ran it using java -jar target/spring-0.0.1-SNAPSHOT.jar. Finally, I set up the dockerfile and docker-compose.yml to create an image using docker (this helps it have an image which can be copied onto other virtual machines if need be). A bunch of other random stuff happens though I'm not privy to it lmfao. Then we run it using docker which should make it ready for internet access. Finally we use nginx to host it onto the internet. Then there's Certbot which idk wtf that does so yea. To update the server, all I need to do is pull the changes using git and then kill and rerun the docker process and nginx to redeploy.\n",
    "\n",
    "## Commands\n",
    "If I wasn't lazy, I'd list all the commands here but yea that's about it."
   ]
  }
 ],
 "metadata": {
  "kernelspec": {
   "display_name": "Java",
   "language": "java",
   "name": "java"
  },
  "language_info": {
   "name": "java",
   "version": "3.10.6"
  },
  "orig_nbformat": 4,
  "vscode": {
   "interpreter": {
    "hash": "aee8b7b246df8f9039afb4144a1f6fd8d2ca17a180786b69acc140d282b71a49"
   }
  }
 },
 "nbformat": 4,
 "nbformat_minor": 2
}
