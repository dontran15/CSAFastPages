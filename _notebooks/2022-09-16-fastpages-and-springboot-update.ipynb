{
 "cells": [
  {
   "cell_type": "markdown",
   "metadata": {},
   "source": [
    "# Fastpages and Spring Boot Project Frontend Updates\n",
    "> updating my fastpages and spring boot project b/c frankly it's pretty bad\n",
    "\n",
    "- title: Frontend Updates (Fastpages and Spring Boot Project)\n",
    "- toc: true\n",
    "- badges: true\n",
    "- comments: false\n",
    "- author: Don Tran\n",
    "- categories: [college board, week 4]"
   ]
  },
  {
   "cell_type": "markdown",
   "metadata": {},
   "source": [
    "## Updates\n",
    "Honestly Fastpages is boring af and I wanted to try to find ways to personalize it. Similarly, my Spring Boot Project is still heavily based on the Nighthawk Spring Boot repo that was given to us so I also wanted to try to find ways to personalize it. Fastpages will definitely be the harder of the two to customize due to its built in limitations which are often hard to update b/c it needs to be specifically made so that it builds in a defined manner.\n",
    "\n",
    "Here's the updates I managed to do:\n",
    "\n",
    "### Fastpages\n",
    "\n",
    "\n",
    "### Spring Boot Project\n"
   ]
  }
 ],
 "metadata": {
  "kernelspec": {
   "display_name": "Java",
   "language": "java",
   "name": "java"
  },
  "language_info": {
   "name": "java"
  },
  "orig_nbformat": 4
 },
 "nbformat": 4,
 "nbformat_minor": 2
}
