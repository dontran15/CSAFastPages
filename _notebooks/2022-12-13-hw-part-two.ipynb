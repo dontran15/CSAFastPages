{
 "cells": [
  {
   "cell_type": "markdown",
   "metadata": {},
   "source": [
    "# College Board Units HW\n",
    "> List of all unit HWs\n",
    "\n",
    "- title: College Board Units HW\n",
    "- badges: true\n",
    "- toc: true\n",
    "- categories: [college board, study guide]"
   ]
  },
  {
   "cell_type": "markdown",
   "metadata": {},
   "source": [
    "### HW Scores\n",
    "|    Unit                  | Score |    Comments                               |   \n",
    "|--------------------------|-------|-------------------------------------------|   \n",
    "| [Unit 6 Array](https://dontran15.github.io/CSAFastPages/college%20board/week%2010/2022/10/25/array.html)        |  1/1  | Took lots of notes and did extra problems |\n",
    "| [Unit 7 ArrayLists](https://dontran15.github.io/CSAFastPages/college%20board/unit%207/2022/12/01/array-lists.html)     | 0.9/1 |                :thumbs up:                |\n",
    "| [Unit 8 2D Arrays](https://dontran15.github.io/CSAFastPages/college%20board/unit%208/2022/12/12/d-arrays.html) | 0.95/1   |                no comment                 |\n",
    "| [Unit 9 Inheritance](https://dontran15.github.io/CSAFastPages/college%20board/unit%209/2022/12/12/inheritance.html)         | 1/1   |                no comment                 |\n",
    "| [Unit 10 Recursion](https://nighthawkcoders.github.io/APCSA//2022/10/19/AP-unit5.html)           |  N/A  |          (own lesson so no grade)         |\n",
    "|  total | 3.8/4 | |\n"
   ]
  },
  {
   "cell_type": "code",
   "execution_count": null,
   "metadata": {},
   "outputs": [],
   "source": []
  },
  {
   "cell_type": "markdown",
   "metadata": {},
   "source": [
    "### "
   ]
  }
 ],
 "metadata": {
  "kernelspec": {
   "display_name": "Java",
   "language": "java",
   "name": "java"
  },
  "language_info": {
   "name": "java"
  },
  "orig_nbformat": 4
 },
 "nbformat": 4,
 "nbformat_minor": 2
}
