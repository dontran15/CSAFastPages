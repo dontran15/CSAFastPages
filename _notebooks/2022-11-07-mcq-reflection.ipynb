{
 "cells": [
  {
   "cell_type": "markdown",
   "metadata": {},
   "source": [
    "# College Board 2014 Practice MCQ Reflection\n",
    "> Reflection\n",
    "\n",
    "- title: College Board 2014 Practice MCQ Reflection\n",
    "- badges: true\n",
    "- toc: true\n",
    "- categories: [college board, week 12]"
   ]
  },
  {
   "cell_type": "markdown",
   "metadata": {},
   "source": [
    "## Final Score & General Reflection\n",
    "My final score was 36/40 which I'd say I'm pretty happy with given that an mc score in that range is in range for a 5 on the AP exam. However, I think the main thing I'll need to work on is timing given that I gave myself a large amount of time to finish the mcq in comparison to the time that college board gives me. In future practices, I think I'll just need to focus on timing and getting myself to answer and comprehend questions faster.\n",
    "\n",
    "## Mistakes and Corrections\n",
    "#### Question 18\n",
    "![question 18](https://user-images.githubusercontent.com/75715248/200266330-a9cca2dd-9296-43e0-8d9d-df5dfaa3f122.png)\n",
    "This was more of a silly mistake which I got E. We see that in order to actually access the actual integer value itself for the index. Thus a random number with the size as an argument will fail to execute due to it having no args. Comparatively for the right answer B, the answer works as it casts the following value multiplication into an integer after multiplying. It also happens to floor the values upon casting ensuring that they do not include 1 in their answer which would indicate a valid random index.\n",
    "\n",
    "\n",
    "#### Question 34\n",
    "![question 34](https://user-images.githubusercontent.com/75715248/200266730-b0170ff3-5b85-4d2f-b6ae-3549532ad3ec.png)\n",
    "For question 34, it implements code about the construction of a circle given a point and a radius. E is wrong since I only defines the center as (0,0) using the no argument constructor and III won't work since the private modifier will prevent the variable of center from being directly mutated. II is correct since it uses the full argument constructor which sets the arguments as the point and thus the center of the circle. Therefore B would be the correct answers.\n",
    "\n",
    "\n",
    "#### Question 39\n",
    "![question 39](https://user-images.githubusercontent.com/75715248/200267290-14240e25-f9cb-4a72-8ae9-7386a2f3e8d6.png)\n",
    "B can't be correct since this is the first input into the recursive function but since the function calls again within the return statement, there is another recursive function. Thus, in order to get the correct answer, D (which is 16), you have to go through a complex rabbit hole of recursive functions until eventually the double recursive function call calls the first condition twice and thus ends with 8*2 = 16.\n",
    "\n",
    "\n",
    "#### Question 40\n",
    "![question 40](https://user-images.githubusercontent.com/75715248/200371764-f7eabe18-e2c2-4de8-9198-57437371c929.png)\n",
    "The main thing about this question was understanding the recursive equation. Since the function will run first before it outputs the print statement of the last iteration of the recursive function. Since it will only print the index from 0-5, only the first 4 letters of the string will be in the substring. Thus, the right answer is C.\n",
    "\n",
    "#### Mistakes Reflection\n",
    "Overall, while I did do good on most of the topics, the topic I struggled the ost with was recursion and special functions/methods that java provides such as Math.random. If I work on these topics in conjunction with time management, I think I'll be very well positioned for the AP Exam."
   ]
  }
 ],
 "metadata": {
  "kernelspec": {
   "display_name": "Java",
   "language": "java",
   "name": "java"
  },
  "language_info": {
   "name": "java"
  },
  "orig_nbformat": 4
 },
 "nbformat": 4,
 "nbformat_minor": 2
}
