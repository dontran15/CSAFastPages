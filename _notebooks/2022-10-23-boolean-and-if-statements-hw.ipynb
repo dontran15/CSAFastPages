{
 "cells": [
  {
   "cell_type": "markdown",
   "metadata": {},
   "source": [
    "# Boolean and If Statement Homework\n",
    "> FRQs\n",
    "\n",
    "- title: Boolean and If Statement Homework\n",
    "- badges: true\n",
    "- toc: true\n",
    "- categories: [college board, week 9]"
   ]
  },
  {
   "cell_type": "markdown",
   "metadata": {},
   "source": [
    "### 2009 3b"
   ]
  },
  {
   "cell_type": "code",
   "execution_count": null,
   "metadata": {},
   "outputs": [],
   "source": [
    "public int getChargeStartTime(int chargeTime){\n",
    "    int startTime = 0;\n",
    "    for (int i = 1; i < 24; i++){\n",
    "        if (this.getChargingCost(i, chargeTime) < this.getChargingCost(startTime, chargeTime)){\n",
    "            startTime = i;\n",
    "        }\n",
    "    }\n",
    "    \n",
    "    return startTime;\n",
    "}"
   ]
  },
  {
   "cell_type": "markdown",
   "metadata": {},
   "source": [
    "### 2017 1b"
   ]
  },
  {
   "cell_type": "code",
   "execution_count": null,
   "metadata": {},
   "outputs": [],
   "source": [
    "public boolean isStrictlyIncreasing(){\n",
    "    for (int i = 0; i < digitList.size()-1; i++){\n",
    "        if (digitList.get(i).intValue() >= digitList.get(i+1).intValue()){\n",
    "            return false;\n",
    "        }\n",
    "    }\n",
    "    \n",
    "    return true;\n",
    "}"
   ]
  },
  {
   "cell_type": "markdown",
   "metadata": {},
   "source": [
    "### 2019 3b"
   ]
  },
  {
   "cell_type": "code",
   "execution_count": null,
   "metadata": {},
   "outputs": [],
   "source": [
    "public boolean evaluateLight(int row, int col) {\n",
    "    int onInCol = 0;\n",
    "    for (int r = 0; r < lights.length; r++) {\n",
    "        if (lights[r][col]) {\n",
    "            onInCol++;\n",
    "        }\n",
    "    }\n",
    "    \n",
    "    if (lights[row][col] && onInCol % 2 == 0) {\n",
    "        return false;\n",
    "    } else if (!lights[row][col] && onInCol % 3 == 0) {\n",
    "        return true;\n",
    "    } else {\n",
    "        return lights[row][col];\n",
    "    }\n",
    "}"
   ]
  }
 ],
 "metadata": {
  "kernelspec": {
   "display_name": "Java",
   "language": "java",
   "name": "java"
  },
  "language_info": {
   "name": "java",
   "version": "3.10.6"
  },
  "orig_nbformat": 4,
  "vscode": {
   "interpreter": {
    "hash": "aee8b7b246df8f9039afb4144a1f6fd8d2ca17a180786b69acc140d282b71a49"
   }
  }
 },
 "nbformat": 4,
 "nbformat_minor": 2
}
