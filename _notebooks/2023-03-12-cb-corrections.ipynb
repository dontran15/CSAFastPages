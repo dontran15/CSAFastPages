{
 "cells": [
  {
   "attachments": {},
   "cell_type": "markdown",
   "metadata": {},
   "source": [
    "# College Board Practice Exam 2015\n",
    "> College Board Practice Exam 2015\n",
    "\n",
    "- title: College Board Practice Exam 2015\n",
    "- badges: true\n",
    "- toc: true\n",
    "- comments: true\n",
    "- categories: [collegeboard, quizzes]"
   ]
  },
  {
   "attachments": {},
   "cell_type": "markdown",
   "metadata": {},
   "source": [
    "## Score\n",
    "![smth](https://user-images.githubusercontent.com/75715248/224568493-edf6827c-3acc-45f2-9e34-2e3fe31754bb.png)\n",
    "\n",
    "## Corrections\n",
    "\n",
    "### Question 19\n",
    "This one was an oopsie dasies by me, i clicked the wrong answer. Since x = 1, no matter what condition keeps the while loop true, x will only ever increase by 2 thus keeping it an odd number. So x%2 == 0 can't possibly occur.\n",
    "\n",
    "### Question 21\n",
    "The correct answer is A since each element is printed out through the for each loop causing the correct output of 123456. One thing I should do is look at all the answers before moving on since I clicked C given it was the first one I saw and looked alright to me lol.\n",
    "\n",
    "### Question 25\n",
    "Just needed to pay attention to code, I didn't realize the inner loop was starting at an index of y = x rather than just y = 0. If correctly thought out, the answer should be 10 since it's essentially summing all the numbers from 1 to 4."
   ]
  }
 ],
 "metadata": {
  "kernelspec": {
   "display_name": "Java",
   "language": "java",
   "name": "java"
  },
  "language_info": {
   "name": "java"
  },
  "orig_nbformat": 4
 },
 "nbformat": 4,
 "nbformat_minor": 2
}
