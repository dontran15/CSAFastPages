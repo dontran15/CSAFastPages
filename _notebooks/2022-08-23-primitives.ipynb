{
 "cells": [
  {
   "cell_type": "markdown",
   "metadata": {},
   "source": [
    "# Primitives\n",
    "> A comprehensive collection of my primitives learning and extra projects\n",
    "\n",
    "- toc: true\n",
    "- badges: true\n",
    "- comments: false\n",
    "- author: Don Tran\n",
    "- categories: [java, primitives, week 1, college board, pbl]\n",
    "- image: images/data-types-in-java.jpeg"
   ]
  },
  {
   "cell_type": "markdown",
   "metadata": {},
   "source": [
    "## Primitives Data Type Notes\n",
    "Java is a data type language and all data is defined with explicit use. This can be in the form of primitive data types or non primitive data types (objects/wrapper classes).\n",
    "\n",
    "### Primitives\n",
    "Primitives are fundemental data types in Java that solely hold certain data types and lack any methods. Among the most basic primitives there are:\n",
    "\n",
    "* Booleans (true or false values)\n",
    "  * boolean\n",
    "* Characters (individual characters)\n",
    "  * char\n",
    "* Integers (integer numbers and its representations)\n",
    "  * int\n",
    "  * byte\n",
    "  * long\n",
    "  * short\n",
    "* Floating-Points (decimals)\n",
    "  * float\n",
    "  * double\n",
    "\n",
    "The most commonly used ones in java are boolean, char, int, and double. \n",
    "\n",
    "### Non-Primitives\n",
    "Because Java likes everything to be a class, all data types, including forms of the primitives, are iterated as classes. The difference between primitives and non-primitives however is that non-primitves are able to perform method calls. Among some examples of Non-Primitives are:\n",
    "\n",
    "* String\n",
    "* ArrayList\n",
    "* any other object that may take the form of data\n",
    "\n",
    "### Applications\n",
    "Below is a demonstration of the use of some primitives and a string in Java. (examples include int, double, boolean, and String)"
   ]
  },
  {
   "cell_type": "code",
   "execution_count": 20,
   "metadata": {
    "vscode": {
     "languageId": "shellscript"
    }
   },
   "outputs": [
    {
     "name": "stdout",
     "output_type": "stream",
     "text": [
      "This is an integer: 55\n",
      "This is an double: 10.92\n",
      "This is an bool: true\n",
      "This is an string: This is a string\n"
     ]
    }
   ],
   "source": [
    "public class Primitives {\n",
    "  public static void main (String[] args) {\n",
    "    int integer = 55; // This is an integer, this is a primitive data type which holds integer values\n",
    "    double doub = 10.92; // This is a double, this is a primitive data type which holds decimal values \n",
    "    boolean bool = true; // This is a boolean, this is a primitive data type which holds the two values true or false\n",
    "    String string = \"This is a string\"; // This is a String, this is a wrapper class data type which an array of characters\n",
    "\n",
    "    System.out.println(\"This is an integer: \" + integer); \n",
    "    System.out.println(\"This is an double: \" + doub); \n",
    "    System.out.println(\"This is an bool: \" + bool); \n",
    "    System.out.println(\"This is an string: \" + string); \n",
    "  }\n",
    "}\n",
    "\n",
    "Primitives.main(null);\n"
   ]
  },
  {
   "cell_type": "markdown",
   "metadata": {},
   "source": [
    "## Salary Raise Calculator\n",
    "\n",
    "### About This Calculator\n",
    "This is a calculator that demonstrates implementations of boolean, int, double, and String within the code.\n",
    "\n",
    "Do you ever struggle to calculate your salary raise or are just too lazy to plug those large numbers into a calculator? Then, welcome to a salary raise calculator where your only job is to input your old salary and the amount your salary has been raised by. \n",
    "\n",
    "Not only does it calculate it for you it calcualate your new salary but also the manages the percent raise of your salary before informing you whether you've been scammed in your raise and that your employer is not appreciating you enough. I would encourage you to go on strike but unfortunately I'm a code code coder and not a strike strike striker so I don't have any advice for that. Good luck!\n",
    "\n",
    "### How It Works\n",
    "A scanner is created to read the inputs of users and prompts users to enter double type inputs for the users salary and raise which is then used to calculate the new salary by adding the two values together. The percent increase is calculated by dividing the calculated new salary by the old salary and multiplied by 100 before being subtracted by 100. The in code comments go more in detail with what each line of code does.\n",
    "\n",
    "### Use of Primitives\n",
    "\n",
    "##### Integers\n",
    "* Outputs percent increase as a raise\n",
    "\n",
    "#### Doubles\n",
    "* Salaries are taken in as double values which does double division and casted as an integer output when calculating the percent\n",
    "\n",
    "#### Boolean\n",
    "* Uses booleans to check if the output of the percent increase is good or not returning true for a percent value that is good\n",
    "\n",
    "#### String\n",
    "* Outputs string message which includes all the values computed or collected above into a message that outputs new salary (double), precent increase (int), and quality of raise (boolean)\n",
    "\n",
    "### Contributions\n",
    "This code was made in java in conjuction with fellow coder Nathan using pair programming."
   ]
  },
  {
   "cell_type": "code",
   "execution_count": 21,
   "metadata": {
    "vscode": {
     "languageId": "shellscript"
    }
   },
   "outputs": [
    {
     "name": "stdout",
     "output_type": "stream",
     "text": [
      "Enter a salary: \n",
      "Enter your pay raise: \n",
      "Your final salary is: 1020000.0, which is around a 2% raise from your original salary. You got a bad pay raise!\n"
     ]
    }
   ],
   "source": [
    "import java.util.Scanner;\n",
    "\n",
    "public class SalaryRaiseCalculator{\n",
    "  public static void main(String[] args) {\n",
    "\n",
    "      Scanner salaryInput = new Scanner(System.in);  // Create a Scanner object\n",
    "\n",
    "      System.out.println(\"Enter a salary: \"); // salary input message prompt\n",
    "      double salary = salaryInput.nextDouble();  // Read user input\n",
    "      double oldSalary = salary; // Records oldsalary for percent calculation later\n",
    "\n",
    "      System.out.println(\"Enter your pay raise: \"); // raise input message prompt\n",
    "      double raise = salaryInput.nextDouble();  // Read user input\n",
    "\n",
    "      salary += raise; // The inputted number of \"raise\" is added onto the original inputted \"salary\"\n",
    "\n",
    "      int percent = (int) (100*(salary / oldSalary)-100); // Calculates percent raise\n",
    "\n",
    "      salaryInput.close(); //Closes Scanner object salaryInput; stops reading text inputs\n",
    "\n",
    "      boolean payraisequality;\n",
    "      String message;\n",
    "\n",
    "      if(percent > 5){\n",
    "        payraisequality = true;\n",
    "      }\n",
    "      else{\n",
    "        payraisequality = false;\n",
    "      }\n",
    "\n",
    "      if (payraisequality == true){\n",
    "          message = \"You got a good pay raise!\";\n",
    "      }\n",
    "      else{\n",
    "          message = \"You got a bad pay raise!\";\n",
    "      }\n",
    "\n",
    "      System.out.println(\"Your final salary is: \" + salary + \", which is around a \" + percent + \"% raise from your original salary. \" + message);  // Output user input\n",
    "  }\n",
    "}\n",
    "\n",
    "SalaryRaiseCalculator.main(null);"
   ]
  }
 ],
 "metadata": {
  "kernelspec": {
   "display_name": "Bash",
   "language": "bash",
   "name": "bash"
  },
  "language_info": {
   "codemirror_mode": "java",
   "file_extension": ".jshell",
   "mimetype": "text/x-java-source",
   "name": "bash",
   "pygments_lexer": "java",
   "version": "18.0.1.1+2-6"
  },
  "orig_nbformat": 4
 },
 "nbformat": 4,
 "nbformat_minor": 2
}
