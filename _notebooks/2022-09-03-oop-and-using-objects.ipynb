{
 "cells": [
  {
   "cell_type": "markdown",
   "metadata": {},
   "source": [
    "# Teddy Bear Factory - Using Objects & Code.Org\n",
    "> Using a Teddy Bear Factory to demonstrate my learning of Objects and Code.Org\n",
    "\n",
    "- title: Teddy Bear Factory - Code.org Learning\n",
    "- toc: true\n",
    "- categories: [college board, java, week 2]\n",
    "- image: /images/teddybear.jpeg"
   ]
  },
  {
   "cell_type": "markdown",
   "metadata": {},
   "source": [
    "## Object Oriented Programming\n",
    "Object Oriented Programming (abrreviated as OOP) is a coding paradigm (style in which code is organized) which organizes code into classes and objects. \n",
    "\n",
    "Java is one of the most popular and well known OOP based languages and is the language I'll use for my demonstration of my OOP learning.\n",
    "\n",
    "## Factory\n",
    "I like to think of OOP as factories (commonly it's likened to blueprints but I like my analogy better >:) \n",
    "\n",
    "Imagine you are an entrepreneur, fresh out of college (or maybe you dropped out) and you're ready to show the world your brilliant ideas and products. \n",
    "\n",
    "### Creating a Class (Factory)\n",
    "Let's say you buy a factory. Here's your new factory:"
   ]
  },
  {
   "cell_type": "code",
   "execution_count": 241,
   "metadata": {},
   "outputs": [],
   "source": [
    "//Creates a class\n",
    "public class Factory{ \n",
    "    \n",
    "}"
   ]
  },
  {
   "cell_type": "markdown",
   "metadata": {},
   "source": [
    "### Variables and Constructor (Factory Data)\n",
    "Pretty empty huh. Let's try making a frame work to plan out your factory and statistics we'll need to keep track of as we obtain equipment and come up with what it's going to produce. \n",
    "\n",
    "To do this, we'll initialize variables, create a constructor, and make an empty function meant to be the instructions for what the factory needs to produce."
   ]
  },
  {
   "cell_type": "code",
   "execution_count": 242,
   "metadata": {},
   "outputs": [],
   "source": [
    "import java.util.ArrayList; //Import ArrayList class\n",
    "\n",
    "public class Factory{\n",
    "  //Initialize Variables: Variables for our generic Factory\n",
    "  String owner;\n",
    "  static double factoryProfit; //static variable -> belongs to class (our factories); the profit of our factories\n",
    "\n",
    "  //Constructer (more details later)\n",
    "  public Factory(String owner){ \n",
    "    //When this constructer is called, we will have to fill out some info which will be assigned to our new factory's (object's) data\n",
    "    this.owner = owner;\n",
    "  }\n",
    "\n",
    "  public void production(int days){ //Function (return type: void); produces our product\n",
    "    \n",
    "  }\n",
    "\n",
    "}"
   ]
  },
  {
   "cell_type": "markdown",
   "metadata": {},
   "source": [
    "#### Classes Part 2 (Products & Product Data)\n",
    "Now, we can't just start your factory if it doesn't make anything. Let's say you decide on starting out with toy production.\n",
    "\n",
    "Let's create a toy class (our blueprint) to build toys!"
   ]
  },
  {
   "cell_type": "code",
   "execution_count": 243,
   "metadata": {},
   "outputs": [],
   "source": [
    "//Create Toy class\n",
    "public class Toy{\n",
    "  ArrayList<String> materials = new ArrayList();\n",
    "  double cost;\n",
    "  double price;\n",
    "  //Toy Constructor\n",
    "  public Toy(ArrayList<String> materials, double cost, double price){\n",
    "    this.materials = materials;\n",
    "    this.cost = cost;\n",
    "    this.price = price;\n",
    "  }\n",
    "\n",
    "  public void function(){ //Function of the toy\n",
    "    \n",
    "  }\n",
    "}"
   ]
  },
  {
   "cell_type": "markdown",
   "metadata": {},
   "source": [
    "#### Inheritance (Teddy Bears)\n",
    "Good work! We're almost there. As a suggestion, Teddy Bears are quite popular! Let's consider making that your first product.\n",
    "\n",
    "Below, let's create a child class that inherits its properties from our toy class! We call super to access the superclass's constructor."
   ]
  },
  {
   "cell_type": "code",
   "execution_count": 244,
   "metadata": {},
   "outputs": [],
   "source": [
    "//TeddyBear is a child class of the parent class Toy (inherits all of the variables and methods of Toy)\n",
    "public class TeddyBear extends Toy { \n",
    "  //Unique variable for TeddyBear\n",
    "  String color;\n",
    "  //TeddyBear constructor\n",
    "  public TeddyBear(ArrayList<String> materials, double cost, double price, String color){\n",
    "    super(materials, cost, price); //super() references all the parent classes' constructors\n",
    "    this.color = color;\n",
    "  }\n",
    "\n",
    "  public void function(){\n",
    "    System.out.println(\"Woah a teddy bear! It's \" + color + \" and gives great hugs!\");\n",
    "  }\n",
    "\n",
    "  public static TeddyBear createBrownTeddyBear(){ //Static method that instantiates (creates) a TeddyBear object w/ TeddyBear return type\n",
    "    //Specifies the materials, price, and cost of a a 'Brown' TeddyBear\n",
    "    ArrayList<String> materials = new ArrayList<String>();\n",
    "    materials.add(\"Cotton\");\n",
    "    materials.add(\"Mohair\");\n",
    "    materials.add(\"Ribbon\");\n",
    "    materials.add(\"Plastic Eyes\");\n",
    "    double cost = 5.00;\n",
    "    double price = 10.00;\n",
    "\n",
    "    //Instantiates an object of itself (almost like a factory) and returns the object\n",
    "    TeddyBear teddyBear = new TeddyBear(materials, cost, price, \"Brown\");\n",
    "    return teddyBear;\n",
    "  }\n",
    "}\n"
   ]
  },
  {
   "cell_type": "markdown",
   "metadata": {},
   "source": [
    "#### Instantiation (Creating a Factory!)\n",
    "Now that we have our product, a framework for our factory, and hopefully a little funding, we can start producing our teddy bears (might be in pretty big debt though >:)\n",
    "\n",
    "Here's our teddy bear factory and an instantiation of this factory. Then we will call the production function to start producing teddy bears and make some profit >:) Let's say our factory makes 5 bears a day. We'll also make a method to calculate the profit of all the functions we have and instantiate an ArrayList to keep track of how many TeddyBears we have. "
   ]
  },
  {
   "cell_type": "code",
   "execution_count": 245,
   "metadata": {},
   "outputs": [],
   "source": [
    "public class TeddyBearFactory extends Factory{ //Creates child class for TeddyBearFactory and constructor w/ super() method\n",
    "  static ArrayList<TeddyBear> teddyBears = new ArrayList<TeddyBear>(); //List collection of all the TeddyBear objects, static so universal list belonging to class\n",
    "  public TeddyBearFactory(String owner){\n",
    "    super(owner);\n",
    "  }\n",
    "\n",
    "  public void production(int days){ //Production of teddyBears over a certain number of days\n",
    "    for(int i = 0; i < days*5; i++){ //For loop that repeatedly calls createBrownTeddyBear() and adds to static list\n",
    "      TeddyBear teddyBear = TeddyBear.createBrownTeddyBear();\n",
    "      teddyBears.add(teddyBear);\n",
    "    }\n",
    "  }\n",
    "\n",
    "  public static void calculateProfit(){//Function to calculate universal profit among any given amount of teddy bear factories\n",
    "    for (int i = 0; i < teddyBears.size(); i++){ //For loop\n",
    "      factoryProfit += (teddyBears.get(i).price - teddyBears.get(i).cost); //Accesses static arraylist belonging to TeddyBearFactory and each object's properties\n",
    "    }\n",
    "  }\n",
    "}"
   ]
  },
  {
   "cell_type": "markdown",
   "metadata": {},
   "source": [
    "#### Main Method (Production)\n",
    "Now that we have the building blocks to open our first toy factory, let's create (instantiate) one and get it running!"
   ]
  },
  {
   "cell_type": "code",
   "execution_count": 246,
   "metadata": {},
   "outputs": [
    {
     "name": "stdout",
     "output_type": "stream",
     "text": [
      "Here's how many Brown Teddy Bears we've produced: 15\n",
      "Here's our profit over three days: 75.0\n"
     ]
    }
   ],
   "source": [
    "public class Main{\n",
    "  public static void main(String[] args){\n",
    "    TeddyBearFactory teddyBearFactory0 = new TeddyBearFactory(\"You\"); //Instantiates our very first TeddyBearFactory\n",
    "\n",
    "    teddyBearFactory0.production(3); //Calls production() method of our new factory with the argument of 3 days passed in\n",
    "    TeddyBearFactory.calculateProfit(); //Calculates profit of our new factory after 3 days of production\n",
    "    \n",
    "    System.out.println(\"Here's how many Brown Teddy Bears we've produced: \" + TeddyBearFactory.teddyBears.size());\n",
    "    System.out.println(\"Here's our profit over three days: \" + TeddyBearFactory.factoryProfit); \n",
    "  }\n",
    "}\n",
    "\n",
    "Main.main(null);"
   ]
  },
  {
   "cell_type": "markdown",
   "metadata": {},
   "source": [
    "#### More Production\n",
    "Let's open some new factories for some more sweet profit >:) We'll count our total profit from the previous three days and the next 3 days."
   ]
  },
  {
   "cell_type": "code",
   "execution_count": 247,
   "metadata": {},
   "outputs": [
    {
     "name": "stdout",
     "output_type": "stream",
     "text": [
      "Here's how many Brown Teddy Bears we've produced with all our factories: 60\n",
      "Here's our profit: 375.0\n"
     ]
    }
   ],
   "source": [
    "public class Main{\n",
    "  public static void main(String[] args){\n",
    "    TeddyBearFactory teddyBearFactory0 = new TeddyBearFactory(\"You\"); //instantiates our very first TeddyBearFactory\n",
    "    TeddyBearFactory teddyBearFactory1 = new TeddyBearFactory(\"You\"); //instantiates our a second TeddyBearFactory\n",
    "    TeddyBearFactory teddyBearFactory2 = new TeddyBearFactory(\"You\"); //instantiates a third TeddyBearFactory\n",
    "\n",
    "    teddyBearFactory0.production(3); //Calls production() method of our new factory with the argument of 3 days passed in\n",
    "\n",
    "    teddyBearFactory1.production(3); //Calls production() method of our new factory with the argument of 3 days passed in\n",
    "    \n",
    "    teddyBearFactory2.production(3); //Calls production() method of our new factory with the argument of 3 days passed in\n",
    "    TeddyBearFactory.calculateProfit(); //Calculates profit of our new factory after 3 days of production\n",
    "    \n",
    "    System.out.println(\"Here's how many Brown Teddy Bears we've produced with all our factories: \" + TeddyBearFactory.teddyBears.size());\n",
    "    System.out.println(\"Here's our profit: \" + TeddyBearFactory.factoryProfit);\n",
    "\n",
    "  }\n",
    "}\n",
    "\n",
    "Main.main(null);"
   ]
  },
  {
   "cell_type": "markdown",
   "metadata": {},
   "source": [
    "### Takeaways\n",
    "Object Oriented Programming is quite powerful. It allows programmer to create archetypes through the concept of classes which they can then expand upon through inheritance. Additionally, it's abstraction of programming into objects allow code to be organized and modeled after the real world. \n",
    "\n",
    "In my example, I used a factory to represent that classes act as a factory (slightly redundant). Every non-static method or variable is a blueprint within them that serve as instructions to produce a certain good (object) with its own functions and properties. Every static method or variable is a function or property of the factory itself which the factory can call upon.\n",
    "\n",
    "Constructors are the initial instructions that are run in order to instantiate objects. This is the bulk of the factory's (class's) blueprint to create goods (objects). Sometimes this factory can also cause an object to run methods in when it's instantiating the object. For instance, an iPhone goes through quality control before it is packaged and sent as a final product.\n",
    "\n",
    "Classes can also instantiate themselves so long as the constructor is called. In a factory example, a factory (class) producing electricity (object) can also use the electricity to power a toaster in the factory (method using electricity). This is one of the many examples of how unlike procedural programming which usually follows a set path of code, OOP enables programmers to utilize code from anywhere even outside the main() function. This leads into the topic of abstraction which I'll talk about sometime in the future.\n",
    "\n",
    "All in all, OOP is pretty cool!"
   ]
  }
 ],
 "metadata": {
  "kernelspec": {
   "display_name": "Java",
   "language": "java",
   "name": "java"
  },
  "language_info": {
   "codemirror_mode": "java",
   "file_extension": ".jshell",
   "mimetype": "text/x-java-source",
   "name": "java",
   "pygments_lexer": "java",
   "version": "18.0.1.1+2-6"
  },
  "orig_nbformat": 4
 },
 "nbformat": 4,
 "nbformat_minor": 2
}
