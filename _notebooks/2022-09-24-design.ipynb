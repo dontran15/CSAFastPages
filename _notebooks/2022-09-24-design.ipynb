{
 "cells": [
  {
   "cell_type": "markdown",
   "metadata": {},
   "source": [
    "# SciOly Website Design\n",
    "> design for SciOly website\n",
    "\n",
    "- title: SciOly Website Design\n",
    "- toc: true\n",
    "- badges: true\n",
    "- comments: false\n",
    "- author: Don Tran\n",
    "- categories: [pbl, week 5]"
   ]
  }
 ],
 "metadata": {
  "kernelspec": {
   "display_name": "Java",
   "language": "java",
   "name": "java"
  },
  "language_info": {
   "name": "java"
  },
  "orig_nbformat": 4
 },
 "nbformat": 4,
 "nbformat_minor": 2
}
