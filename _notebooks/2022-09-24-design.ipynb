{
 "cells": [
  {
   "cell_type": "markdown",
   "metadata": {},
   "source": [
    "# SciOly Website Design\n",
    "> design for SciOly website\n",
    "\n",
    "- title: SciOly Website Design\n",
    "- toc: true\n",
    "- badges: true\n",
    "- comments: false\n",
    "- author: Don Tran\n",
    "- categories: [pbl, week 5]"
   ]
  },
  {
   "cell_type": "markdown",
   "metadata": {},
   "source": [
    "## General Idea\n",
    "For our project, we're making a Spring Boot Based Website for Del Norte's Science Olympiad club. For the most part, the website will be heavily UI based given that we're basing it off of Canvas. However, an important aspect of the website will be the management of members, events, and teams which will involve a large amount of OOP programming to organize all our members and create a cohesive, easily navigable, and robust website. The central goal of our website is to provide a website that will enable our club to easily manage members, provide a comprehensive archive or resources, implementations of important processes (registering, event placement, team selection, competing), and provide easy communication of announcements."
   ]
  },
  {
   "cell_type": "markdown",
   "metadata": {},
   "source": [
    "### Wire Frame\n",
    "!(wireframe)[]"
   ]
  }
 ],
 "metadata": {
  "kernelspec": {
   "display_name": "Java",
   "language": "java",
   "name": "java"
  },
  "language_info": {
   "name": "java"
  },
  "orig_nbformat": 4
 },
 "nbformat": 4,
 "nbformat_minor": 2
}
