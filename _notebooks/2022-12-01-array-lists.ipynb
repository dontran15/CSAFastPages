{
 "cells": [
  {
   "cell_type": "markdown",
   "metadata": {},
   "source": [
    "# Unit 7 Array Lists Notes & HW\n",
    "> Array List study notes and homework at the bottom\n",
    "\n",
    "- title: Array Lists Notes & HW\n",
    "- badges: true\n",
    "- toc: true\n",
    "- categories: [college board, unit 7]"
   ]
  },
  {
   "cell_type": "markdown",
   "metadata": {},
   "source": [
    "### Intro Notes\n",
    "\n",
    "ArrayLists have a reference type\n",
    "The difference bewteeen Arrays and ArrayLists are that ArrayLists have a mutable size while Arrays do not. \n",
    "Can add, find size clear, remove at an index tet an index or checki if the list is empty\n",
    "for loop\n",
    "\n",
    "Ehanced for loop \"for each\" iterates through each item in the ArrayList to directly get the token of the ArrayList\n",
    "\n",
    "It's a way of organizing anything, particularly Java objects. ArrayLists can only store wrapper classes and java objects which differs from say lists or arrays.\n",
    "\n",
    "### Min Max\n",
    "CAn iterate through and set a variable equal to comparison variable and continue until finished\n",
    "\n",
    "### Searching\n",
    "a for loop looking for the index of a certain which can be done with a combination of if/else statements and other conditionals\n",
    "Order matters in a search, for instance if we have 5 ducks, it will iterate sequentially, sorts them in specified order, usually descending or ascending order through sort()"
   ]
  },
  {
   "cell_type": "markdown",
   "metadata": {},
   "source": [
    "### Homework"
   ]
  },
  {
   "cell_type": "code",
   "execution_count": 7,
   "metadata": {},
   "outputs": [
    {
     "name": "stdout",
     "output_type": "stream",
     "text": [
      "------------------\n",
      "Reverse Order: \n",
      "Your mom\n",
      "Eighty Six\n",
      "Cool\n",
      "86\n",
      "5AB3\n",
      "5.0\n",
      "5\n",
      "Swap 1st & Last Element: \n",
      "5\n",
      "Eighty Six\n",
      "Cool\n",
      "86\n",
      "5AB3\n",
      "5.0\n",
      "Your mom\n"
     ]
    }
   ],
   "source": [
    "import java.util.ArrayList;\n",
    "import java.util.Collections;\n",
    "\n",
    "// Initializing an ArrayList filled with strings\n",
    "ArrayList<String> strings = new ArrayList<>();\n",
    "strings.add(\"5\");\n",
    "strings.add(\"5.0\");\n",
    "strings.add(\"5AB3\");\n",
    "strings.add(\"Eighty Six\");\n",
    "strings.add(\"86\");\n",
    "strings.add(\"Your mom\");\n",
    "strings.add(\"Cool\");\n",
    "\n",
    "// function to iterate and print out items\n",
    "public void print(ArrayList<String> strings){\n",
    "    for (String str : strings){\n",
    "        System.out.println(str);\n",
    "    }\n",
    "}\n",
    "\n",
    "// 1st bullet (Sort an ArrayList in descending order and swap the first and last elements)\n",
    "System.out.println(\"------------------\");\n",
    "Collections.sort(strings, Collections.reverseOrder());\n",
    "System.out.println(\"Reverse Order: \");\n",
    "print(strings);\n",
    "\n",
    "System.out.println(\"Swap 1st & Last Element: \");\n",
    "String temp = strings.get(0);\n",
    "strings.remove(0);\n",
    "strings.add(0,strings.get(strings.size()-1));\n",
    "strings.remove(strings.size()-1);\n",
    "strings.add(strings.size(), temp);\n",
    "\n",
    "print(strings);\n"
   ]
  },
  {
   "cell_type": "code",
   "execution_count": 12,
   "metadata": {},
   "outputs": [
    {
     "name": "stdout",
     "output_type": "stream",
     "text": [
      "Unsorted hashCode: -1406022601\n",
      "Sorted hashCode: 1650288503\n"
     ]
    }
   ],
   "source": [
    "// Initializing an ArrayList filled with strings\n",
    "ArrayList<String> strings = new ArrayList<>();\n",
    "strings.add(\"5\");\n",
    "strings.add(\"5.0\");\n",
    "strings.add(\"5AB3\");\n",
    "strings.add(\"Eighty Six\");\n",
    "strings.add(\"86\");\n",
    "strings.add(\"Your mom\");\n",
    "strings.add(\"Cool\");\n",
    "\n",
    "// 2nd bullet point (Find and display the hashCode of an Arraylist before and after being sorted)\n",
    "\n",
    "// hashCode before being sorted\n",
    "System.out.println(\"Unsorted hashCode: \" + strings.hashCode());\n",
    "\n",
    "// sorted hashCode\n",
    "Collections.sort(strings);\n",
    "System.out.println(\"Sorted hashCode: \" + strings.hashCode());"
   ]
  }
 ],
 "metadata": {
  "kernelspec": {
   "display_name": "Java",
   "language": "java",
   "name": "java"
  },
  "language_info": {
   "codemirror_mode": "java",
   "file_extension": ".jshell",
   "mimetype": "text/x-java-source",
   "name": "java",
   "pygments_lexer": "java",
   "version": "18.0.1.1+2-6"
  },
  "orig_nbformat": 4,
  "vscode": {
   "interpreter": {
    "hash": "aee8b7b246df8f9039afb4144a1f6fd8d2ca17a180786b69acc140d282b71a49"
   }
  }
 },
 "nbformat": 4,
 "nbformat_minor": 2
}
