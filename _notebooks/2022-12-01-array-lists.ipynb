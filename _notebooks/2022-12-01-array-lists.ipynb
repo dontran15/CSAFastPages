{
 "cells": [
  {
   "cell_type": "markdown",
   "metadata": {},
   "source": [
    "# Unit 7 Array Lists Notes & HW\n",
    "> Array List study notes and homework at the bottom\n",
    "\n",
    "- title: Array Lists Notes & HW\n",
    "- badges: true\n",
    "- toc: true\n",
    "- categories: [college board, unit 7]"
   ]
  },
  {
   "cell_type": "markdown",
   "metadata": {},
   "source": [
    "## Intro Notes\n",
    "\n",
    "ArrayLists have a reference type\n",
    "The difference bewteeen Arrays and ArrayLists are that ArrayLists have a mutable size while Arrays do not. \n",
    "Can add, find size clear, remove at an index tet an index or checki if the list is empty\n",
    "for loop\n",
    "\n",
    "Ehanced for loop \"for each\" iterates through each item in the ArrayList to directly get the token of the ArrayList\n",
    "\n",
    "It's a way of organizing anything, particularly Java objects. ArrayLists can only store wrapper classes and java objects which differs from say lists or arrays.\n",
    "\n",
    "## Min Max\n",
    "CAn iterate through and set a variable equal to comparison variable and continue until finished\n",
    "\n",
    "## Searching\n",
    "a for loop looking for the index of a certain which can be done with a combination of if/else statements and other conditionals\n",
    "Order matters in a search, for instance if we have 5 ducks, it will iterate sequentially, sorts them in specified order, usually descending or ascending order through sort()"
   ]
  },
  {
   "cell_type": "code",
   "execution_count": null,
   "metadata": {},
   "outputs": [],
   "source": []
  }
 ],
 "metadata": {
  "kernelspec": {
   "display_name": "Java",
   "language": "java",
   "name": "java"
  },
  "language_info": {
   "name": "java",
   "version": "3.10.6"
  },
  "orig_nbformat": 4,
  "vscode": {
   "interpreter": {
    "hash": "aee8b7b246df8f9039afb4144a1f6fd8d2ca17a180786b69acc140d282b71a49"
   }
  }
 },
 "nbformat": 4,
 "nbformat_minor": 2
}
