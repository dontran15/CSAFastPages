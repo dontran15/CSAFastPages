{
 "cells": [
  {
   "attachments": {},
   "cell_type": "markdown",
   "metadata": {},
   "source": [
    "# FRQs\n",
    "> FRQs\n",
    "\n",
    "- title: FRQs\n",
    "- badges: true\n",
    "- toc: true\n",
    "- comments: true\n",
    "- categories: [collegeboard]"
   ]
  },
  {
   "attachments": {},
   "cell_type": "markdown",
   "metadata": {},
   "source": [
    "### 2014 FRQ 1"
   ]
  },
  {
   "cell_type": "code",
   "execution_count": 37,
   "metadata": {
    "vscode": {
     "languageId": "java"
    }
   },
   "outputs": [
    {
     "name": "stdout",
     "output_type": "stream",
     "text": [
      "EGGS\n"
     ]
    }
   ],
   "source": [
    "// Part A\n",
    "public static String scrambleWord(String word){\n",
    "    String scrambled = \"\";\n",
    "\n",
    "    for(int i = 1; i < word.length(); i++){\n",
    "        word.substring(i-1,i+1);\n",
    "        if(word.substring(i-1, i).equals(\"A\") && !word.substring(i, i+1).equals(\"A\")){\n",
    "            scrambled += word.substring(i, i+1);\n",
    "            scrambled += word.substring(i-1, i);\n",
    "            i++;\n",
    "        } else{\n",
    "            scrambled += word.substring(i-1, i);\n",
    "            if(i == word.length() - 1){\n",
    "                scrambled += word.substring(i, i+1);\n",
    "            }\n",
    "        }\n",
    "\n",
    "    }\n",
    "\n",
    "    \n",
    "    return scrambled;\n",
    "}\n",
    "\n",
    "System.out.println(scrambleWord(\"EGGS\"));"
   ]
  },
  {
   "cell_type": "code",
   "execution_count": 40,
   "metadata": {
    "vscode": {
     "languageId": "java"
    }
   },
   "outputs": [
    {
     "name": "stdout",
     "output_type": "stream",
     "text": [
      "[TAN, ABRACADABARA, APPLE]\n"
     ]
    }
   ],
   "source": [
    "// Part B\n",
    "public static void scrambleOrRemove(String[] wordList){\n",
    "    ArrayList<String> newList = new ArrayList<>();\n",
    "    \n",
    "    for(String word : wordList){\n",
    "        if(!scrambleWord(word).equals(word)){\n",
    "            newList.add(word);\n",
    "        }\n",
    "        else{}\n",
    "    }\n",
    "\n",
    "    System.out.println(newList);\n",
    "}\n",
    "\n",
    "String wordList[] = {\"TAN\", \"ABRACADABARA\", \"WHOA\", \"APPLE\", \"EGGS\"};\n",
    "scrambleOrRemove(wordList);"
   ]
  },
  {
   "attachments": {},
   "cell_type": "markdown",
   "metadata": {},
   "source": [
    "### 2014 FRQ 2 "
   ]
  },
  {
   "cell_type": "code",
   "execution_count": null,
   "metadata": {
    "vscode": {
     "languageId": "java"
    }
   },
   "outputs": [],
   "source": [
    "public class Director extends Rock { //copied from college board since we dnt have grid any more\n",
    "    public Director(){\n",
    "        super(Color.RED);\n",
    "    }\n",
    "\n",
    "    public void act(){\n",
    "        if(getColor().equals(Color.GREEEN)){\n",
    "            ArrayList<Actor> neighbors = getGRid(.getNeighbors(getLocation()));\n",
    "            for(Actor actor:neighbors){\n",
    "                actor.setDirection(actor.getDirection() + Location.RIGHT)\n",
    "            }\n",
    "            setColor(Color.RED)\n",
    "        }\n",
    "        else{\n",
    "            setColor(Color.GREEN);\n",
    "        }\n",
    "    }\n",
    "}"
   ]
  },
  {
   "attachments": {},
   "cell_type": "markdown",
   "metadata": {},
   "source": [
    "### 2014 FRQ 3"
   ]
  },
  {
   "cell_type": "code",
   "execution_count": 44,
   "metadata": {
    "vscode": {
     "languageId": "java"
    }
   },
   "outputs": [
    {
     "name": "stdout",
     "output_type": "stream",
     "text": [
      "Karen Lester Glen Danny \n",
      "Liz Henry Fran null \n",
      "Paul Renee David null \n",
      "------------------\n",
      "Karen Lester Glen Danny \n",
      "Liz null null null \n",
      "Paul null David null \n"
     ]
    },
    {
     "data": {
      "text/plain": [
       "3"
      ]
     },
     "execution_count": 44,
     "metadata": {},
     "output_type": "execute_result"
    }
   ],
   "source": [
    "public class Student{\n",
    "    private String name;\n",
    "    private int absenceCount;\n",
    "\n",
    "    public Student(String name, int absenceCount){\n",
    "        this.name = name;\n",
    "        this.absenceCount = absenceCount;\n",
    "    }\n",
    "\n",
    "    public String getName(){\n",
    "        return this.name;\n",
    "    }\n",
    "\n",
    "    public int getAbsenceCount(){\n",
    "        return this.absenceCount;\n",
    "    }\n",
    "}\n",
    "\n",
    "public class SeatingChart {\n",
    "    private Student[][] seats;\n",
    "    public SeatingChart(List<Student> studentList, int rows, int cols){\n",
    "        seats = new Student[rows][cols];\n",
    "        \n",
    "        int studentCount = 0;\n",
    "\n",
    "        for(int i = 0; i < seats[0].length; i++){\n",
    "            for(int j = 0; j < seats.length; j++){\n",
    "                if(studentCount < studentList.size()){\n",
    "                    seats[j][i] = studentList.get(studentCount);\n",
    "                    studentCount++;\n",
    "                } else {\n",
    "                    seats[j][i] = null;\n",
    "                }\n",
    "                \n",
    "            }\n",
    "        }\n",
    "    }\n",
    "\n",
    "    public int removeAbsentStudents(int allowedAbsences){\n",
    "        int count = 0;\n",
    "        for(int i = 0; i < seats[0].length; i++){\n",
    "            for(int j = 0; j < seats.length; j++){\n",
    "                if(seats[j][i] == null){\n",
    "                    continue;\n",
    "                }\n",
    "                if(seats[j][i].getAbsenceCount() > allowedAbsences){\n",
    "                    seats[j][i] = null;\n",
    "                    count++;\n",
    "                }\n",
    "            }\n",
    "        }\n",
    "\n",
    "        System.out.println(\"------------------\");\n",
    "        this.print();\n",
    "        return count;\n",
    "    }\n",
    "\n",
    "\n",
    "    public void print(){\n",
    "        for(Student[] students : this.seats){\n",
    "            for(Student student : students){\n",
    "                if(student != null){\n",
    "                    System.out.print(student.getName() + \" \");\n",
    "                } else {\n",
    "                    System.out.print(\"null \");\n",
    "                }\n",
    "            }\n",
    "\n",
    "            System.out.println();\n",
    "        }\n",
    "    }\n",
    "}\n",
    "\n",
    "List<Student> studentList = new ArrayList<>();\n",
    "studentList.add(new Student(\"Karen\", 3));\n",
    "studentList.add(new Student(\"Liz\", 1));\n",
    "studentList.add(new Student(\"Paul\", 1));\n",
    "studentList.add(new Student(\"Lester\", 1));\n",
    "studentList.add(new Student(\"Henry\", 5));\n",
    "studentList.add(new Student(\"Renee\", 9));\n",
    "studentList.add(new Student(\"Glen\", 2));\n",
    "studentList.add(new Student(\"Fran\", 6));\n",
    "studentList.add(new Student(\"David\", 1));\n",
    "studentList.add(new Student(\"Danny\", 3));\n",
    "\n",
    "SeatingChart seatingChart = new SeatingChart(studentList, 3, 4);\n",
    "\n",
    "seatingChart.print();\n",
    "\n",
    "seatingChart.removeAbsentStudents(4);"
   ]
  },
  {
   "attachments": {},
   "cell_type": "markdown",
   "metadata": {},
   "source": [
    "### FRQ 4"
   ]
  },
  {
   "cell_type": "code",
   "execution_count": 82,
   "metadata": {
    "vscode": {
     "languageId": "java"
    }
   },
   "outputs": [
    {
     "name": "stdout",
     "output_type": "stream",
     "text": [
      "Cheeseburger/Spinach Salad Trio\n",
      "4.0\n",
      "Cappuccino/Cheeseburger Trio\n",
      "6.25\n",
      "Club Sandwich/Spinach Salad Trio\n",
      "4.0\n"
     ]
    }
   ],
   "source": [
    "public interface MenuItem {\n",
    "    public String getName();\n",
    "\n",
    "    public double getPrice();\n",
    "}\n",
    "\n",
    "public class Sandwich implements MenuItem{ String name;\n",
    "    double price;\n",
    "    \n",
    "    public Sandwich(String name, double price){\n",
    "        this.name = name;\n",
    "        this.price = price;\n",
    "    }\n",
    "\n",
    "    @Override\n",
    "    public String getName(){\n",
    "        return this.name;\n",
    "    }\n",
    "\n",
    "    @Override\n",
    "    public double getPrice(){\n",
    "        return this.price;\n",
    "    }\n",
    "}\n",
    "\n",
    "public class Salad implements MenuItem{\n",
    "    String name;\n",
    "    double price;\n",
    "    \n",
    "    public Salad(String name, double price){\n",
    "        this.name = name;\n",
    "        this.price = price;\n",
    "    }\n",
    "    \n",
    "    @Override\n",
    "    public String getName(){\n",
    "        return this.name;\n",
    "    }\n",
    "\n",
    "    @Override\n",
    "    public double getPrice(){\n",
    "        return this.price;\n",
    "    }\n",
    "}\n",
    "\n",
    "public class Drink implements MenuItem{\n",
    "    String name;\n",
    "    double price;\n",
    "    \n",
    "    public Drink(String name, double price){\n",
    "        this.name = name;\n",
    "        this.price = price;\n",
    "    }\n",
    "    \n",
    "    @Override\n",
    "    public String getName(){\n",
    "        return this.name;\n",
    "    }\n",
    "\n",
    "    @Override\n",
    "    public double getPrice(){\n",
    "        return this.price;\n",
    "    }\n",
    "}\n",
    "\n",
    "public class Trio implements MenuItem {\n",
    "    Sandwich sandwich;\n",
    "    Salad salad;\n",
    "    Drink drink;\n",
    "\n",
    "    String name;\n",
    "    double price;\n",
    "\n",
    "    public Trio(Sandwich sandwich, Salad salad, Drink drink){\n",
    "        this.sandwich = sandwich;\n",
    "        this.salad = salad;\n",
    "        this.drink = drink;\n",
    "\n",
    "        double total = 0;\n",
    "        String string = \"\";\n",
    "        if(this.sandwich.getPrice() >= this.salad.getPrice() && this.sandwich.getPrice() >= drink.getPrice()){\n",
    "            if(this.salad.getPrice() >= drink.getPrice()){\n",
    "                total += sandwich.getPrice() + salad.getPrice();\n",
    "                string += this.sandwich.getName() + \"/\" + this.salad.getName() + \" Trio\";\n",
    "            } else {\n",
    "                total += sandwich.getPrice() + drink.getPrice();\n",
    "                string += this.sandwich.getName() + \"/\" + this.drink.getName() + \" Trio\";\n",
    "            }   \n",
    "        } else if(this.drink.getPrice() >= this.sandwich.getPrice() && this.drink.getPrice() >= salad.getPrice()){\n",
    "            if(this.salad.getPrice() >= sandwich.getPrice()){\n",
    "                total += drink.getPrice() + salad.getPrice();\n",
    "                string += this.drink.getName() + \"/\" + this.salad.getName() + \" Trio\";\n",
    "            } else {\n",
    "                total += drink.getPrice() + sandwich.getPrice();\n",
    "                string += this.drink.getName() + \"/\" + this.sandwich.getName() + \" Trio\";\n",
    "            }\n",
    "        } else {\n",
    "            if(this.drink.getPrice() >= sandwich.getPrice()){\n",
    "                total += salad.getPrice() + drink.getPrice();\n",
    "                string += this.drink.getName() + \"/\" + this.sandwich.getName() + \" Trio\";\n",
    "            } else {\n",
    "                total += salad.getPrice() + sandwich.getPrice();\n",
    "                string += this.salad.getName() + \"/\" + this.sandwich.getName() + \" Trio\";\n",
    "            }\n",
    "        }\n",
    "\n",
    "        this.price = total;\n",
    "        this.name = string;\n",
    "        \n",
    "    }\n",
    "\n",
    "    @Override\n",
    "    public String getName(){\n",
    "        return this.name;\n",
    "    }\n",
    "\n",
    "    @Override\n",
    "    public double getPrice(){\n",
    "        return this.price;\n",
    "    }\n",
    "\n",
    "    public static void tester(String[] args){\n",
    "        Trio trio1 = new Trio(new Sandwich(\"Cheeseburger\", 2.75), new Salad(\"Spinach Salad\", 1.25), new Drink(\"Orange Soda\", 1.25)); \n",
    "        Trio trio2 = new Trio(new Sandwich(\"Cheeseburger\", 2.75), new Salad(\"Coleslaw\", 1.25), new Drink(\"Cappuccino\", 3.50)); \n",
    "        Trio trio3 = new Trio(new Sandwich(\"Club Sandwich\", 2.75), new Salad(\"Spinach Salad\", 1.25), new Drink(\"Orange Soda\", 1.25)); \n",
    "        System.out.println(trio1.getName());\n",
    "        System.out.println(trio1.getPrice());\n",
    "        System.out.println(trio2.getName());\n",
    "        System.out.println(trio2.getPrice());\n",
    "        System.out.println(trio3.getName());\n",
    "        System.out.println(trio3.getPrice());\n",
    "    }\n",
    "}\n",
    "\n",
    "Trio.tester(null);"
   ]
  },
  {
   "attachments": {},
   "cell_type": "markdown",
   "metadata": {},
   "source": [
    "#### Notes:\n",
    "Misread problem, just combine all the names, get better at reading lol\n",
    "\n",
    "For if statements checking for conditions, think of how many conditions there are (total outcomes) and make if statements accordingly. 3 outcomes = 3 if statements only. Helps for simplification."
   ]
  },
  {
   "attachments": {},
   "cell_type": "markdown",
   "metadata": {},
   "source": [
    "## 2006 FRQ 1"
   ]
  },
  {
   "cell_type": "code",
   "execution_count": null,
   "metadata": {
    "vscode": {
     "languageId": "java"
    }
   },
   "outputs": [],
   "source": [
    "// part a\n",
    "public boolean conflictsWith(Appointment other){\n",
    "    if(other.getTime().overlapsWith(this.getTime())){\n",
    "        return true;\n",
    "    }\n",
    "    return false;\n",
    "}\n",
    "\n",
    "// part b\n",
    "public void clearConflicts(Appointment appt){\n",
    "    for (int i = 0; i< apptList.size(); i++) {\n",
    "        if (appt.conflictsWith((Appointment) apptList.get(i))) { // cast\n",
    "            apptList.remove(i);\n",
    "        }\n",
    "    }\n",
    "}\n",
    "\n",
    "// part c\n",
    "public boolean addAppt(Appointment appt, boolean emergency) {\n",
    "    if (emergency) {\n",
    "        clearConflicts(appt);\n",
    "        this.apptList.add(appt);\n",
    "        return true;\n",
    "    } else{\n",
    "        if(!conflictsWith(appt)) { // loop through conflicts\n",
    "            this.apptList.add(appt);\n",
    "            return true\n",
    "        }\n",
    "    }\n",
    "    return false;\n",
    "}"
   ]
  }
 ],
 "metadata": {
  "kernelspec": {
   "display_name": "Java",
   "language": "java",
   "name": "java"
  },
  "language_info": {
   "codemirror_mode": "java",
   "file_extension": ".jshell",
   "mimetype": "text/x-java-source",
   "name": "Java",
   "pygments_lexer": "java",
   "version": "18.0.1.1+2-6"
  },
  "orig_nbformat": 4
 },
 "nbformat": 4,
 "nbformat_minor": 2
}
