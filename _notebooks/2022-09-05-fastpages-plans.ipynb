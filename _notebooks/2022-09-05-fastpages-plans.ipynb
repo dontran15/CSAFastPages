{
 "cells": [
  {
   "cell_type": "markdown",
   "metadata": {},
   "source": [
    "# Plans for Personal Fastpages\n",
    "> A general outline for how I want to use and format my fastpages and how I'll hopefully push it.\n",
    "\n",
    "- title: Plan for Personal Fastpages\n",
    "- toc: true\n",
    "- categories: [pbl, week 2]"
   ]
  },
  {
   "cell_type": "markdown",
   "metadata": {},
   "source": [
    "## Future Plan For Fastpages!\n",
    "I'll update and give a comprehensive plan relatively soon."
   ]
  }
 ],
 "metadata": {
  "kernelspec": {
   "display_name": "Java",
   "language": "java",
   "name": "java"
  },
  "language_info": {
   "name": "java",
   "version": "3.10.6"
  },
  "orig_nbformat": 4,
  "vscode": {
   "interpreter": {
    "hash": "aee8b7b246df8f9039afb4144a1f6fd8d2ca17a180786b69acc140d282b71a49"
   }
  }
 },
 "nbformat": 4,
 "nbformat_minor": 2
}
