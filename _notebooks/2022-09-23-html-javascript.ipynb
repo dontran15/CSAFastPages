{
 "cells": [
  {
   "cell_type": "markdown",
   "metadata": {},
   "source": [
    "# Javascript and HTML Hacks\n",
    "> js and html hack for this week\n",
    "\n",
    "- title: Javascript and HTML Hacks\n",
    "- toc: true\n",
    "- badges: true\n",
    "- comments: false\n",
    "- author: Don Tran\n",
    "- categories: [pbl, javascript, week 5]"
   ]
  }
 ],
 "metadata": {
  "kernelspec": {
   "display_name": "Java",
   "language": "java",
   "name": "java"
  },
  "language_info": {
   "name": "java",
   "version": "3.10.6"
  },
  "orig_nbformat": 4,
  "vscode": {
   "interpreter": {
    "hash": "aee8b7b246df8f9039afb4144a1f6fd8d2ca17a180786b69acc140d282b71a49"
   }
  }
 },
 "nbformat": 4,
 "nbformat_minor": 2
}
