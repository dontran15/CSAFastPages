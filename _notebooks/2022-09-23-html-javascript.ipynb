{
 "cells": [
  {
   "cell_type": "markdown",
   "metadata": {},
   "source": [
    "# Javascript and HTML Hacks\n",
    "> js and html hack for this week\n",
    "\n",
    "- title: Javascript and HTML Hacks\n",
    "- toc: true\n",
    "- badges: true\n",
    "- comments: false\n",
    "- author: Don Tran\n",
    "- categories: [pbl, javascript, week 5]"
   ]
  },
  {
   "cell_type": "markdown",
   "metadata": {},
   "source": [
    "## Table for Competitors\n",
    "Basing my code off the JS notebook code, I made a table based providing information that needs to be kept track of for each competitor. It keeps track of their name, grade, events, and role in Science Olympiad. More information can be added for other data as well."
   ]
  },
  {
   "cell_type": "code",
   "execution_count": 66,
   "metadata": {},
   "outputs": [
    {
     "name": "stdout",
     "output_type": "stream",
     "text": [
      "object ; Member {\n",
      "  name: 'Rohang Gaikwad',\n",
      "  grade: '11th',\n",
      "  events: [ 'Dynamic planet', 'Astronomy', 'Rocks and Minerals' ],\n",
      "  role: '' }\n",
      "string ; {\"name\":\"Rohang Gaikwad\",\"grade\":\"11th\",\"events\":[\"Dynamic planet\",\"Astronomy\",\"Rocks and Minerals\"],\"role\":\"\"}\n",
      "object ; Member {\n",
      "  name: 'Rohang Gaikwad',\n",
      "  grade: '11th',\n",
      "  events: [ 'Dynamic planet', 'Astronomy', 'Rocks and Minerals' ],\n",
      "  role: 'Vice President' }\n",
      "string ; {\"name\":\"Rohang Gaikwad\",\"grade\":\"11th\",\"events\":[\"Dynamic planet\",\"Astronomy\",\"Rocks and Minerals\"],\"role\":\"Vice President\"}\n"
     ]
    }
   ],
   "source": [
    "//logging function\n",
    "function logIt(output) {\n",
    "    console.log(output);\n",
    "}\n",
    "\n",
    "// define a function to hold data for a Person\n",
    "function Member(name, grade, events) {\n",
    "    this.name = name;\n",
    "    this.grade = grade;\n",
    "    this.events = events;\n",
    "    this.role = \"\";\n",
    "}\n",
    "\n",
    "// define a setter for role in Person data\n",
    "Member.prototype.setRole = function(role) {\n",
    "    this.role = role;\n",
    "}\n",
    "\n",
    "// define a JSON conversion \"method\" associated with Person\n",
    "Member.prototype.toJSON = function() {\n",
    "    const obj = {name: this.name, grade: this.grade, events: this.events, role: this.role};\n",
    "    const json = JSON.stringify(obj);  // json/string is useful when passing data on internet\n",
    "    return json;\n",
    "}\n",
    "\n",
    "// make a new Person and assign to variable teacher\n",
    "var vicePresident = new Member(\"Rohang Gaikwad\", \"11th\", [\"Dynamic planet\", \"Astronomy\", \"Rocks and Minerals\"]);  // object type is easy to work with in JavaScript\n",
    "logItType(vicePresident);  // before role\n",
    "logItType(vicePresident.toJSON());  // ok to do this even though role is not yet defined\n",
    "\n",
    "// output of Object and JSON/string associated with Teacher\n",
    "vicePresident.setRole(\"Vice President\");   // set the role\n",
    "logItType(vicePresident); \n",
    "logItType(vicePresident.toJSON());"
   ]
  },
  {
   "cell_type": "code",
   "execution_count": 67,
   "metadata": {},
   "outputs": [
    {
     "name": "stdout",
     "output_type": "stream",
     "text": [
      "object ; [ Member {\n",
      "    name: 'Rohang Gaikwad',\n",
      "    grade: '11th',\n",
      "    events: [ 'Dynamic planet', 'Astronomy', 'Rocks and Minerals' ],\n",
      "    role: 'Vice President' },\n",
      "  Member {\n",
      "    name: 'John',\n",
      "    grade: '9th',\n",
      "    events: [ 'Fermi questions', 'Trajectory' ],\n",
      "    role: 'Competitor' },\n",
      "  Member {\n",
      "    name: 'Jack',\n",
      "    grade: '10th',\n",
      "    events: [ 'Anatomy', 'Cell Biology' ],\n",
      "    role: 'Competitor' },\n",
      "  Member {\n",
      "    name: 'Jill',\n",
      "    grade: '12th',\n",
      "    events: [ 'Astronomy', 'Write It Do It' ],\n",
      "    role: 'Competitor' },\n",
      "  Member {\n",
      "    name: 'Bob',\n",
      "    grade: '10th',\n",
      "    events: [ 'Green Generation', 'Environmental Chemistry' ],\n",
      "    role: 'Competitor' },\n",
      "  Member {\n",
      "    name: 'Becca',\n",
      "    grade: '11th',\n",
      "    events: [ 'Flight', 'Scrambler' ],\n",
      "    role: 'Competitor' } ]\n",
      "string ; Rohang Gaikwad\n",
      "string ; {\"name\":\"Rohang Gaikwad\",\"grade\":\"11th\",\"events\":[\"Dynamic planet\",\"Astronomy\",\"Rocks and Minerals\"],\"role\":\"Vice President\"}\n",
      "object ; { name: 'Rohang Gaikwad',\n",
      "  grade: '11th',\n",
      "  events: [ 'Dynamic planet', 'Astronomy', 'Rocks and Minerals' ],\n",
      "  role: 'Vice President' }\n"
     ]
    }
   ],
   "source": [
    "// define a student Array of Person(s)\n",
    "var competitors = [ \n",
    "    new Member(\"John\", \"9th\", [\"Fermi questions\", \"Trajectory\"]),\n",
    "    new Member(\"Jack\", \"10th\", [\"Anatomy\", \"Cell Biology\"]),\n",
    "    new Member(\"Jill\", \"12th\", [\"Astronomy\", \"Write It Do It\"]),\n",
    "    new Member(\"Bob\", \"10th\", [\"Green Generation\", \"Environmental Chemistry\"]),\n",
    "    new Member(\"Becca\", \"11th\", [\"Flight\", \"Scrambler\"])\n",
    "];\n",
    "\n",
    "// define a classroom and build Classroom objects and json\n",
    "function SciOly(vicePresident, competitors){ // 1 teacher, many student\n",
    "    // start Classroom with Teacher\n",
    "    vicePresident.setRole(\"Vice President\");\n",
    "    this.vicePresident = vicePresident;\n",
    "    this.scioly = [vicePresident];\n",
    "    // add each Student to Classroom\n",
    "    this.competitors = competitors;\n",
    "    this.competitors.forEach(competitors => { competitors.setRole(\"Competitor\"); this.scioly.push(competitors); });\n",
    "    // build json/string format of Classroom\n",
    "    this.json = [];\n",
    "    this.scioly.forEach(member => this.json.push(member.toJSON()));\n",
    "}\n",
    "\n",
    "// make a CompSci classroom from formerly defined teacher and students\n",
    "dnSciOly = new SciOly(vicePresident, competitors);\n",
    "\n",
    "// output of Objects and JSON in CompSci classroom\n",
    "logItType(dnSciOly.scioly);  // constructed classroom object\n",
    "logItType(dnSciOly.scioly[0].name);  // abstract 1st objects name\n",
    "logItType(dnSciOly.json[0]);  // show json conversion of 1st object to string\n",
    "logItType(JSON.parse(dnSciOly.json[0]));  // show JSON.parse inverse of JSON.stringify"
   ]
  },
  {
   "cell_type": "code",
   "execution_count": 68,
   "metadata": {},
   "outputs": [
    {
     "data": {
      "text/html": [
       "<div style='display:inline-block;border: 2px solid grey;box-shadow: 0.8em 0.4em 0.4em grey;'><table id = 'result'><tr><th><mark>Name</mark></th><th><mark>Grade</mark></th><th><mark>Events</mark></th><th><mark>Role</mark></th></tr><tr><td>Rohang Gaikwad</td><td>11th</td><td>Dynamic planet, Astronomy, Rocks and Minerals</td><td>Vice President</td><tr><tr><td>John</td><td>9th</td><td>Fermi questions, Trajectory</td><td>Competitor</td><tr><tr><td>Jack</td><td>10th</td><td>Anatomy, Cell Biology</td><td>Competitor</td><tr><tr><td>Jill</td><td>12th</td><td>Astronomy, Write It Do It</td><td>Competitor</td><tr><tr><td>Bob</td><td>10th</td><td>Green Generation, Environmental Chemistry</td><td>Competitor</td><tr><tr><td>Becca</td><td>11th</td><td>Flight, Scrambler</td><td>Competitor</td><tr></table></div>"
      ]
     },
     "execution_count": 68,
     "metadata": {},
     "output_type": "execute_result"
    }
   ],
   "source": [
    "// define an HTML conversion \"method\" associated with Classroom\n",
    "SciOly.prototype._toHtml = function() {\n",
    "    // HTML Style is build using inline structure\n",
    "    var style = (\n",
    "      \"display:inline-block;\" +\n",
    "      \"border: 2px solid grey;\" +\n",
    "      \"box-shadow: 0.8em 0.4em 0.4em grey;\"\n",
    "    );\n",
    "  \n",
    "    // HTML Body of Table is build as a series of concatenations (+=)\n",
    "    var body = \"\";\n",
    "    // Heading for Array Columns\n",
    "    body += \"<tr>\";\n",
    "    body += \"<th><mark>\" + \"Name\" + \"</mark></th>\";\n",
    "    body += \"<th><mark>\" + \"Grade\" + \"</mark></th>\";\n",
    "    body += \"<th><mark>\" + \"Events\" + \"</mark></th>\";\n",
    "    body += \"<th><mark>\" + \"Role\" + \"</mark></th>\";\n",
    "    body += \"</tr>\";\n",
    "    // Data of Array, iterate through each row of compsci.classroom \n",
    "    for (var row in dnSciOly.scioly) {\n",
    "      // tr for each row, a new line\n",
    "      body += \"<tr>\";\n",
    "      // td for each column of data\n",
    "      body += \"<td>\" + dnSciOly.scioly[row].name + \"</td>\";\n",
    "      body += \"<td>\" + dnSciOly.scioly[row].grade + \"</td>\";\n",
    "      body += \"<td>\" + dnSciOly.scioly[row].events.join(\", \") + \"</td>\";\n",
    "      body += \"<td>\" + dnSciOly.scioly[row].role + \"</td>\";\n",
    "      // tr to end line\n",
    "      body += \"<tr>\";\n",
    "    }\n",
    "  \n",
    "     // Build and HTML fragment of div, table, table body\n",
    "    return (\n",
    "      \"<div style='\" + style + \"'>\" +\n",
    "        \"<table id = 'result'>\" +\n",
    "          body +\n",
    "        \"</table>\" +\n",
    "      \"</div>\"\n",
    "    );\n",
    "  \n",
    "  };\n",
    "  \n",
    "  // IJavaScript HTML processor receive parameter of defined HTML fragment\n",
    "  $$.html(dnSciOly._toHtml());"
   ]
  }
 ],
 "metadata": {
  "kernelspec": {
   "display_name": "JavaScript (Node.js)",
   "language": "javascript",
   "name": "javascript"
  },
  "language_info": {
   "file_extension": ".js",
   "mimetype": "application/javascript",
   "name": "javascript",
   "version": "10.13.0"
  },
  "orig_nbformat": 4,
  "vscode": {
   "interpreter": {
    "hash": "aee8b7b246df8f9039afb4144a1f6fd8d2ca17a180786b69acc140d282b71a49"
   }
  }
 },
 "nbformat": 4,
 "nbformat_minor": 2
}
