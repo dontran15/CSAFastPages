{
 "cells": [
  {
   "attachments": {},
   "cell_type": "markdown",
   "metadata": {},
   "source": [
    "# 4/20 Test\n",
    "> Ok um :sob:\n",
    "\n",
    "- title: Test\n",
    "- badges: true\n",
    "- toc: true\n",
    "- comments: true\n",
    "- categories: []"
   ]
  },
  {
   "attachments": {},
   "cell_type": "markdown",
   "metadata": {},
   "source": [
    "## Testing\n",
    "### Part 1 & Partial Part 2"
   ]
  },
  {
   "cell_type": "code",
   "execution_count": 46,
   "metadata": {
    "vscode": {
     "languageId": "java"
    }
   },
   "outputs": [
    {
     "name": "stdout",
     "output_type": "stream",
     "text": [
      "id: 1, titleCode Code Code!\n",
      "id: 2, titleCoding 101\n",
      "Number of Books: 2\n"
     ]
    }
   ],
   "source": [
    "public class Book {\n",
    "    private static long globalIDCounter = 0;\n",
    "\n",
    "    private static int bookCount;\n",
    "\n",
    "    private long id;\n",
    "    private String title;\n",
    "\n",
    "    /* new variable */\n",
    "    protected double startTime;\n",
    "    /* new variable */\n",
    "\n",
    "    public Book(String title){\n",
    "        this.id = Book.generateID();\n",
    "        this.title = title;\n",
    "        this.startTime = System.nanoTime();\n",
    "\n",
    "        Book.bookCount ++;\n",
    "    }\n",
    "\n",
    "    /*  new methods */\n",
    "    double shelfLife(){\n",
    "        return (System.nanoTime() - this.startTime);\n",
    "    }\n",
    "\n",
    "    public boolean readyToRemove(){\n",
    "        return (this.shelfLife() > 2 * 1000000000);\n",
    "    }\n",
    "    /* new methods */\n",
    "\n",
    "    public static long generateID(){\n",
    "        globalIDCounter += 1;\n",
    "        return globalIDCounter;\n",
    "    }\n",
    "\n",
    "    public String toString(){\n",
    "        return \"id: \" + Long.toString(this.id) + \", title\" + this.title;\n",
    "    }\n",
    "\n",
    "    public String toStringTitle(){\n",
    "        return this.title;\n",
    "    }\n",
    "\n",
    "    public long getID(){\n",
    "        return this.id;\n",
    "    }\n",
    "\n",
    "\n",
    "    public static int getBookCount(){\n",
    "        return Book.bookCount;\n",
    "    }\n",
    "\n",
    "    public static void tester(String[] args){\n",
    "        Book book1 = new Book(\"Code Code Code!\");\n",
    "        Book book2 = new Book(\"Coding 101\");\n",
    "\n",
    "        Book[] books = {book1, book2};\n",
    "\n",
    "        for (Book book : books){\n",
    "            System.out.println(book);\n",
    "        }\n",
    "\n",
    "        System.out.println(\"Number of Books: \" + Book.getBookCount());\n",
    "    }\n",
    "\n",
    "}\n",
    "\n",
    "Book.tester(null);"
   ]
  },
  {
   "attachments": {},
   "cell_type": "markdown",
   "metadata": {},
   "source": [
    "### Part 2"
   ]
  },
  {
   "cell_type": "code",
   "execution_count": 47,
   "metadata": {
    "vscode": {
     "languageId": "java"
    }
   },
   "outputs": [],
   "source": [
    "public class Novel extends Book {\n",
    "    private String author;\n",
    "    private int checkouts;\n",
    "\n",
    "    public Novel (String title){\n",
    "        super(title);\n",
    "        this.checkouts = 0;\n",
    "    }\n",
    "\n",
    "    public String getAuthor(){\n",
    "        return this.author;\n",
    "    }\n",
    "\n",
    "    public void setAuthor(String author){\n",
    "        this.author = author;\n",
    "    }\n",
    "\n",
    "    public void checkout(){\n",
    "        checkouts++;\n",
    "        this.startTime = System.nanoTime();\n",
    "    }\n",
    "}"
   ]
  },
  {
   "cell_type": "code",
   "execution_count": 48,
   "metadata": {
    "vscode": {
     "languageId": "java"
    }
   },
   "outputs": [],
   "source": [
    "public class Textbook extends Book {\n",
    "    private String publishingCompany;\n",
    "\n",
    "    public Textbook (String title){\n",
    "        super(title);\n",
    "    }\n",
    "\n",
    "    public String getPublishingCompany(){\n",
    "        return this.publishingCompany;\n",
    "    }\n",
    "\n",
    "    public void setPublishingCompany(String publishingCompany){\n",
    "        this.publishingCompany = publishingCompany;\n",
    "    }\n",
    "\n",
    "    \n",
    "}"
   ]
  },
  {
   "cell_type": "code",
   "execution_count": 55,
   "metadata": {
    "vscode": {
     "languageId": "java"
    }
   },
   "outputs": [
    {
     "name": "stdout",
     "output_type": "stream",
     "text": [
      "Should 'Harry Potter' be removed? false\n",
      "Should 'To Your Eternity' be removed? false\n",
      "Should 'Percy Jackson' be removed? false\n",
      "Should 'On the History of Stuff' be removed? false\n",
      "Should 'Your Guide To A 6900 SAT' be removed? false\n",
      "------------------------------\n",
      "Should 'Harry Potter' be removed? false\n",
      "Should 'To Your Eternity' be removed? true\n",
      "Should 'Percy Jackson' be removed? true\n",
      "Should 'On the History of Stuff' be removed? true\n",
      "Should 'Your Guide To A 6900 SAT' be removed? true\n"
     ]
    }
   ],
   "source": [
    "public class Tester {\n",
    "    public static void tester(String[] args){\n",
    "        Novel novel1 = new Novel(\"Harry Potter\");\n",
    "        Novel novel2 = new Novel(\"To Your Eternity\");\n",
    "        Novel novel3 = new Novel(\"Percy Jackson\");\n",
    "        \n",
    "        Textbook textbook1 = new Textbook(\"On the History of Stuff\");\n",
    "        Textbook textbook2 = new Textbook(\"Your Guide To A 6900 SAT\");\n",
    "\n",
    "        // Fresh Books\n",
    "        System.out.println(\"Should '\" + novel1.toStringTitle() + \"' be removed? \" + novel1.readyToRemove());\n",
    "        System.out.println(\"Should '\" + novel2.toStringTitle() + \"' be removed? \" + novel2.readyToRemove());\n",
    "        System.out.println(\"Should '\" + novel3.toStringTitle() + \"' be removed? \" + novel2.readyToRemove());\n",
    "\n",
    "        System.out.println(\"Should '\" + textbook1.toStringTitle() + \"' be removed? \" + textbook1.readyToRemove());\n",
    "        System.out.println(\"Should '\" + textbook2.toStringTitle() + \"' be removed? \" + textbook2.readyToRemove());\n",
    "\n",
    "        // timer\n",
    "        try {\n",
    "            Thread.sleep(2000);\n",
    "        } catch (InterruptedException e){\n",
    "            System.out.println(e);\n",
    "        }\n",
    "\n",
    "        System.out.println(\"------------------------------\");\n",
    "        novel3.checkout();\n",
    "\n",
    "        //timer \n",
    "        try {\n",
    "            Thread.sleep(2000);\n",
    "        } catch (InterruptedException e){\n",
    "            System.out.println(e);\n",
    "        }\n",
    "\n",
    "        novel1.checkout();\n",
    "\n",
    "        // Expired Books (3 seconds)\n",
    "        System.out.println(\"Should '\" + novel1.toStringTitle() + \"' be removed? \" + novel1.readyToRemove());\n",
    "        System.out.println(\"Should '\" + novel2.toStringTitle() + \"' be removed? \" + novel2.readyToRemove());\n",
    "        System.out.println(\"Should '\" + novel3.toStringTitle() + \"' be removed? \" + novel2.readyToRemove());\n",
    "\n",
    "        System.out.println(\"Should '\" + textbook1.toStringTitle() + \"' be removed? \" + textbook1.readyToRemove());\n",
    "        System.out.println(\"Should '\" + textbook2.toStringTitle() + \"' be removed? \" + textbook2.readyToRemove());\n",
    "    }\n",
    "}\n",
    "\n",
    "Tester.tester(null);"
   ]
  }
 ],
 "metadata": {
  "kernelspec": {
   "display_name": "Java",
   "language": "java",
   "name": "java"
  },
  "language_info": {
   "codemirror_mode": "java",
   "file_extension": ".jshell",
   "mimetype": "text/x-java-source",
   "name": "Java",
   "pygments_lexer": "java",
   "version": "18.0.1.1+2-6"
  },
  "orig_nbformat": 4
 },
 "nbformat": 4,
 "nbformat_minor": 2
}
