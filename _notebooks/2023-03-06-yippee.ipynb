{
 "cells": [
  {
   "attachments": {},
   "cell_type": "markdown",
   "metadata": {},
   "source": [
    "# Extra Credit\n",
    "> Documentation of the Extra Credit Seed Point (I also really hate monkeys like Adi)\n",
    "\n",
    "- title: Extra Credit\n",
    "- badges: true\n",
    "- toc: true\n",
    "- comments: true\n",
    "- categories: [pbl]"
   ]
  },
  {
   "cell_type": "code",
   "execution_count": 2,
   "metadata": {},
   "outputs": [
    {
     "name": "stdout",
     "output_type": "stream",
     "text": [
      "110\n"
     ]
    }
   ],
   "source": [
    "public class Binary {\n",
    "    public static String binaryAddition(String binary1, String binary2){\n",
    "        return Integer.toBinaryString(Integer.parseInt(binary1, 2) + Integer.parseInt(binary2, 2));\n",
    "    }\n",
    "\n",
    "    public static void main(String[] args){\n",
    "        System.out.println(binaryAddition(\"11\", \"11\"));\n",
    "    }\n",
    "}\n",
    "\n",
    "Binary.main(null);"
   ]
  }
 ],
 "metadata": {
  "kernelspec": {
   "display_name": "Java",
   "language": "java",
   "name": "java"
  },
  "language_info": {
   "codemirror_mode": "java",
   "file_extension": ".jshell",
   "mimetype": "text/x-java-source",
   "name": "java",
   "pygments_lexer": "java",
   "version": "18.0.1.1+2-6"
  },
  "orig_nbformat": 4
 },
 "nbformat": 4,
 "nbformat_minor": 2
}
