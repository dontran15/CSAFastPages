{
 "cells": [
  {
   "cell_type": "markdown",
   "metadata": {},
   "source": [
    "# Agile Reflection\n",
    "> Agile Method\n",
    "\n",
    "- title: Agile Reflection\n",
    "- toc: true\n",
    "- badges: true\n",
    "- comments: false\n",
    "- author: Don Tran\n",
    "- categories: [pbl, human, week 4]"
   ]
  },
  {
   "cell_type": "markdown",
   "metadata": {},
   "source": [
    "## Agile Summary\n",
    "### 12 Points of Agile\n",
    "Agile is a type of software development philosophy widely used and considered one of the most effective philosophies for development. There are 12 Principles which define software:\n",
    "1. Satisfy customers need ASAP(early) w/ continuous delivery of software to customers [customers #1]\n",
    "2. Changing requirements, even late into development\n",
    "3. Deliver software frequently\n",
    "4. All parties of a project must be involved throughout\n",
    "5. Build around motivated individuals and create environment & support for them to get the job done\n",
    "6. Team face-to-face conversations is the most effective and efficient form of communication\n",
    "7. Working software => progress\n",
    "8. Sustainable development, constant pace of all parties [indefinitely]\n",
    "9. Attention to design and \"technical excellence\"\n",
    "10. Simplicity is key\n",
    "11. An effective self-organized team is the produces the best architectures, requirements, and designs\n",
    "12. Regular reflection on effectiveness and ways to fine tune and improve\n",
    "\n",
    "### Sprints\n",
    "The typical software cycle (Sprint) [and by no means a strict one] consists of Meeting, Planning, Designing, Developing, Testing, Deploying, Evaluating, Launching, and then repeating.\n",
    "\n",
    "### Class Project Notes\n",
    "During our project, some key things need to be considered:\n",
    "- Daily Scrums to understand state of the project and necessary adjustments/plans\n",
    "  - Assingments for integration and deployment\n",
    "- Roles:\n",
    "  - Scrum Master: Ensures Agile, tacks issues and maintains scrum boards, find ways to improve and tune workflow\n",
    "  - DevOps: Role is to combine and ensure the implementation of philosophies, tools, and practices to increase high velocity delivery of application and service; version control, integration, managing dependencies, POM file management, AWS deployment\n",
    "  - Frontend Developers: The physical front of the service/application the user sees and interacts with\n",
    "  - Backend Developers: Builds mechanisms for data processing and perform actions (data storage, security, other non-visible server functions)\n",
    "- Use class time (3-4 hours a week)\n",
    "- During Sprints (2 weeks of 5-6 hours) total per person (20-24 hours) total of work\n",
    "- Sprints should be focused efforts to produce a working program for the client\n",
    "  - Daily Meetings, Scrum Boards, Planning, Agile, etc.\n",
    "\n",
    "### 7 Important Transferable Skills\n",
    "  - Creativity (Problem Solving, Conceptualization, Foresight, Connections, Synthesizing Ideas & Data)\n",
    "  - Critical Thinking (Problem Solving, Ability to Question/Ponder, Problems Combatted Before Even Found)\n",
    "  - Communication (Verbal, Writing, Listening, Technological Comms, Communicating w/ All Teammates/Group and Audience)\n",
    "  - Collaboration - Leadership (Responsibility Delegation, Time Management, Decision Making, Conflict, Group, Multi Tasking, Teaching/Mentoring)\n",
    "  - Collaboration - Teamwork (Accepting Responsibility, Making/Implementing Decisions, Time Management, Meeting for Short & Long Goals, Organizations, Deadlines)\n",
    "  - Research (Analyzing Info, Brainstorming, Delineating Needs/Reqs, Gathering & Extracting Data, Forecasting Problems, Setting Goals, Solving Problems)\n",
    "  - Technical (Easy to Work w/, Quick to Learn, Appreciative to Learn, Failing and Always Willing to Try New Things, New Doors Esp in Cases of Oversight)\n",
    "\n",
    "### Reflection\n",
    "Given the practical use Agile has in software development, the philosophy I personally think can apply to any where whether it be in another field of work or even my own life. For any successful person, I suspect that, especially for the 7 important transferable skills, they practice Agile in some way or form throughout their lives. I think getting a grasp for this kind of experience will go a long way to improving myself as a programmer and person."
   ]
  }
 ],
 "metadata": {
  "kernelspec": {
   "display_name": "Java",
   "language": "java",
   "name": "java"
  },
  "language_info": {
   "name": "java"
  },
  "orig_nbformat": 4
 },
 "nbformat": 4,
 "nbformat_minor": 2
}
