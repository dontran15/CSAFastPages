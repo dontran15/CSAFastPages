{
 "cells": [
  {
   "cell_type": "markdown",
   "metadata": {},
   "source": [
    "# Iteration Homework\n",
    "> Homework Code\n",
    "\n",
    "- title: Iteration Homework\n",
    "- badges: true\n",
    "- toc: true\n",
    "- categories: [college board, week 9]"
   ]
  },
  {
   "cell_type": "markdown",
   "metadata": {},
   "source": [
    "### Part 1"
   ]
  },
  {
   "cell_type": "code",
   "execution_count": 9,
   "metadata": {},
   "outputs": [
    {
     "name": "stdout",
     "output_type": "stream",
     "text": [
      "Type Guess Here: \n",
      "50 was not the number,\n",
      "higher\n",
      "\n",
      "Type Guess Here: \n",
      "75 was not the number,\n",
      "higher\n",
      "\n",
      "Type Guess Here: \n",
      "90 was not the number,\n",
      "higher\n",
      "\n",
      "Type Guess Here: \n",
      "92 was not the number,\n",
      "higher\n",
      "\n",
      "Type Guess Here: \n",
      "You guessed it! The number was 94\n"
     ]
    }
   ],
   "source": [
    "public class Guessing {\n",
    "    static int b = randomNumber();\n",
    "    static boolean gameRunning = true;\n",
    "    public static int randomNumber() {\n",
    "        \n",
    "        double a = (1 + Math.random() * 100);\n",
    "        return ((int) Math.floor(a));\n",
    "    }\n",
    "   \n",
    "    public static void newNumber(){\n",
    "        b = randomNumber();\n",
    "    }\n",
    "\n",
    "    public static String guessing(String guess) {\n",
    "        int c = Integer.valueOf(guess);\n",
    "        \n",
    "        if (c != b) {\n",
    "            if (c > b) {\n",
    "                return (c + \" was not the number,\" + \"\\nlower\\n\");\n",
    "            }\n",
    "            if (c < b) {\n",
    "                return ( c + \" was not the number,\" + \"\\nhigher\\n\");\n",
    "            }\n",
    "                \n",
    "        }\n",
    "\n",
    "        if (c == b) {\n",
    "            gameRunning = false;\n",
    "            return \"You guessed it! The number was \" + b;\n",
    "        }\n",
    "\n",
    "        return \"error\";\n",
    "   }\n",
    "}\n",
    "\n",
    "public class Main{\n",
    "    public static void main(String[] args){\n",
    "        Scanner scanner = new Scanner(System.in);\n",
    "        while(Guessing.gameRunning){\n",
    "            System.out.println(\"Type Guess Here: \");\n",
    "            String input = scanner.nextLine();\n",
    "            System.out.println(Guessing.guessing(input));\n",
    "        }\n",
    "    }\n",
    "}\n",
    "\n",
    "Main.main(null);"
   ]
  },
  {
   "cell_type": "markdown",
   "metadata": {},
   "source": [
    "### Part 2\n",
    "![iteration quiz](https://user-images.githubusercontent.com/75715248/197449147-d5f0a590-672f-451f-9e52-de3288a08c63.png)"
   ]
  }
 ],
 "metadata": {
  "kernelspec": {
   "display_name": "Java",
   "language": "java",
   "name": "java"
  },
  "language_info": {
   "codemirror_mode": "java",
   "file_extension": ".jshell",
   "mimetype": "text/x-java-source",
   "name": "java",
   "pygments_lexer": "java",
   "version": "18.0.1.1+2-6"
  },
  "orig_nbformat": 4,
  "vscode": {
   "interpreter": {
    "hash": "aee8b7b246df8f9039afb4144a1f6fd8d2ca17a180786b69acc140d282b71a49"
   }
  }
 },
 "nbformat": 4,
 "nbformat_minor": 2
}
