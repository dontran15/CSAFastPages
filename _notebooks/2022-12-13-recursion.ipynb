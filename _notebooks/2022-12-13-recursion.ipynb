{
 "cells": [
  {
   "cell_type": "markdown",
   "metadata": {},
   "source": [
    "# Recursion\n",
    "> Recursion Notes & HW\n",
    "\n",
    "- title: Recursion\n",
    "- badges: true\n",
    "- toc: true\n",
    "- categories: [college board, Unit 10]"
   ]
  },
  {
   "cell_type": "markdown",
   "metadata": {},
   "source": [
    "### Recursive Method\n",
    "A method that calls itself. Similar to recursive functions in math that continuously calls itself to get an output value.\n",
    "One base case that halts recursion an once recursive call. Each recursion has its own local variables and thus act independently of itself. Parameters take progress. Can be replaced w an iterative and give same result so acts like loop that traverses strings array arraylist. There's always an if statement to stop the call. Can have multiple instances of recursion within itself. \n",
    "\n",
    "### Binary Search\n",
    "Taking array and starting at midpoint. It is one of the ,ost efficient searches w complexity n*log(n). find the midpoint and iterate through to compare midpoint to bounds and checking if target is greater/less. Way to find how to not to binary search.\n",
    "\n",
    "### Merge Sort\n",
    "Can be used to sort array list which uses Divide and Conquer algorithm\n",
    "Divides them in half and then calls itself into different halves and sorts them. It then merges the two sorted halves into one list. Recursion to divide and compare left and right sides.\n",
    "\n",
    "### Visualizing Recursion\n",
    "One way is building a recursive tree making note of each recursive case. This makes it easy to visualize the call and track the conditions of the recursion."
   ]
  },
  {
   "cell_type": "code",
   "execution_count": 2,
   "metadata": {
    "vscode": {
     "languageId": "java"
    }
   },
   "outputs": [
    {
     "name": "stdout",
     "output_type": "stream",
     "text": [
      "248832\n"
     ]
    }
   ],
   "source": [
    "public static void main(String[] args){\n",
    "    System.out.println(equation(8));\n",
    "}\n",
    "\n",
    "public static int equation(int a){\n",
    "    if(a <= 5){\n",
    "        return 12;\n",
    "    }\n",
    "\n",
    "    return equation(a-2) * equation(a-1);\n",
    "}\n",
    "\n",
    "main(null);"
   ]
  },
  {
   "cell_type": "code",
   "execution_count": null,
   "metadata": {
    "vscode": {
     "languageId": "java"
    }
   },
   "outputs": [],
   "source": []
  }
 ],
 "metadata": {
  "kernelspec": {
   "display_name": "Java",
   "language": "java",
   "name": "java"
  },
  "language_info": {
   "codemirror_mode": "java",
   "file_extension": ".jshell",
   "mimetype": "text/x-java-source",
   "name": "Java",
   "pygments_lexer": "java",
   "version": "18.0.1.1+2-6"
  },
  "orig_nbformat": 4
 },
 "nbformat": 4,
 "nbformat_minor": 2
}
