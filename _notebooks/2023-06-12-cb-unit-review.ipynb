{
 "cells": [
  {
   "cell_type": "markdown",
   "metadata": {},
   "source": [
    "# College Board Unit Review\n",
    "> College Board Unit Review\n",
    "\n",
    "- title: College Board Unit Review\n",
    "- badges: true\n",
    "- toc: true\n",
    "- comments: true\n",
    "- categories: [pbl, collegeboard, study guide]"
   ]
  },
  {
   "cell_type": "markdown",
   "metadata": {},
   "source": [
    "## Comprehensive Study Guide\n",
    "Here is a comprehensive study guide for college board material. This can both help with Java fundamentals and act as a study guide to help me prepare for the AP Exam."
   ]
  },
  {
   "cell_type": "markdown",
   "metadata": {},
   "source": [
    "### Unit 1 Primitives\n",
    "Primitives are the most basic data types in Java and most other languages. Built into most programming languages, even low level ones, primitives are predefined data types holding only values (unlike objects). They also cannot call methods are have attributes of their own and thus fundamentally different from objects. \n",
    "\n",
    "The main types of primitives used in java are int, double, boolean, and char. Some properties unique to primitives in Java are that they can be compared with using the == operator, can be casted, and can be converted into Wrapper Classes (Java Object).\n",
    "\n",
    "#### Casting (Division & Rounding/Truncating)\n",
    "Casting is a way to convert primitives into other primitive types (commonly from int to double or vice versa). When converting double to int, we can also truncate/round decimals to the nearest integer"
   ]
  },
  {
   "cell_type": "code",
   "execution_count": 11,
   "metadata": {
    "vscode": {
     "languageId": "java"
    }
   },
   "outputs": [
    {
     "name": "stdout",
     "output_type": "stream",
     "text": [
      "3\n",
      "3.3333333333333335\n",
      "13\n"
     ]
    }
   ],
   "source": [
    "int a = 10;\n",
    "int b = 3;\n",
    "// Examples of Casting\n",
    "// Casting in Division w/ casting (rounds down a/b in comparison to a more precise answer)\n",
    "System.out.println(a/b);\n",
    "System.out.println((double) a / b);\n",
    "\n",
    "// Casting to Round/Truncate\n",
    "double c = 3.5;\n",
    "System.out.println((int)(a + c));"
   ]
  },
  {
   "cell_type": "markdown",
   "metadata": {},
   "source": [
    "#### Wrapper Classes\n",
    "Wrapper classes enable an object oriented approach to primitives giving them access to methods like the toString method, the ability to be used in purely w ArrayLists. Some wrapper classes include Integer, Double, Boolean, and Character. They hold the same value as their primitive counterparts but open them to object oriented programming."
   ]
  },
  {
   "cell_type": "code",
   "execution_count": 30,
   "metadata": {
    "vscode": {
     "languageId": "java"
    }
   },
   "outputs": [
    {
     "name": "stdout",
     "output_type": "stream",
     "text": [
      "10\n",
      "This is a Wrapper Class: 10\n",
      "[10, 5]\n"
     ]
    }
   ],
   "source": [
    "import java.util.ArrayList;\n",
    "\n",
    "// To initialize a Wrapper class as a variable, you instantiate just like any object\n",
    "Integer wrapperInteger = new Integer(10);\n",
    "System.out.println(wrapperInteger);\n",
    "\n",
    "// Some object only methods are shown below\n",
    "// toString() method\n",
    "System.out.println(\"This is a Wrapper Class: \" + wrapperInteger.toString());\n",
    "\n",
    "// ArrayLists\n",
    "ArrayList<Integer> integers = new ArrayList<Integer>();\n",
    "integers.add(wrapperInteger);\n",
    "System.out.println(integers);"
   ]
  },
  {
   "cell_type": "markdown",
   "metadata": {},
   "source": [
    "### Unit 2 Using Objects \n",
    "Objects are just an instance created out of a class created w/ a constructor (which takes in parameters describing the object\n",
    "Methods in objects can be void (returns nothing) or have a return type specified. Static methods and properties are tied to class rather than object (ie. same value for all objects). Methods can be overloaded (have different sets of parameters) as long as order of types differs between method definitions even with same name."
   ]
  },
  {
   "cell_type": "markdown",
   "metadata": {},
   "source": [
    "#### Concatenation\n",
    "Concatenation refers to the combination of strings. To concatenate non String types, you have to convert them into a String. When converting, primitives must be converted to wrapper classes in order to use the toString method. All objects must use toString method in order to be concatenated. Use + to concatenate strings."
   ]
  },
  {
   "cell_type": "code",
   "execution_count": 32,
   "metadata": {
    "vscode": {
     "languageId": "java"
    }
   },
   "outputs": [
    {
     "name": "stdout",
     "output_type": "stream",
     "text": [
      "My Name: Don\n",
      "My Age: 17\n"
     ]
    }
   ],
   "source": [
    "String name = \"Don\"; Integer age = new Integer(17);\n",
    "System.out.println(\"My Name: \" + name);\n",
    "System.out.println(\"My Age: \" + age.toString());"
   ]
  },
  {
   "cell_type": "markdown",
   "metadata": {},
   "source": [
    "#### Math Class (Random)\n",
    "Math class enables a lot of mathematical operations like floor, roof, exponents, rounding, logs, and other operations not in Java by default. It enables complex mathematical operations which can be used for programs like calculators."
   ]
  },
  {
   "cell_type": "code",
   "execution_count": 34,
   "metadata": {
    "vscode": {
     "languageId": "java"
    }
   },
   "outputs": [
    {
     "name": "stdout",
     "output_type": "stream",
     "text": [
      "10.0\n",
      "11.0\n",
      "1000.0\n",
      "0.6931471805599453\n",
      "16\n",
      "0.7980473864210647\n"
     ]
    }
   ],
   "source": [
    "// Floor Function  \n",
    "System.out.println(Math.floor(10.999999999));\n",
    "\n",
    "// Ceiling Function\n",
    "System.out.println(Math.ceil(10.999999999));\n",
    "\n",
    "// Exponents\n",
    "System.out.println(Math.pow(10, 3));\n",
    "\n",
    "// Logarithms in base 10\n",
    "System.out.println(Math.log(2));\n",
    "\n",
    "// Rounding\n",
    "System.out.println(Math.round(15.546432));\n",
    "\n",
    "// Random (generates random number btwn 0 & 1)\n",
    "System.out.println(Math.random());\n",
    "\n"
   ]
  },
  {
   "cell_type": "markdown",
   "metadata": {},
   "source": [
    "### Unit 3 Booleans, If/Else Statements, & Comparison\n",
    "Booleans are a key concept within computer science as a whole where they only store either True or False. Built on 0s and 1s, computers are essentially boolean based machines. Likewise, one can build complex methods through booleans and comparison operators/statements as the help with control flow in Java of code. The most common operators dealing with this include <, >, <=, >=, ==, !=, &&, and ||. If statements take in a boolean or boolean expression and run if the expression evaluates to \"true\". Else & Else if statements can be used in conjunction with if statements to run code if the if statement evaluates to false."
   ]
  },
  {
   "cell_type": "markdown",
   "metadata": {},
   "source": [
    "#### Comparisons w/ Primitives (numbers, characters, booleans), Strings, & Objects\n",
    "Comparing with Primitives, as stated above evaluate through == operator. Strings and Objects are evaluated through the .equals() method which is a default method inherited from the objects class. (more on that below)"
   ]
  },
  {
   "cell_type": "code",
   "execution_count": 36,
   "metadata": {
    "vscode": {
     "languageId": "java"
    }
   },
   "outputs": [
    {
     "name": "stdout",
     "output_type": "stream",
     "text": [
      "true\n",
      "false\n",
      "true\n",
      "false\n",
      "false\n"
     ]
    }
   ],
   "source": [
    "int a = 0;\n",
    "int b = 0;\n",
    "int c = 1;\n",
    "\n",
    "// Comparing two same numbers\n",
    "System.out.println(a == b);\n",
    "\n",
    "// Comparing two different numbers\n",
    "System.out.println(a == c);\n",
    "\n",
    "String as = new String(\"yay\");\n",
    "String bs = new String(\"cool\");\n",
    "\n",
    "// Comparing the same string to itself (SAME memory location)\n",
    "System.out.println(as == as);\n",
    "\n",
    "// Comparing strings with same content using wrong operator (DIFFERENT memory location)\n",
    "System.out.println(as == bs);\n",
    "\n",
    "// Comparing strings with same content using correct .equals()\n",
    "System.out.println(as.equals(bs));"
   ]
  },
  {
   "cell_type": "markdown",
   "metadata": {},
   "source": [
    "#### Compound Boolean Expression\n",
    "Using combinations of boolean operators, you can make compound boolean expressions. Operators that can be used include and (&&), or (||), not (!), as well as parenthesis for grouping purposes."
   ]
  },
  {
   "cell_type": "code",
   "execution_count": 37,
   "metadata": {
    "vscode": {
     "languageId": "java"
    }
   },
   "outputs": [
    {
     "name": "stdout",
     "output_type": "stream",
     "text": [
      "false\n"
     ]
    }
   ],
   "source": [
    "boolean a = true;\n",
    "boolean b = false;\n",
    "\n",
    "// Creating a compound expression\n",
    "boolean compound = !(a && b) && (b || a) && (!b && !a);\n",
    "\n",
    "// Printing the result\n",
    "System.out.println(compound);"
   ]
  },
  {
   "cell_type": "markdown",
   "metadata": {},
   "source": [
    "#### Truth Tables\n",
    "Can be used to see the values of boolean expressions. For example, below is truth tables for some common compound boolean expressions.\n",
    "\n",
    "![](https://www.realdigital.org/img/228d4788d26e286b5706f6d644ddee8b.svg)"
   ]
  },
  {
   "cell_type": "markdown",
   "metadata": {},
   "source": [
    "#### De Morgan's Law\n",
    "De Morgan's Law is useful for simplifying boolean expressions and logic. States that !(a && b) = !a || !b AND !(a || b) = !a && !b (distribute and switch the middle sign almost like commutative property)"
   ]
  },
  {
   "cell_type": "code",
   "execution_count": 38,
   "metadata": {
    "vscode": {
     "languageId": "java"
    }
   },
   "outputs": [
    {
     "name": "stdout",
     "output_type": "stream",
     "text": [
      "false false false\n"
     ]
    }
   ],
   "source": [
    "boolean a = true;\n",
    "boolean b = false;\n",
    "boolean c = true;\n",
    "boolean d = false;\n",
    "\n",
    "// complicated boolean expression\n",
    "boolean res1 = !((!(a && b)) || (!(a || b)));\n",
    "\n",
    "// simplified using De Morgan's Law once\n",
    "boolean res2 = !((!a || !b) || (!a && !b));\n",
    "\n",
    "//simplified using De Morgan's Law twice\n",
    "boolean res3 = !(!a || !b) && !(!a && !b);\n",
    "\n",
    "// all results are the same\n",
    "System.out.println(res1 + \" \" + res2 + \" \" + res3);"
   ]
  },
  {
   "cell_type": "markdown",
   "metadata": {},
   "source": [
    "### Unit 4 Loops\n",
    "While loop runs while a boolean condition is true. For loops create a variable which is modified on every loop iteration and has an end condition (useful for iterating through arrays, especially in different ways based on the modification, ie. i += 2 for all even indexes). For & while loops can be nested inside each other to achieve more iteration (really useful with 2D arrays). For each/Enhanced for loops really useful for looping through an array (int val : array) but limited in that they go through all elements from first to last and that cannot be modified. Loops help control repetition in our code as a sequential code flow controller. It also prevents us from excruciating arthritis."
   ]
  },
  {
   "cell_type": "markdown",
   "metadata": {},
   "source": [
    "#### For Loop & Enhanced For Loop\n",
    "For loops can be used to iterate through an index, and modify it in different ways in the for loop declaration. The enhanced for loop is exclusively used for iterating fully through an iterable (such as array)."
   ]
  },
  {
   "cell_type": "code",
   "execution_count": null,
   "metadata": {
    "vscode": {
     "languageId": "java"
    }
   },
   "outputs": [],
   "source": [
    "// looping through even numbers\n",
    "for (int i = 0; i<10; i+=2) {\n",
    "    System.out.println(i);\n",
    "  }\n",
    "  \n",
    "  int[] arr = {1, 2, 3, 7, 8};\n",
    "  \n",
    "  // looping through array with conventional for lopo\n",
    "  for (int i = 0; i<arr.length; i++) {\n",
    "    System.out.println(arr[i]);\n",
    "  }\n",
    "  \n",
    "  // looping through array with enhanced for loop\n",
    "  for (int i : arr) {\n",
    "    System.out.println(i);\n",
    "  }"
   ]
  },
  {
   "cell_type": "markdown",
   "metadata": {},
   "source": [
    "#### While Loop & Do While Loop\n",
    "While loops run while a condition is true, the condition is checked before each iteration of the code is run.\n",
    "\n",
    "Do while loops also run while a condition is true, but the condition is checked AFTER each iteration of the code is run. This means that no matter what the do block runs at least once before the condition is checked"
   ]
  },
  {
   "cell_type": "code",
   "execution_count": null,
   "metadata": {
    "vscode": {
     "languageId": "java"
    }
   },
   "outputs": [],
   "source": [
    "int i = 0;\n",
    "boolean falseBool = false;\n",
    "\n",
    "// printing even numbers with while loop\n",
    "while (i < 10) {\n",
    "  System.out.println(i);\n",
    "  i += 2;\n",
    "}\n",
    "\n",
    "// if condition is false while loop does not run at all\n",
    "while (falseBool) {\n",
    "  System.out.println(\"inside while loop\");\n",
    "}\n",
    "\n",
    "// if condition is false in do while, the loop runs once\n",
    "do {\n",
    "  System.out.println(\"inside do-while loop\");\n",
    "} while (falseBool);"
   ]
  },
  {
   "cell_type": "markdown",
   "metadata": {},
   "source": [
    "#### Nested Loops\n",
    "Loops can be used inside each other for better iteration and they are especially useful for 2D arrays which can be 2D and thus need to be iterated through twice to access each individual element."
   ]
  },
  {
   "cell_type": "code",
   "execution_count": 39,
   "metadata": {
    "vscode": {
     "languageId": "java"
    }
   },
   "outputs": [
    {
     "name": "stdout",
     "output_type": "stream",
     "text": [
      "1 2 3 \n",
      "4 5 6 \n",
      "7 8 9 \n"
     ]
    }
   ],
   "source": [
    "int[][] arr = {\n",
    "    {1, 2, 3},\n",
    "    {4, 5, 6},\n",
    "    {7, 8, 9}\n",
    "  };\n",
    "  \n",
    "  // using nested for loops for 2D array\n",
    "  for (int i = 0; i<arr.length; i++) {\n",
    "    for (int j = 0; j<arr[i].length; j++) {\n",
    "      System.out.print(arr[i][j] + \" \");\n",
    "    }\n",
    "    System.out.println();\n",
    "  }"
   ]
  },
  {
   "cell_type": "markdown",
   "metadata": {},
   "source": [
    "### Unit 5 Classes (Own Lesson)\n",
    "Classes can be used for creating objects and have two main things: properties and methods. Properties are used to store information about each object of a class (can be made private/public which determines accessibility outside of class). Methods are used to modify the object & do things. Getter and Setter Methods can be used to modify properties of a class which are made private."
   ]
  },
  {
   "cell_type": "markdown",
   "metadata": {},
   "source": [
    "#### Breakdown of a Class\n",
    "![](https://runestone.academy/ns/books/published/csawesome/_images/personClassDefn.png)\n",
    "\n",
    "#### Breakdown of a Method\n",
    "![](https://simplesnippets.tech/wp-content/uploads/2018/03/methods-in-java-programming-1280x720.jpg)"
   ]
  },
  {
   "cell_type": "markdown",
   "metadata": {},
   "source": [
    "#### Access Modifiers \n",
    "Access modifiers control whether properties and methods can be accessed outside the class. The public means the property/method is accessible outside while if it is private it is not accessible from outside the class. Protected usually refers to within the package (a package in this case is almost like a special type of directory). Default is when no access modifier is specified and by default only subclasses can access variables and package subclasses. Below is a table of them\n",
    "\n",
    "![](https://media.geeksforgeeks.org/wp-content/cdn-uploads/Access-Modifiers-in-Java.png)"
   ]
  },
  {
   "cell_type": "markdown",
   "metadata": {},
   "source": [
    "#### Static Methods & Class Methods\n",
    "Static properties and methods are part of the class rather than each object. Static methods do not require an object, and static properties only have one instance that is the same for all objects."
   ]
  },
  {
   "cell_type": "markdown",
   "metadata": {},
   "source": [
    "#### Creating a Class\n",
    "Classes can be created using the class keyword along with definitions in front of it. A class should always be defined using upper camelcase (camelcase but first letter capital)."
   ]
  },
  {
   "cell_type": "code",
   "execution_count": null,
   "metadata": {
    "vscode": {
     "languageId": "java"
    }
   },
   "outputs": [],
   "source": [
    "class SomeClass{\n",
    "    \n",
    "}"
   ]
  },
  {
   "cell_type": "markdown",
   "metadata": {},
   "source": [
    "#### Main Method & Tester Methods\n",
    "The main method is used to test a class, is automatically called when class ran. It usually creates an object and can test methods hence it is mostly used as a tester method for classes. To execute the main portion of the code, a Main class with a main method is normally reserved which handles most of the executions of the code."
   ]
  },
  {
   "cell_type": "code",
   "execution_count": 41,
   "metadata": {
    "vscode": {
     "languageId": "java"
    }
   },
   "outputs": [
    {
     "name": "stdout",
     "output_type": "stream",
     "text": [
      "cool main method\n"
     ]
    }
   ],
   "source": [
    "class SomeClass {\n",
    "    // main method (definition for main method, more on individual parts later)\n",
    "    public static void main(String[] args){\n",
    "        System.out.println(\"cool main method\");\n",
    "    }\n",
    "}\n",
    "\n",
    "SomeClass.main(null);"
   ]
  },
  {
   "cell_type": "markdown",
   "metadata": {},
   "source": [
    "#### this Keyword\n",
    "The \"this\" keyword allows you to access properties of the class. See constructor example to see use of this keyword."
   ]
  },
  {
   "cell_type": "markdown",
   "metadata": {},
   "source": [
    "#### Constructors\n",
    "Constructors are called whenever the object is created and usually initializes fields (data/attributes defined in the class). It does not return anything because the object is automatically given to the user when constructor is called and thus its return type is implied."
   ]
  },
  {
   "cell_type": "code",
   "execution_count": 60,
   "metadata": {
    "vscode": {
     "languageId": "java"
    }
   },
   "outputs": [
    {
     "name": "stdout",
     "output_type": "stream",
     "text": [
      "123\n",
      "abc\n"
     ]
    }
   ],
   "source": [
    "// creating a class (camel casing w/ first letter capitalized)\n",
    "class SomeClass {\n",
    "    int someInt;\n",
    "    String someString;\n",
    "\n",
    "    // Constructor\n",
    "    public SomeClass(int someInt, String someString){ // constructor passes in outside parameters if we want to initialize certain fields\n",
    "        // this references objects own fields to differentiate (more on that later)\n",
    "        this.someInt = someInt;\n",
    "        this.someString = someString;\n",
    "    }\n",
    "\n",
    "    public static void main(String[] args){\n",
    "        SomeClass obj = new SomeClass(123, \"abc\");\n",
    "    \n",
    "        System.out.println(obj.someInt);\n",
    "        System.out.println(obj.someString);\n",
    "    }\n",
    "}\n",
    "\n",
    "SomeClass.main(null);"
   ]
  },
  {
   "cell_type": "markdown",
   "metadata": {},
   "source": [
    "#### Mutator Methods & Setter Methods\n",
    "These methods are used to get properties of an object from the outside the class definition. They are almost always necessary for private variables within classes.\n",
    "\n",
    "Getters can be applied on only the properties which should be accessed outside the class. They always have a return type of whatever data field is being retrieved. \n",
    "\n",
    "Setters are used to only set properties which are set outside the class. They are always void methods as their only purpose is to set variables.\n"
   ]
  },
  {
   "cell_type": "code",
   "execution_count": 62,
   "metadata": {
    "vscode": {
     "languageId": "java"
    }
   },
   "outputs": [
    {
     "name": "stdout",
     "output_type": "stream",
     "text": [
      "123\n"
     ]
    }
   ],
   "source": [
    "class SomeClass {\n",
    "    private int someInt;\n",
    "    private String someString;\n",
    "\n",
    "    public SomeClass(int someInt, String someString){ \n",
    "        this.someInt = someInt;\n",
    "        this.someString = someString;\n",
    "    }\n",
    "\n",
    "    // Getter method\n",
    "    public int getSomeInt(){\n",
    "        return this.someInt;\n",
    "    }\n",
    "\n",
    "    public static void main(String[] args){\n",
    "      SomeClass obj = new SomeClass(123, \"abc\");\n",
    "\n",
    "      //Using Getter Method\n",
    "      System.out.println(obj.getSomeInt());\n",
    "    }\n",
    "}\n",
    "\n",
    "SomeClass.main(null);"
   ]
  },
  {
   "cell_type": "code",
   "execution_count": 64,
   "metadata": {
    "vscode": {
     "languageId": "java"
    }
   },
   "outputs": [
    {
     "name": "stdout",
     "output_type": "stream",
     "text": [
      "111\n"
     ]
    }
   ],
   "source": [
    "class SomeClass {\n",
    "  private int someInt;\n",
    "  private String someString;\n",
    "\n",
    "  public SomeClass(int someInt, String someString){ \n",
    "      this.someInt = someInt;\n",
    "      this.someString = someString;\n",
    "  }\n",
    "\n",
    "  public int getSomeInt(){\n",
    "      return this.someInt;\n",
    "  }\n",
    "\n",
    "  // Setter\n",
    "  public void setSomeInt(int newInt){\n",
    "       this.someInt = newInt;\n",
    "  }\n",
    "\n",
    "  public static void main(String[] args){\n",
    "      SomeClass obj = new SomeClass(123, \"abc\");\n",
    "\n",
    "      // Using setter method\n",
    "      obj.setSomeInt(111);\n",
    "      System.out.println(obj.getSomeInt());\n",
    "  }\n",
    "}\n",
    "\n",
    "SomeClass.main(null);"
   ]
  },
  {
   "cell_type": "markdown",
   "metadata": {},
   "source": [
    "### Unit 6 Lists"
   ]
  },
  {
   "cell_type": "markdown",
   "metadata": {},
   "source": [
    "### Unit 7 ArrayLists"
   ]
  },
  {
   "cell_type": "markdown",
   "metadata": {},
   "source": [
    "### More to Come"
   ]
  }
 ],
 "metadata": {
  "kernelspec": {
   "display_name": "Java",
   "language": "java",
   "name": "java"
  },
  "language_info": {
   "codemirror_mode": "java",
   "file_extension": ".jshell",
   "mimetype": "text/x-java-source",
   "name": "Java",
   "pygments_lexer": "java",
   "version": "18.0.1.1+2-6"
  },
  "orig_nbformat": 4
 },
 "nbformat": 4,
 "nbformat_minor": 2
}
