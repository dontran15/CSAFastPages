{
 "cells": [
  {
   "cell_type": "markdown",
   "metadata": {},
   "source": [
    "# College Board Unit Review\n",
    "> College Board Unit Review\n",
    "\n",
    "- title: College Board Unit Review\n",
    "- badges: true\n",
    "- toc: true\n",
    "- comments: true\n",
    "- categories: [pbl, collegeboard, study guide]"
   ]
  },
  {
   "cell_type": "markdown",
   "metadata": {},
   "source": [
    "## Comprehensive Study Guide\n",
    "Here is a comprehensive study guide for college board material. This can both help with Java fundamentals and act as a study guide to help me prepare for the AP Exam."
   ]
  },
  {
   "cell_type": "code",
   "execution_count": null,
   "metadata": {
    "vscode": {
     "languageId": "java"
    }
   },
   "outputs": [],
   "source": []
  },
  {
   "cell_type": "markdown",
   "metadata": {},
   "source": [
    "### Key Concepts w/ Code Examples\n",
    "Concatenation, explain or illustrate rules on mixed type Concatenation\n",
    "Math class, specifically Random usage\n",
    "Compound Boolean Expression\n",
    "Truth Tables\n",
    "De Morgan’s Law\n",
    "Comparing Numbers\n",
    "Comparing Strings\n",
    "Comparing Objects\n",
    "for loop, enhanced for loop\n",
    "while loop versus do while loop\n",
    "nested loops\n",
    "Creating a Class, describe Naming Conventions\n",
    "Constructor, describe why there is no return\n",
    "Accessor methods, relationship to getter\n",
    "Mutator methods, relationship to setter, describe void return type\n",
    "Static variables, Class variables, show use case in code\n",
    "Show use case of access modifiers: Public, Private, Protected\n",
    "Static methods, Class methods\n",
    "this Keyword\n",
    "main method, tester methods\n",
    "Inheritance, extends\n",
    "Subclass constructor, super Keyword\n",
    "Overloading a method, same name different parameters\n",
    "Overriding a method, same signature of a method\n",
    "Abstract Class, Abstract Method\n",
    "Standard methods: toString(), equals(), hashCode()\n",
    "Late binding of object, referencing superclass object, ie Animal a = new Chicken(); Animal b = new Goat();\n",
    "Polymorphism: any of overloading, overriding, late binding\n",
    "Big O notation for Hash map, Binary Search, Single loop, Nested Loop"
   ]
  },
  {
   "cell_type": "code",
   "execution_count": 6,
   "metadata": {
    "vscode": {
     "languageId": "java"
    }
   },
   "outputs": [
    {
     "name": "stdout",
     "output_type": "stream",
     "text": [
      "--------------------\n",
      "Casting for Division\n",
      "6.833333333333333\n",
      "6\n",
      "--------------------\n",
      "Casting for Truncating/Rounding\n",
      "20.5\n",
      "20\n",
      "--------------------\n"
     ]
    }
   ],
   "source": [
    "// Casting, specifically for Division; Casting, specifically for Truncating or Rounding\n",
    "// Can cast by putting type in parentheses before expression that is to be casted\n",
    "// Converts double result from division to integer\n",
    "System.out.println(\"--------------------\");\n",
    "System.out.println(\"Casting for Division\");\n",
    "System.out.println((20.5/3));\n",
    "System.out.println((int) (20.5/3));\n",
    "System.out.println(\"--------------------\");\n",
    "System.out.println(\"Casting for Truncating/Rounding\");\n",
    "System.out.println((20.5));\n",
    "System.out.println((int) (20.5));\n",
    "\n",
    "// Wrapper Classes, why wrap int, double. Show examples\n",
    "// \n",
    "System.out.println(\"--------------------\");\n",
    "System.out.println(\"Casting for Division\");\n",
    "System.out.println((20.5/3));\n",
    "System.out.println((int) (20.5/3));\n",
    "System.out.println(\"--------------------\");\n"
   ]
  }
 ],
 "metadata": {
  "kernelspec": {
   "display_name": "Java",
   "language": "java",
   "name": "java"
  },
  "language_info": {
   "codemirror_mode": "java",
   "file_extension": ".jshell",
   "mimetype": "text/x-java-source",
   "name": "Java",
   "pygments_lexer": "java",
   "version": "18.0.1.1+2-6"
  },
  "orig_nbformat": 4
 },
 "nbformat": 4,
 "nbformat_minor": 2
}
