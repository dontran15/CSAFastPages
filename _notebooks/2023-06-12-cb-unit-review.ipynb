{
 "cells": [
  {
   "cell_type": "markdown",
   "metadata": {},
   "source": [
    "# College Board Unit Review\n",
    "> College Board Unit Review\n",
    "\n",
    "- title: College Board Unit Review\n",
    "- badges: true\n",
    "- toc: true\n",
    "- comments: true\n",
    "- categories: [pbl, collegeboard, study guide]"
   ]
  },
  {
   "cell_type": "markdown",
   "metadata": {},
   "source": [
    "## Comprehensive Study Guide\n",
    "Here is a comprehensive study guide for college board material. This can both help with Java fundamentals and act as a study guide to help me prepare for the AP Exam."
   ]
  },
  {
   "cell_type": "markdown",
   "metadata": {},
   "source": [
    "### Unit 1 Primitives\n",
    "Primitives are the most basic data types in Java and most other languages. Built into most programming languages, even low level ones, primitives are predefined data types holding only values (unlike objects). They also cannot call methods are have attributes of their own and thus fundamentally different from objects. \n",
    "\n",
    "The main types of primitives used in java are int, double, boolean, and char. Some properties unique to primitives in Java are that they can be compared with using the == operator, can be casted, and can be converted into Wrapper Classes (Java Object).\n",
    "\n",
    "#### Casting (Division & Rounding/Truncating)\n",
    "Casting is a way to convert primitives into other primitive types (commonly from int to double or vice versa). When converting double to int, we can also truncate/round decimals to the nearest integer"
   ]
  },
  {
   "cell_type": "code",
   "execution_count": 11,
   "metadata": {},
   "outputs": [
    {
     "name": "stdout",
     "output_type": "stream",
     "text": [
      "3\n",
      "3.3333333333333335\n",
      "13\n"
     ]
    }
   ],
   "source": [
    "int a = 10;\n",
    "int b = 3;\n",
    "// Examples of Casting\n",
    "// Casting in Division w/ casting (rounds down a/b in comparison to a more precise answer)\n",
    "System.out.println(a/b);\n",
    "System.out.println((double) a / b);\n",
    "\n",
    "// Casting to Round/Truncate\n",
    "double c = 3.5;\n",
    "System.out.println((int)(a + c));"
   ]
  },
  {
   "cell_type": "markdown",
   "metadata": {},
   "source": [
    "#### Wrapper Classes\n",
    "Wrapper classes enable an object oriented approach to primitives giving them access to methods like the toString method, the ability to be used in purely w ArrayLists. Some wrapper classes include Integer, Double, Boolean, and Character. They hold the same value as their primitive counterparts but open them to object oriented programming."
   ]
  },
  {
   "cell_type": "code",
   "execution_count": 30,
   "metadata": {},
   "outputs": [
    {
     "name": "stdout",
     "output_type": "stream",
     "text": [
      "10\n",
      "This is a Wrapper Class: 10\n",
      "[10, 5]\n"
     ]
    }
   ],
   "source": [
    "import java.util.ArrayList;\n",
    "\n",
    "// To initialize a Wrapper class as a variable, you instantiate just like any object\n",
    "Integer wrapperInteger = new Integer(10);\n",
    "System.out.println(wrapperInteger);\n",
    "\n",
    "// Some object only methods are shown below\n",
    "// toString() method\n",
    "System.out.println(\"This is a Wrapper Class: \" + wrapperInteger.toString());\n",
    "\n",
    "// ArrayLists\n",
    "ArrayList<Integer> integers = new ArrayList<Integer>();\n",
    "integers.add(wrapperInteger);\n",
    "System.out.println(integers);"
   ]
  },
  {
   "cell_type": "markdown",
   "metadata": {},
   "source": [
    "### Unit 2 Using Objects \n",
    "Objects are just an instance created out of a class created w/ a constructor (which takes in parameters describing the object\n",
    "Methods in objects can be void (returns nothing) or have a return type specified. Static methods and properties are tied to class rather than object (ie. same value for all objects). Methods can be overloaded (have different sets of parameters) as long as order of types differs between method definitions even with same name."
   ]
  },
  {
   "cell_type": "markdown",
   "metadata": {},
   "source": [
    "#### Concatenation\n",
    "Concatenation refers to the combination of strings. To concatenate non String types, you have to convert them into a String. When converting, primitives must be converted to wrapper classes in order to use the toString method. All objects must use toString method in order to be concatenated. Use + to concatenate strings."
   ]
  },
  {
   "cell_type": "code",
   "execution_count": 32,
   "metadata": {},
   "outputs": [
    {
     "name": "stdout",
     "output_type": "stream",
     "text": [
      "My Name: Don\n",
      "My Age: 17\n"
     ]
    }
   ],
   "source": [
    "String name = \"Don\"; Integer age = new Integer(17);\n",
    "System.out.println(\"My Name: \" + name);\n",
    "System.out.println(\"My Age: \" + age.toString());"
   ]
  },
  {
   "cell_type": "markdown",
   "metadata": {},
   "source": [
    "#### Math Class (Random)\n",
    "Math class enables a lot of mathematical operations like floor, roof, exponents, rounding, logs, and other operations not in Java by default. It enables complex mathematical operations which can be used for programs like calculators."
   ]
  },
  {
   "cell_type": "code",
   "execution_count": 34,
   "metadata": {},
   "outputs": [
    {
     "name": "stdout",
     "output_type": "stream",
     "text": [
      "10.0\n",
      "11.0\n",
      "1000.0\n",
      "0.6931471805599453\n",
      "16\n",
      "0.7980473864210647\n"
     ]
    }
   ],
   "source": [
    "// Floor Function  \n",
    "System.out.println(Math.floor(10.999999999));\n",
    "\n",
    "// Ceiling Function\n",
    "System.out.println(Math.ceil(10.999999999));\n",
    "\n",
    "// Exponents\n",
    "System.out.println(Math.pow(10, 3));\n",
    "\n",
    "// Logarithms in base 10\n",
    "System.out.println(Math.log(2));\n",
    "\n",
    "// Rounding\n",
    "System.out.println(Math.round(15.546432));\n",
    "\n",
    "// Random (generates random number btwn 0 & 1)\n",
    "System.out.println(Math.random());\n",
    "\n"
   ]
  },
  {
   "cell_type": "markdown",
   "metadata": {},
   "source": [
    "### Unit 3 Booleans, If/Else Statements, & Comparison\n",
    "Booleans are a key concept within computer science as a whole where they only store either True or False. Built on 0s and 1s, computers are essentially boolean based machines. Likewise, one can build complex methods through booleans and comparison operators/statements as the help with control flow in Java of code. The most common operators dealing with this include <, >, <=, >=, ==, !=, &&, and ||. If statements take in a boolean or boolean expression and run if the expression evaluates to \"true\". Else & Else if statements can be used in conjunction with if statements to run code if the if statement evaluates to false."
   ]
  },
  {
   "cell_type": "markdown",
   "metadata": {},
   "source": [
    "#### Comparisons w/ Primitives (numbers, characters, booleans), Strings, & Objects\n",
    "Comparing with Primitives, as stated above evaluate through == operator. Strings and Objects are evaluated through the .equals() method which is a default method inherited from the objects class. (more on that below)"
   ]
  },
  {
   "cell_type": "code",
   "execution_count": 36,
   "metadata": {},
   "outputs": [
    {
     "name": "stdout",
     "output_type": "stream",
     "text": [
      "true\n",
      "false\n",
      "true\n",
      "false\n",
      "false\n"
     ]
    }
   ],
   "source": [
    "int a = 0;\n",
    "int b = 0;\n",
    "int c = 1;\n",
    "\n",
    "// Comparing two same numbers\n",
    "System.out.println(a == b);\n",
    "\n",
    "// Comparing two different numbers\n",
    "System.out.println(a == c);\n",
    "\n",
    "String as = new String(\"yay\");\n",
    "String bs = new String(\"cool\");\n",
    "\n",
    "// Comparing the same string to itself (SAME memory location)\n",
    "System.out.println(as == as);\n",
    "\n",
    "// Comparing strings with same content using wrong operator (DIFFERENT memory location)\n",
    "System.out.println(as == bs);\n",
    "\n",
    "// Comparing strings with same content using correct .equals()\n",
    "System.out.println(as.equals(bs));"
   ]
  },
  {
   "cell_type": "markdown",
   "metadata": {},
   "source": [
    "#### Compound Boolean Expression\n",
    "Using combinations of boolean operators, you can make compound boolean expressions. Operators that can be used include and (&&), or (||), not (!), as well as parenthesis for grouping purposes."
   ]
  },
  {
   "cell_type": "code",
   "execution_count": 37,
   "metadata": {},
   "outputs": [
    {
     "name": "stdout",
     "output_type": "stream",
     "text": [
      "false\n"
     ]
    }
   ],
   "source": [
    "boolean a = true;\n",
    "boolean b = false;\n",
    "\n",
    "// Creating a compound expression\n",
    "boolean compound = !(a && b) && (b || a) && (!b && !a);\n",
    "\n",
    "// Printing the result\n",
    "System.out.println(compound);"
   ]
  },
  {
   "cell_type": "markdown",
   "metadata": {},
   "source": [
    "#### Truth Tables\n",
    "Can be used to see the values of boolean expressions. For example, below is truth tables for some common compound boolean expressions. (AND, OR, XOR, NOT)\n",
    "\n",
    "![](https://www.realdigital.org/img/228d4788d26e286b5706f6d644ddee8b.svg)"
   ]
  },
  {
   "cell_type": "markdown",
   "metadata": {},
   "source": [
    "#### De Morgan's Law\n",
    "De Morgan's Law is useful for simplifying boolean expressions and logic. States that !(a && b) = !a || !b AND !(a || b) = !a && !b (distribute and switch the middle sign almost like commutative property)"
   ]
  },
  {
   "cell_type": "code",
   "execution_count": 38,
   "metadata": {},
   "outputs": [
    {
     "name": "stdout",
     "output_type": "stream",
     "text": [
      "false false false\n"
     ]
    }
   ],
   "source": [
    "boolean a = true;\n",
    "boolean b = false;\n",
    "boolean c = true;\n",
    "boolean d = false;\n",
    "\n",
    "// complicated boolean expression\n",
    "boolean res1 = !((!(a && b)) || (!(a || b)));\n",
    "\n",
    "// simplified using De Morgan's Law once\n",
    "boolean res2 = !((!a || !b) || (!a && !b));\n",
    "\n",
    "//simplified using De Morgan's Law twice\n",
    "boolean res3 = !(!a || !b) && !(!a && !b);\n",
    "\n",
    "// all results are the same\n",
    "System.out.println(res1 + \" \" + res2 + \" \" + res3);"
   ]
  },
  {
   "cell_type": "markdown",
   "metadata": {},
   "source": [
    "### Unit 4 Loops\n",
    "While loop runs while a boolean condition is true. For loops create a variable which is modified on every loop iteration and has an end condition (useful for iterating through arrays, especially in different ways based on the modification, ie. i += 2 for all even indexes). For & while loops can be nested inside each other to achieve more iteration (really useful with 2D arrays). For each/Enhanced for loops really useful for looping through an array (int val : array) but limited in that they go through all elements from first to last and that cannot be modified. Loops help control repetition in our code as a sequential code flow controller. It also prevents us from excruciating arthritis."
   ]
  },
  {
   "cell_type": "markdown",
   "metadata": {},
   "source": [
    "#### For Loop & Enhanced For Loop\n",
    "For loops can be used to iterate through an index, and modify it in different ways in the for loop declaration. The enhanced for loop is exclusively used for iterating fully through an iterable (such as array)."
   ]
  },
  {
   "cell_type": "code",
   "execution_count": null,
   "metadata": {},
   "outputs": [],
   "source": [
    "// looping through even numbers\n",
    "for (int i = 0; i<10; i+=2) {\n",
    "    System.out.println(i);\n",
    "  }\n",
    "  \n",
    "  int[] arr = {1, 2, 3, 7, 8};\n",
    "  \n",
    "  // looping through array with conventional for lopo\n",
    "  for (int i = 0; i<arr.length; i++) {\n",
    "    System.out.println(arr[i]);\n",
    "  }\n",
    "  \n",
    "  // looping through array with enhanced for loop\n",
    "  for (int i : arr) {\n",
    "    System.out.println(i);\n",
    "  }"
   ]
  },
  {
   "cell_type": "markdown",
   "metadata": {},
   "source": [
    "#### While Loop & Do While Loop\n",
    "While loops run while a condition is true, the condition is checked before each iteration of the code is run.\n",
    "\n",
    "Do while loops also run while a condition is true, but the condition is checked AFTER each iteration of the code is run. This means that no matter what the do block runs at least once before the condition is checked"
   ]
  },
  {
   "cell_type": "code",
   "execution_count": null,
   "metadata": {},
   "outputs": [],
   "source": [
    "int i = 0;\n",
    "boolean falseBool = false;\n",
    "\n",
    "// printing even numbers with while loop\n",
    "while (i < 10) {\n",
    "  System.out.println(i);\n",
    "  i += 2;\n",
    "}\n",
    "\n",
    "// if condition is false while loop does not run at all\n",
    "while (falseBool) {\n",
    "  System.out.println(\"inside while loop\");\n",
    "}\n",
    "\n",
    "// if condition is false in do while, the loop runs once\n",
    "do {\n",
    "  System.out.println(\"inside do-while loop\");\n",
    "} while (falseBool);"
   ]
  },
  {
   "cell_type": "markdown",
   "metadata": {},
   "source": [
    "#### Nested Loops\n",
    "Loops can be used inside each other for better iteration and they are especially useful for 2D arrays which can be 2D and thus need to be iterated through twice to access each individual element."
   ]
  },
  {
   "cell_type": "code",
   "execution_count": 39,
   "metadata": {},
   "outputs": [
    {
     "name": "stdout",
     "output_type": "stream",
     "text": [
      "1 2 3 \n",
      "4 5 6 \n",
      "7 8 9 \n"
     ]
    }
   ],
   "source": [
    "int[][] arr = {\n",
    "    {1, 2, 3},\n",
    "    {4, 5, 6},\n",
    "    {7, 8, 9}\n",
    "  };\n",
    "  \n",
    "  // using nested for loops for 2D array\n",
    "  for (int i = 0; i<arr.length; i++) {\n",
    "    for (int j = 0; j<arr[i].length; j++) {\n",
    "      System.out.print(arr[i][j] + \" \");\n",
    "    }\n",
    "    System.out.println();\n",
    "  }"
   ]
  },
  {
   "cell_type": "markdown",
   "metadata": {},
   "source": [
    "### Unit 5 Classes (Own Lesson)\n",
    "Classes can be used for creating objects and have two main things: properties and methods. Properties are used to store information about each object of a class (can be made private/public which determines accessibility outside of class). Methods are used to modify the object & do things. Getter and Setter Methods can be used to modify properties of a class which are made private."
   ]
  },
  {
   "cell_type": "markdown",
   "metadata": {},
   "source": [
    "#### Breakdown of a Class\n",
    "![](https://runestone.academy/ns/books/published/csawesome/_images/personClassDefn.png)\n",
    "\n",
    "#### Breakdown of a Method\n",
    "![](https://simplesnippets.tech/wp-content/uploads/2018/03/methods-in-java-programming-1280x720.jpg)"
   ]
  },
  {
   "cell_type": "markdown",
   "metadata": {},
   "source": [
    "#### Access Modifiers \n",
    "Access modifiers control whether properties and methods can be accessed outside the class. The public means the property/method is accessible outside while if it is private it is not accessible from outside the class. Protected usually refers to within the package (a package in this case is almost like a special type of directory). Default is when no access modifier is specified and by default only subclasses can access variables and package subclasses. Below is a table of them\n",
    "\n",
    "![](https://media.geeksforgeeks.org/wp-content/cdn-uploads/Access-Modifiers-in-Java.png)"
   ]
  },
  {
   "cell_type": "markdown",
   "metadata": {},
   "source": [
    "#### Static Methods & Class Methods\n",
    "Static properties and methods are part of the class rather than each object. Static methods do not require an object, and static properties only have one instance that is the same for all objects."
   ]
  },
  {
   "cell_type": "markdown",
   "metadata": {},
   "source": [
    "#### Creating a Class\n",
    "Classes can be created using the class keyword along with definitions in front of it. A class should always be defined using upper camelcase (camelcase but first letter capital)."
   ]
  },
  {
   "cell_type": "code",
   "execution_count": null,
   "metadata": {},
   "outputs": [],
   "source": [
    "class SomeClass{\n",
    "    \n",
    "}"
   ]
  },
  {
   "cell_type": "markdown",
   "metadata": {},
   "source": [
    "#### Main Method & Tester Methods\n",
    "The main method is used to test a class, is automatically called when class ran. It usually creates an object and can test methods hence it is mostly used as a tester method for classes. To execute the main portion of the code, a Main class with a main method is normally reserved which handles most of the executions of the code."
   ]
  },
  {
   "cell_type": "code",
   "execution_count": 41,
   "metadata": {},
   "outputs": [
    {
     "name": "stdout",
     "output_type": "stream",
     "text": [
      "cool main method\n"
     ]
    }
   ],
   "source": [
    "class SomeClass {\n",
    "    // main method (definition for main method, more on individual parts later)\n",
    "    public static void main(String[] args){\n",
    "        System.out.println(\"cool main method\");\n",
    "    }\n",
    "}\n",
    "\n",
    "SomeClass.main(null);"
   ]
  },
  {
   "cell_type": "markdown",
   "metadata": {},
   "source": [
    "#### this Keyword\n",
    "The \"this\" keyword allows you to access properties of the class. See constructor example to see use of this keyword."
   ]
  },
  {
   "cell_type": "markdown",
   "metadata": {},
   "source": [
    "#### Constructors\n",
    "Constructors are called whenever the object is created and usually initializes fields (data/attributes defined in the class). It does not return anything because the object is automatically given to the user when constructor is called and thus its return type is implied."
   ]
  },
  {
   "cell_type": "code",
   "execution_count": 60,
   "metadata": {},
   "outputs": [
    {
     "name": "stdout",
     "output_type": "stream",
     "text": [
      "123\n",
      "abc\n"
     ]
    }
   ],
   "source": [
    "// creating a class (camel casing w/ first letter capitalized)\n",
    "class SomeClass {\n",
    "    int someInt;\n",
    "    String someString;\n",
    "\n",
    "    // Constructor\n",
    "    public SomeClass(int someInt, String someString){ // constructor passes in outside parameters if we want to initialize certain fields\n",
    "        // this references objects own fields to differentiate (more on that later)\n",
    "        this.someInt = someInt;\n",
    "        this.someString = someString;\n",
    "    }\n",
    "\n",
    "    public static void main(String[] args){\n",
    "        SomeClass obj = new SomeClass(123, \"abc\");\n",
    "    \n",
    "        System.out.println(obj.someInt);\n",
    "        System.out.println(obj.someString);\n",
    "    }\n",
    "}\n",
    "\n",
    "SomeClass.main(null);"
   ]
  },
  {
   "cell_type": "markdown",
   "metadata": {},
   "source": [
    "#### Mutator Methods & Setter Methods\n",
    "These methods are used to get properties of an object from the outside the class definition. They are almost always necessary for private variables within classes.\n",
    "\n",
    "Getters can be applied on only the properties which should be accessed outside the class. They always have a return type of whatever data field is being retrieved. \n",
    "\n",
    "Setters are used to only set properties which are set outside the class. They are always void methods as their only purpose is to set variables.\n"
   ]
  },
  {
   "cell_type": "code",
   "execution_count": 62,
   "metadata": {},
   "outputs": [
    {
     "name": "stdout",
     "output_type": "stream",
     "text": [
      "123\n"
     ]
    }
   ],
   "source": [
    "class SomeClass {\n",
    "    private int someInt;\n",
    "    private String someString;\n",
    "\n",
    "    public SomeClass(int someInt, String someString){ \n",
    "        this.someInt = someInt;\n",
    "        this.someString = someString;\n",
    "    }\n",
    "\n",
    "    // Getter method\n",
    "    public int getSomeInt(){\n",
    "        return this.someInt;\n",
    "    }\n",
    "\n",
    "    public static void main(String[] args){\n",
    "      SomeClass obj = new SomeClass(123, \"abc\");\n",
    "\n",
    "      //Using Getter Method\n",
    "      System.out.println(obj.getSomeInt());\n",
    "    }\n",
    "}\n",
    "\n",
    "SomeClass.main(null);"
   ]
  },
  {
   "cell_type": "code",
   "execution_count": 64,
   "metadata": {},
   "outputs": [
    {
     "name": "stdout",
     "output_type": "stream",
     "text": [
      "111\n"
     ]
    }
   ],
   "source": [
    "class SomeClass {\n",
    "  private int someInt;\n",
    "  private String someString;\n",
    "\n",
    "  public SomeClass(int someInt, String someString){ \n",
    "      this.someInt = someInt;\n",
    "      this.someString = someString;\n",
    "  }\n",
    "\n",
    "  public int getSomeInt(){\n",
    "      return this.someInt;\n",
    "  }\n",
    "\n",
    "  // Setter\n",
    "  public void setSomeInt(int newInt){\n",
    "       this.someInt = newInt;\n",
    "  }\n",
    "\n",
    "  public static void main(String[] args){\n",
    "      SomeClass obj = new SomeClass(123, \"abc\");\n",
    "\n",
    "      // Using setter method\n",
    "      obj.setSomeInt(111);\n",
    "      System.out.println(obj.getSomeInt());\n",
    "  }\n",
    "}\n",
    "\n",
    "SomeClass.main(null);"
   ]
  },
  {
   "cell_type": "markdown",
   "metadata": {},
   "source": [
    "### Unit 6 Lists\n",
    "Lists are a way to store a \"collection\" of data (particularly primitives). They have a set size and can only store data of the same type. The most important thing to consider are the bounds and size of the array which dictates the entries you can access and loop through."
   ]
  },
  {
   "cell_type": "code",
   "execution_count": null,
   "metadata": {},
   "outputs": [],
   "source": [
    "int[] array = {1, 2, 3, 4, 5, 10, 15};\n",
    "\n",
    "for (int num : array) {\n",
    "  if (num % 5 == 0 && num % 3 != 0) {\n",
    "    System.out.println(num);\n",
    "  }\n",
    "}"
   ]
  },
  {
   "cell_type": "markdown",
   "metadata": {},
   "source": [
    "### Unit 7 ArrayLists\n",
    "An ArrayList is like an array but the length can be changed. For ArrayList you must use a wrapper class rather than a primitive\n",
    "Due to ArrayList using generics. ArrayList can also work with enhanced for loops and have many convenient functions."
   ]
  },
  {
   "cell_type": "code",
   "execution_count": null,
   "metadata": {},
   "outputs": [],
   "source": [
    "// using \"Integer\" wrapper class\n",
    "ArrayList<Integer> listOfIntegers = new ArrayList<>();\n",
    "\n",
    "// Explicitly creating integer\n",
    "listOfIntegers.add(new Integer(10));\n",
    "\n",
    "// automatically converts to Integer\n",
    "listOfIntegers.add(1);\n",
    "\n",
    "// using toString method of ArrayList\n",
    "System.out.println(listOfIntegers);"
   ]
  },
  {
   "cell_type": "markdown",
   "metadata": {},
   "source": [
    "### Unit 8 2D Arrays\n",
    "Arrays can be placed inside arrays, creating 2D array. Useful for representing 2d space, or text (as 2d). Defined by using two pairs of square brackets after the type. Can be traversed using nested for loop. Concept of putting one for loop inside another. Really useful for traversing 2d arrays."
   ]
  },
  {
   "cell_type": "code",
   "execution_count": null,
   "metadata": {},
   "outputs": [],
   "source": [
    "// defining 2d array\n",
    "int[][] arr2d = {\n",
    "    {1, 2, 3},\n",
    "    {4, 5, 6, 7},\n",
    "    {8, 9, 10}\n",
    "  };\n",
    "  \n",
    "  // using nested for loops\n",
    "  for (int[] row : arr2d) {\n",
    "    for (int val : row) {\n",
    "      System.out.print(val + \" \");\n",
    "    }\n",
    "    System.out.println();\n",
    "  }"
   ]
  },
  {
   "cell_type": "markdown",
   "metadata": {},
   "source": [
    "### Unit 9 Inheritance\n",
    "Inheritance can be used when two classes share similar functionality. Allows super class to have base functionality (ie. car). Sub class adds additional functionality to the base (ie. tesla car) \"extends\" and \"abstract\" keywords can be used to define inheritance in Java.\n",
    "\n",
    "#### Extends key word\n",
    "Defines a sub class that inherits all the methods from the super class. Useful because you don't need to redefine everything from super class.\n"
   ]
  },
  {
   "cell_type": "code",
   "execution_count": null,
   "metadata": {},
   "outputs": [],
   "source": [
    "public class Animal {\n",
    "    String color;\n",
    "    int age;\n",
    "  \n",
    "    public Animal () {}\n",
    "  \n",
    "    public Animal (String color, int age) {\n",
    "      this.color = color;\n",
    "      this.age = age;\n",
    "    }\n",
    "  \n",
    "    public void sayHello () {\n",
    "      System.out.println(\"hello, I am \" + color + \" and I am \" + age + \" years old.\");\n",
    "    }\n",
    "  \n",
    "    public void walk () {\n",
    "      System.out.println(\"walking...\");\n",
    "    }\n",
    "  \n",
    "    public void eat () {\n",
    "      System.out.println(\"eating\");\n",
    "    }\n",
    "  }\n",
    "  \n",
    "  public class Cat extends Animal {\n",
    "    String owner;\n",
    "  \n",
    "    public Cat (String color, int age, String owner) {\n",
    "      this.color = color;\n",
    "      this.age = age;\n",
    "      this.owner = owner;\n",
    "    }\n",
    "  \n",
    "    public void sayOwner () {\n",
    "      System.out.println(\"my owner is \" + owner);\n",
    "    }\n",
    "  }\n",
    "  \n",
    "  Cat c = new Cat(\"green\", 2, \"joe\");\n",
    "  \n",
    "  // using method from parent class\n",
    "  c.sayHello();\n",
    "  // using method from child class\n",
    "  c.sayOwner();"
   ]
  },
  {
   "cell_type": "markdown",
   "metadata": {},
   "source": [
    "#### Subclass constructor, super Keyword\n",
    "The constructor in a subclass can use \"super\" to access the parent class constructor\n",
    "\"super\" can also be used to access parent class methods"
   ]
  },
  {
   "cell_type": "code",
   "execution_count": null,
   "metadata": {},
   "outputs": [],
   "source": [
    "public class Animal {\n",
    "    String color;\n",
    "    int age;\n",
    "  \n",
    "    public Animal () {}\n",
    "  \n",
    "    public Animal (String color, int age) {\n",
    "      this.color = color;\n",
    "      this.age = age;\n",
    "    }\n",
    "  \n",
    "    public void sayHello () {\n",
    "      System.out.println(\"hello, I am \" + color + \" and I am \" + age + \" years old.\");\n",
    "    }\n",
    "  \n",
    "    public void walk () {\n",
    "      System.out.println(\"walking...\");\n",
    "    }\n",
    "  \n",
    "    public void eat () {\n",
    "      System.out.println(\"eating\");\n",
    "    }\n",
    "  }\n",
    "  \n",
    "  public class Cat extends Animal {\n",
    "    String owner;\n",
    "  \n",
    "    public Cat (String color, int age, String owner) {\n",
    "      // reduce code duplication\n",
    "      super(color, age);\n",
    "      this.owner = owner;\n",
    "    }\n",
    "  \n",
    "    public void sayOwner () {\n",
    "      System.out.println(\"my owner is \" + owner);\n",
    "    }\n",
    "  \n",
    "    public void sayOwnerAndHello() {\n",
    "      super.sayHello();\n",
    "      sayOwner();\n",
    "    }\n",
    "  }\n",
    "  \n",
    "  Cat c = new Cat(\"green\", 2, \"joe\");\n",
    "  \n",
    "  c.sayOwnerAndHello();"
   ]
  },
  {
   "cell_type": "markdown",
   "metadata": {},
   "source": [
    "#### Polymorphism: Any of Overloading, Overriding, Late Binding\n",
    "Polymorphism literally means many forms. In the context of OOP, it stands as one of its pillars. Through Polymorphism, methods can take on different implementations and instances thus making them capable of generating variety of outputs under different circumstances. Such nameSpacing helps organize our methods that do essentially the same outputs in different ways."
   ]
  },
  {
   "cell_type": "markdown",
   "metadata": {},
   "source": [
    "#### Overriding a Method (Same Signature of a Method)\n",
    "Allows you to define a method in the parent class, but then change it in child class. Really useful to change functionality in child class."
   ]
  },
  {
   "cell_type": "code",
   "execution_count": null,
   "metadata": {},
   "outputs": [],
   "source": [
    "public class Animal {\n",
    "    String color;\n",
    "    int age;\n",
    "  \n",
    "    public Animal () {}\n",
    "  \n",
    "    public Animal (String color, int age) {\n",
    "      this.color = color;\n",
    "      this.age = age;\n",
    "    }\n",
    "  \n",
    "    public void sayHello () {\n",
    "      System.out.println(\"hello, I am \" + color + \" and I am \" + age + \" years old.\");\n",
    "    }\n",
    "  \n",
    "    public void walk () {\n",
    "      System.out.println(\"walking...\");\n",
    "    }\n",
    "  \n",
    "    public void eat () {\n",
    "      System.out.println(\"eating\");\n",
    "    }\n",
    "  }\n",
    "  \n",
    "  public class Cat extends Animal {\n",
    "    String owner;\n",
    "  \n",
    "    public Cat (String color, int age, String owner) {\n",
    "      // reduce code duplication\n",
    "      super(color, age);\n",
    "      this.owner = owner;\n",
    "    }\n",
    "  \n",
    "    public void sayOwner () {\n",
    "      System.out.println(\"my owner is \" + owner);\n",
    "    }\n",
    "  \n",
    "    // Adding more functionality in say hello for cat\n",
    "    @Override\n",
    "    public void sayHello() {\n",
    "      super.sayHello();\n",
    "      System.out.println(\"meow...\");\n",
    "    }\n",
    "  }\n",
    "  \n",
    "  // Cat uses cat method\n",
    "  Cat c = new Cat(\"green\", 2, \"joe\");\n",
    "  c.sayHello();\n",
    "  \n",
    "  // Animal uses animal method\n",
    "  Animal a = new Animal(\"blue\", 3);\n",
    "  a.sayHello();"
   ]
  },
  {
   "cell_type": "markdown",
   "metadata": {},
   "source": [
    "#### Abstract Class, Abstract Method\n",
    "Abstract class means a class cannot be instantiated, it is simply a template. Abstract methods define the signature but the method must be implemented in child class. For example, lets say we don't want an animal to be created..."
   ]
  },
  {
   "cell_type": "code",
   "execution_count": null,
   "metadata": {},
   "outputs": [],
   "source": [
    "abstract class Animal {\n",
    "    String color;\n",
    "    int age;\n",
    "  \n",
    "    public Animal () {}\n",
    "  \n",
    "    public Animal (String color, int age) {\n",
    "      this.color = color;\n",
    "      this.age = age;\n",
    "    }\n",
    "  \n",
    "    // must be defined in child class\n",
    "    abstract void sayHello ();\n",
    "  \n",
    "    public void walk () {\n",
    "      System.out.println(\"walking...\");\n",
    "    }\n",
    "  \n",
    "    public void eat () {\n",
    "      System.out.println(\"eating\");\n",
    "    }\n",
    "  }\n",
    "  \n",
    "  public class Cat extends Animal {\n",
    "    String owner;\n",
    "  \n",
    "    public Cat (String color, int age, String owner) {\n",
    "      // reduce code duplication\n",
    "      super(color, age);\n",
    "      this.owner = owner;\n",
    "    }\n",
    "  \n",
    "    public void sayOwner () {\n",
    "      System.out.println(\"my owner is \" + owner);\n",
    "    }\n",
    "  \n",
    "    // Defining method that was abstract\n",
    "    @Override\n",
    "    public void sayHello() {\n",
    "      System.out.println(\"meow...\");\n",
    "    }\n",
    "  }\n",
    "  \n",
    "  // Cat uses cat method\n",
    "  Cat c = new Cat(\"green\", 2, \"joe\");\n",
    "  c.sayHello();"
   ]
  },
  {
   "cell_type": "markdown",
   "metadata": {},
   "source": [
    "#### Late Binding of Object, Referencing Superclass Object\n",
    "Allows you to use the type of a superclass but have an object of the subclass. Useful if you know it will be part of the superclass, but don't know which subclass it is. I know it is an animal but I don't know which type. Works well with abstract methods."
   ]
  },
  {
   "cell_type": "code",
   "execution_count": null,
   "metadata": {},
   "outputs": [],
   "source": [
    "abstract class Animal {\n",
    "    String color;\n",
    "    int age;\n",
    "  \n",
    "    public Animal () {}\n",
    "  \n",
    "    public Animal (String color, int age) {\n",
    "      this.color = color;\n",
    "      this.age = age;\n",
    "    }\n",
    "  \n",
    "    // must be defined in child class\n",
    "    abstract void sayHello ();\n",
    "  \n",
    "    public void walk () {\n",
    "      System.out.println(\"walking...\");\n",
    "    }\n",
    "  \n",
    "    public void eat () {\n",
    "      System.out.println(\"eating\");\n",
    "    }\n",
    "  }\n",
    "  \n",
    "  public class Cat extends Animal {\n",
    "    String owner;\n",
    "  \n",
    "    public Cat (String color, int age, String owner) {\n",
    "      // reduce code duplication\n",
    "      super(color, age);\n",
    "      this.owner = owner;\n",
    "    }\n",
    "  \n",
    "    public void sayOwner () {\n",
    "      System.out.println(\"my owner is \" + owner);\n",
    "    }\n",
    "  \n",
    "    // Defining method that was abstract\n",
    "    @Override\n",
    "    public void sayHello() {\n",
    "      System.out.println(\"meow...\");\n",
    "    }\n",
    "  }\n",
    "  \n",
    "  // Defining cat as an animal!\n",
    "  Animal c = new Cat(\"green\", 2, \"joe\");\n",
    "  \n",
    "  // can use because abstract method guarentees implentation in child class\n",
    "  c.sayHello();"
   ]
  },
  {
   "cell_type": "markdown",
   "metadata": {},
   "source": [
    "#### Overloading a Method (Same Name Different Parameters)\n",
    "Allows you to have a method, but different sets of arguments\n",
    "The method which is called is determined at compile time (early binding) based on the arguments passed in"
   ]
  },
  {
   "cell_type": "code",
   "execution_count": null,
   "metadata": {},
   "outputs": [],
   "source": [
    "abstract class Animal {\n",
    "    String color;\n",
    "    int age;\n",
    "  \n",
    "    public Animal () {}\n",
    "  \n",
    "    public Animal (String color, int age) {\n",
    "      this.color = color;\n",
    "      this.age = age;\n",
    "    }\n",
    "  \n",
    "    // must be defined in child class\n",
    "    abstract void sayHello ();\n",
    "  \n",
    "    public void walk () {\n",
    "      System.out.println(\"walking...\");\n",
    "    }\n",
    "  \n",
    "    public void eat () {\n",
    "      System.out.println(\"eating\");\n",
    "    }\n",
    "  }\n",
    "  \n",
    "  public class Cat extends Animal {\n",
    "    String owner;\n",
    "  \n",
    "    public Cat (String color, int age, String owner) {\n",
    "      // reduce code duplication\n",
    "      super(color, age);\n",
    "      this.owner = owner;\n",
    "    }\n",
    "  \n",
    "    public void sayOwner () {\n",
    "      System.out.println(\"my owner is \" + owner);\n",
    "    }\n",
    "  \n",
    "    // Defining method that was abstract\n",
    "    @Override\n",
    "    public void sayHello() {\n",
    "      System.out.println(\"meow...\");\n",
    "    }\n",
    "  \n",
    "    // same method with different arguments\n",
    "    public void sayHello(String person) {\n",
    "      System.out.println(\"meow... hello \" + person);\n",
    "    }\n",
    "  }\n",
    "  \n",
    "  Cat c = new Cat(\"green\", 2, \"joe\");\n",
    "  \n",
    "  // two different argument sets for same method\n",
    "  c.sayHello();\n",
    "  c.sayHello(\"mark\")"
   ]
  },
  {
   "cell_type": "markdown",
   "metadata": {},
   "source": [
    "#### Standard methods: toString(), equals(), hashCode()\n",
    "All objects automatically inherit from Object class and have some methods. toString should list properties, equals should compare properties, hashCode should give unique identifier."
   ]
  },
  {
   "cell_type": "code",
   "execution_count": null,
   "metadata": {},
   "outputs": [],
   "source": [
    "abstract class Animal {\n",
    "    String color;\n",
    "    int age;\n",
    "  \n",
    "    public Animal () {}\n",
    "  \n",
    "    public Animal (String color, int age) {\n",
    "      this.color = color;\n",
    "      this.age = age;\n",
    "    }\n",
    "  \n",
    "    // must be defined in child class\n",
    "    abstract void sayHello ();\n",
    "  \n",
    "    public void walk () {\n",
    "      System.out.println(\"walking...\");\n",
    "    }\n",
    "  \n",
    "    public void eat () {\n",
    "      System.out.println(\"eating\");\n",
    "    }\n",
    "  }\n",
    "  \n",
    "  public class Cat extends Animal {\n",
    "    String owner;\n",
    "  \n",
    "    public Cat (String color, int age, String owner) {\n",
    "      // reduce code duplication\n",
    "      super(color, age);\n",
    "      this.owner = owner;\n",
    "    }\n",
    "  \n",
    "    public void sayOwner () {\n",
    "      System.out.println(\"my owner is \" + owner);\n",
    "    }\n",
    "  \n",
    "    // Defining method that was abstract\n",
    "    @Override\n",
    "    public void sayHello() {\n",
    "      System.out.println(\"meow...\");\n",
    "    }\n",
    "  \n",
    "    // same method with different arguments\n",
    "    public void sayHello(String person) {\n",
    "      System.out.println(\"meow... hello \" + person);\n",
    "    }\n",
    "  \n",
    "    // Overriding the to string\n",
    "    @Override\n",
    "    public String toString () {\n",
    "      return \"[Cat]: \" + \"color=\" + color + \", \" + \"age=\" + age + \", \" + \"owner=\" + owner;\n",
    "    }\n",
    "  }\n",
    "  \n",
    "  // Object superclass is automatically inherited\n",
    "  Object c = new Cat(\"green\", 2, \"joe\");\n",
    "  \n",
    "  // System.out.println uses toString method internally\n",
    "  System.out.println(c);"
   ]
  },
  {
   "cell_type": "markdown",
   "metadata": {},
   "source": [
    "### Unit 10 Recursion\n",
    "Recursion can be used in situations where you need to repeatedly do something, instead of loops. Recursion must call itself and have a base case. Base case allows the recursion to end at some point.\n",
    "\n",
    "#### Big O notation for Hash map, Binary Search, Single loop, Nested Loop\n",
    "Used to describe the most time it would take for a function to run (without constants). For example, the recursion below would take O(n) time as it has to go through n iterations to calculate the factorial."
   ]
  },
  {
   "cell_type": "code",
   "execution_count": null,
   "metadata": {},
   "outputs": [],
   "source": [
    "public int factorial (int n) {\n",
    "    if (n == 0 || n == 1) {\n",
    "      return 1;\n",
    "    }\n",
    "    return n * factorial(n-1);\n",
    "}\n",
    "  \n",
    "  System.out.println(factorial(5));"
   ]
  }
 ],
 "metadata": {
  "kernelspec": {
   "display_name": "Java",
   "language": "java",
   "name": "java"
  },
  "language_info": {
   "codemirror_mode": "java",
   "file_extension": ".jshell",
   "mimetype": "text/x-java-source",
   "name": "java",
   "pygments_lexer": "java",
   "version": "18.0.1.1+2-6"
  },
  "orig_nbformat": 4
 },
 "nbformat": 4,
 "nbformat_minor": 2
}
