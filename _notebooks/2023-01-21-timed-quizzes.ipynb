{
 "cells": [
  {
   "attachments": {},
   "cell_type": "markdown",
   "metadata": {},
   "source": [
    "# Timed College Board Quizzes\n",
    "> Timed College Board Quizzes\n",
    "\n",
    "- title: Timed College Board Quizzes\n",
    "- badges: true\n",
    "- toc: true\n",
    "- comments: true\n",
    "- categories: [collegeboard, quizzes]"
   ]
  },
  {
   "attachments": {},
   "cell_type": "markdown",
   "metadata": {},
   "source": [
    "### Overall Reflection\n",
    "Of the practices MCQs we did so far I found this one the most challenging and most time consuming. If I spent as much time as I wanted on it, I think I'd definitely be able to complete with almost a perfect score overall. Although 60/66 is not bad in any sense of the matter, I think a lot of them were less conceptual misunderstandings and more so mental exhaustion. I think if I practice doing continuos quizzes more that exhaustion will be better and I'll be able to analyze the code a lot better. I also spent well over 1.5 hours (although I did take breaks in between) but overall I think my total time on the reflection was around 2.5 hours of continuous answering them.\n",
    "\n",
    "![image](https://user-images.githubusercontent.com/75715248/214100836-7c54132c-ad64-45c4-9fb7-2a11973ea5b2.png)\n",
    "\n",
    "### Corrections\n",
    "Here are my corrections for both quizzes.\n",
    "\n",
    "#### 66 Question Quiz Corrections\n",
    "\n",
    "\n"
   ]
  }
 ],
 "metadata": {
  "kernelspec": {
   "display_name": "Java",
   "language": "java",
   "name": "java"
  },
  "language_info": {
   "name": "java",
   "version": "3.10.6 (v3.10.6:9c7b4bd164, Aug  1 2022, 17:13:48) [Clang 13.0.0 (clang-1300.0.29.30)]"
  },
  "orig_nbformat": 4,
  "vscode": {
   "interpreter": {
    "hash": "aee8b7b246df8f9039afb4144a1f6fd8d2ca17a180786b69acc140d282b71a49"
   }
  }
 },
 "nbformat": 4,
 "nbformat_minor": 2
}
