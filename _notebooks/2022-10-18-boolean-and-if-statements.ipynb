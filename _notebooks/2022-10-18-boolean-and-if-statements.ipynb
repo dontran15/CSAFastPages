{
 "cells": [
  {
   "cell_type": "markdown",
   "metadata": {},
   "source": [
    "# Booleans and If/Else Statement Notes & HW\n",
    "> Boolean and If/Else Statement Notes & HW\n",
    "\n",
    "- title: If/Else Statements\n",
    "- badges: true\n",
    "- toc: true\n",
    "- categories: [college board, week 9]"
   ]
  },
  {
   "cell_type": "markdown",
   "metadata": {},
   "source": [
    "## Unit 3\n",
    "## Booleans\n",
    "Logic, implementation into code, true or false logic\n",
    "Can be evaluated as true and false\n",
    "Compares data with same data types to see if they are true or not\n",
    "For instance, numbers are commonly used as part of this in code\n",
    "\n",
    "## If/Else Statements\n",
    "Useful statements that help with control flows as methods, represents conditional programming\n",
    "\n",
    "### If Statements\n",
    "If statements take a boolean parameter and if it is true, the if statement code executes otherwise nothing happens\n",
    "\n",
    "### If/Else Statements\n",
    "If/Else works similar to if statements except if the if statement is false and thus not run, the else statement code runs\n",
    "\n",
    "### If/Else/If\n",
    "If/Else statement that has a nested if statement as another condition. They can be nested infinitely though we use switch case statements to deal with them easier\n",
    "\n",
    "### Switch Case Statement\n",
    "Executes if else logic much more quickly than if/else/if/else statements\n",
    "\n",
    "## Logic Gates\n",
    "And gate\n",
    "Or Gate\n",
    "Greater than (or Equal) Gates\n",
    "Less than (or Equal) Gates\n",
    "Equal Operator\n",
    "Not Operator\n",
    "Etc.\n",
    "\n",
    "Logic gates help process logic through comparisons. In turn, we \n",
    "\n",
    "## De Morgan's Law\n",
    "Method of reversing operators and transforming a boolean statement in accordance with the not operator (reverses them)\n",
    "\n",
    "## Truth Table\n",
    "Method of visualizing true and false statements in all possible combinations that returns either true or false"
   ]
  },
  {
   "cell_type": "code",
   "execution_count": 1,
   "metadata": {},
   "outputs": [
    {
     "name": "stdout",
     "output_type": "stream",
     "text": [
      "19\n"
     ]
    }
   ],
   "source": [
    "System.out.println(7*3+6/2-5);"
   ]
  },
  {
   "cell_type": "code",
   "execution_count": null,
   "metadata": {},
   "outputs": [],
   "source": []
  }
 ],
 "metadata": {
  "kernelspec": {
   "display_name": "Java",
   "language": "java",
   "name": "java"
  },
  "language_info": {
   "codemirror_mode": "java",
   "file_extension": ".jshell",
   "mimetype": "text/x-java-source",
   "name": "java",
   "pygments_lexer": "java",
   "version": "18.0.1.1+2-6"
  },
  "orig_nbformat": 4,
  "vscode": {
   "interpreter": {
    "hash": "aee8b7b246df8f9039afb4144a1f6fd8d2ca17a180786b69acc140d282b71a49"
   }
  }
 },
 "nbformat": 4,
 "nbformat_minor": 2
}
