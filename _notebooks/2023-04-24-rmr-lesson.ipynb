{
 "cells": [
  {
   "attachments": {},
   "cell_type": "markdown",
   "metadata": {},
   "source": [
    "# Arrays and 2D-Arrays Lesson\n",
    "> RMR Lessons\n",
    "\n",
    "- title: Test\n",
    "- badges: true\n",
    "- toc: true\n",
    "- comments: true\n",
    "- categories: [collegeboard]"
   ]
  },
  {
   "attachments": {},
   "cell_type": "markdown",
   "metadata": {},
   "source": [
    "## Unit 6\n",
    "\n",
    "### Lists\n",
    "1. mutable (changeable content)\n",
    "2. ordered (specific order by index)\n",
    "3. repeating values (can have repeating values)\n",
    "4. fixed sizes (size of array cannot be changed once initialized, can't add element)\n",
    "\n",
    "#### Syntax\n",
    "Uses .length for length, use curly brackets for assignment or [i] for specific index (both access or modifying)\n",
    "\n",
    "\n",
    "\n",
    "### Hacks\n",
    "#### Hack 1 "
   ]
  },
  {
   "cell_type": "code",
   "execution_count": 8,
   "metadata": {
    "vscode": {
     "languageId": "java"
    }
   },
   "outputs": [],
   "source": [
    "// create ArrayLists that satisfy the following\n",
    "\n",
    "// a) that stores Boolean values\n",
    "boolean[] bool = {true, false, true, true};\n",
    "\n",
    "// b) that stores Turtle Objects\n",
    "public class Turtle{}\n",
    "Turtle[] turtles = {new Turtle(), new Turtle(), new Turtle(), new Turtle()};\n",
    "\n",
    "// c) that initializes with 10 Strings\n",
    "String[] strings = {\"1\", \"2\", \"3\", \"4\", \"5\", \"1\", \"2\", \"3\", \"4\", \"5\"};"
   ]
  },
  {
   "attachments": {},
   "cell_type": "markdown",
   "metadata": {},
   "source": [
    "#### Hack 2\n",
    "Choose 3 different methods from above to change around this sample ArrayList:"
   ]
  },
  {
   "cell_type": "code",
   "execution_count": 13,
   "metadata": {
    "vscode": {
     "languageId": "java"
    }
   },
   "outputs": [
    {
     "name": "stdout",
     "output_type": "stream",
     "text": [
      "ArrayList: [1, 4, 7, 12, 23]\n",
      "ArrayList: [1, 4, 4, 12, 23]\n"
     ]
    }
   ],
   "source": [
    "import java.util.ArrayList;\n",
    "\n",
    "public class Hack2 {\n",
    "    public static void main(Integer[] args) {\n",
    "        ArrayList<Integer> randomNumbers = new ArrayList<Integer>();\n",
    "        randomNumbers.add(1);\n",
    "        randomNumbers.add(4);\n",
    "        randomNumbers.add(7);\n",
    "        randomNumbers.add(12);\n",
    "        randomNumbers.add(23);\n",
    "        System.out.println(\"ArrayList: \" + randomNumbers);\n",
    "\n",
    "        randomNumbers.remove(2);\n",
    "        randomNumbers.add(4);\n",
    "        Collections.sort(randomNumbers);\n",
    "\n",
    "        System.out.println(\"ArrayList: \" + randomNumbers);\n",
    "    }\n",
    "}\n",
    "Hack2.main(null);"
   ]
  },
  {
   "attachments": {},
   "cell_type": "markdown",
   "metadata": {},
   "source": [
    "#### Hack 3\n",
    "Here is some sample code for the total sum of integers. Finish the loop!"
   ]
  },
  {
   "cell_type": "code",
   "execution_count": 17,
   "metadata": {
    "vscode": {
     "languageId": "java"
    }
   },
   "outputs": [
    {
     "name": "stdout",
     "output_type": "stream",
     "text": [
      "ArrayList: [1, 4, 7, 12, 23]\n",
      "Total: 47\n"
     ]
    }
   ],
   "source": [
    "public class Hack3 {\n",
    "    public static void main(ArrayList<Integer> values) {\n",
    "        ArrayList<Integer> numbers = new ArrayList<Integer>();\n",
    "        numbers.add(1);\n",
    "        numbers.add(4);\n",
    "        numbers.add(7);\n",
    "        numbers.add(12);\n",
    "        numbers.add(23);\n",
    "        System.out.println(\"ArrayList: \" + numbers);\n",
    "        \n",
    "        int total = 0;\n",
    "\n",
    "            for (int i=0; i < numbers.size(); i++) {\n",
    "                total += numbers.get(i);\n",
    "            }\n",
    "        \n",
    "        System.out.println(\"Total: \" + total);\n",
    "    }\n",
    "}\n",
    "Hack3.main(null);\n"
   ]
  },
  {
   "attachments": {},
   "cell_type": "markdown",
   "metadata": {},
   "source": [
    "#### Hack 5\n",
    "Complete the Selection sort sample code by writing code for a swap of elements."
   ]
  },
  {
   "attachments": {},
   "cell_type": "markdown",
   "metadata": {},
   "source": [
    "### Array/ArrayList Hacks\n",
    "#### Hack 5\n",
    "Make an array and iterate through it to only print the elements with even indexes (this includes 0). Then iterate through it again to only print the odd indexes."
   ]
  },
  {
   "cell_type": "code",
   "execution_count": 20,
   "metadata": {
    "vscode": {
     "languageId": "java"
    }
   },
   "outputs": [
    {
     "name": "stdout",
     "output_type": "stream",
     "text": [
      "1\n",
      "5\n",
      "7\n"
     ]
    }
   ],
   "source": [
    "int[] array = {1, 23, 5, 3, 7};\n",
    "\n",
    "for (int i = 0; i < array.length; i += 2){\n",
    "    System.out.println(array[i]);\n",
    "}"
   ]
  },
  {
   "attachments": {},
   "cell_type": "markdown",
   "metadata": {},
   "source": [
    "#### Hack 6\n",
    "Create a 2D array and iterate through it to print all of its elements."
   ]
  },
  {
   "cell_type": "code",
   "execution_count": 26,
   "metadata": {
    "vscode": {
     "languageId": "java"
    }
   },
   "outputs": [
    {
     "name": "stdout",
     "output_type": "stream",
     "text": [
      "1 23 5 3 7 \n",
      "5 2 8 11 14 \n",
      "2 3 4 5 6 \n"
     ]
    }
   ],
   "source": [
    "int[][] array = {{1, 23, 5, 3, 7}, {5, 2, 8, 11, 14}, {2, 3, 4, 5, 6}};\n",
    "\n",
    "for (int[] i : array){\n",
    "    for(int j : i){\n",
    "        System.out.print(Integer.toString(j) + \" \");\n",
    "    }\n",
    "\n",
    "    System.out.println();\n",
    "}"
   ]
  },
  {
   "attachments": {},
   "cell_type": "markdown",
   "metadata": {},
   "source": [
    "#### Hack 7\n",
    "Find the sum of the values on the diagonal of the 2D array. Print the sum."
   ]
  },
  {
   "cell_type": "code",
   "execution_count": 33,
   "metadata": {
    "vscode": {
     "languageId": "java"
    }
   },
   "outputs": [
    {
     "name": "stdout",
     "output_type": "stream",
     "text": [
      "5\n"
     ]
    }
   ],
   "source": [
    "public class Test1\n",
    "{\n",
    "\n",
    "    public static void main(String[] args)\n",
    "    {\n",
    "        int[][] array = { {1,2,3},{-1,-2,-3},{4,5,6} };\n",
    "        int sum = 0;\n",
    "\n",
    "        //ADD CODE HERE\n",
    "        for (int i = 0; i < array.length; i++){\n",
    "            sum += array[i][i];\n",
    "        }\n",
    "\n",
    "        System.out.println(sum);\n",
    "\n",
    "    }\n",
    "}\n",
    "\n",
    "Test1.main(null);"
   ]
  },
  {
   "attachments": {},
   "cell_type": "markdown",
   "metadata": {},
   "source": [
    "#### Hack 8\n",
    "Given an int array, return true if the array contains 2 twice, or 3 twice. The array will be length 0, 1, or 2.\n",
    "\n",
    "double23([2, 2]) → true double23([3, 3]) → true double23([2, 3]) → false\n",
    "\n"
   ]
  },
  {
   "cell_type": "code",
   "execution_count": 36,
   "metadata": {
    "vscode": {
     "languageId": "java"
    }
   },
   "outputs": [],
   "source": [
    "// code here\n",
    "public boolean double23(int[] nums) {\n",
    "    for(int num1 : nums){\n",
    "        int counter = 0;\n",
    "        for(int num2 : nums){\n",
    "            if(num1 == 1){\n",
    "                break;\n",
    "            }\n",
    "\n",
    "            if(num1 == num2){\n",
    "                counter++;\n",
    "            }\n",
    "\n",
    "            if(counter >= 2){\n",
    "                return true;\n",
    "            }\n",
    "        }\n",
    "    }\n",
    "    \n",
    "    return false;\n",
    "}"
   ]
  },
  {
   "attachments": {},
   "cell_type": "markdown",
   "metadata": {},
   "source": [
    "#### Hack 9\n",
    "Write a class to count how many of a number n is in a 2d array int[][] x"
   ]
  },
  {
   "cell_type": "code",
   "execution_count": 49,
   "metadata": {
    "vscode": {
     "languageId": "java"
    }
   },
   "outputs": [
    {
     "data": {
      "text/plain": [
       "3"
      ]
     },
     "execution_count": 49,
     "metadata": {},
     "output_type": "execute_result"
    }
   ],
   "source": [
    "public class Smth {\n",
    "    public static int find(int[][] arr, int n) {\n",
    "        int count = 0; \n",
    "        for(int[] row : arr) {\n",
    "            for (int num : row) {\n",
    "                if (num == n){\n",
    "                    count++;\n",
    "                }\n",
    "            }\n",
    "        }\n",
    "        return count;\n",
    "    }\n",
    "}\n",
    "\n",
    "Smth.find(new int[][]{{1,2,3}, {1,2,2}}, 2);"
   ]
  },
  {
   "attachments": {},
   "cell_type": "markdown",
   "metadata": {},
   "source": [
    "## Homework\n",
    "Write a seating chart program for your group. Meet the following requirements:\n",
    "\n",
    "A 2D array, array, or ArrayList\n",
    "A minimum of 3 methods to manipulate the seating chart (ex. alphabetize, shuffle seats, add/replace/delete people)\n",
    "Print results\n",
    "You will be graded on:\n",
    "\n",
    "Completion of at least 5 of the above hacks (you can complete these during the in-class activity)\n",
    "Completion of the homework\n",
    "Extra credit if you complete a College Board FRQ involving arrays/ArrayLists\n",
    "Complete the hacks/homework on your personal fastpages."
   ]
  },
  {
   "cell_type": "code",
   "execution_count": 4,
   "metadata": {
    "vscode": {
     "languageId": "java"
    }
   },
   "outputs": [],
   "source": [
    "String[] seatingChartArray = {\"Bailey\", \"Hetvi\", \"Don\", \"Iris\", \"Sahil\", \"Evan\", \"Everitt\", \"Samuel\", \"Don\", \"Rohit\", \"Jun\", \"Ellen\", \"Nathan\"};\n",
    "ArrayList<String> seatingChart = new ArrayList<String>();\n",
    "\n",
    "for (String person : seatingChartArray){\n",
    "    seatingChart.add(person);\n",
    "}\n",
    "\n",
    "public void print(ArrayList<String> seatingChart){\n",
    "    for (String person : seatingChart){\n",
    "        System.out.print(person);\n",
    "    }\n",
    "}\n",
    "\n",
    "public void alphabetize(){\n",
    "    ArrayList<String> temp = new ArrayList<String>();\n",
    "    for (int j = 0; j < seatingChart.size(); j++){\n",
    "        alphaPerson = seatingChart.get(j);\n",
    "        for (int i = j + 1; i < seatingChart.size(); i++){\n",
    "            if(alphaPerson.compareTo(seatingChart.get(i))){\n",
    "                alphaPerson = ;\n",
    "            }\n",
    "        }\n",
    "\n",
    "        temp.add(alphaPerson);\n",
    "    }\n",
    "\n",
    "    \n",
    "}\n",
    "\n",
    "public void shuffleSeats(){\n",
    "    \n",
    "}\n",
    "\n",
    "public void changeSeatingChart(String action, String person){\n",
    "\n",
    "}"
   ]
  }
 ],
 "metadata": {
  "kernelspec": {
   "display_name": "Java",
   "language": "java",
   "name": "java"
  },
  "language_info": {
   "codemirror_mode": "java",
   "file_extension": ".jshell",
   "mimetype": "text/x-java-source",
   "name": "Java",
   "pygments_lexer": "java",
   "version": "18.0.1.1+2-6"
  },
  "orig_nbformat": 4
 },
 "nbformat": 4,
 "nbformat_minor": 2
}
