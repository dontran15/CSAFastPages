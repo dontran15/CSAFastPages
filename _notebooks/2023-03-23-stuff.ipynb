{
 "cells": [
  {
   "attachments": {},
   "cell_type": "markdown",
   "metadata": {},
   "source": [
    "# Everything\n",
    "> Hacks & Explorations of Generics, Sorting, Queues, Stacks, Linked Lists, etc.\n",
    "\n",
    "- title: Sort Week #2\n",
    "- badges: true\n",
    "- toc: true\n",
    "- comments: true\n",
    "- categories: [collegeboard]"
   ]
  },
  {
   "attachments": {},
   "cell_type": "markdown",
   "metadata": {},
   "source": [
    "### Generic Objects\n",
    "One of the key concepts of object oriented programming is the idea that objects can inherit from one another. Thus, it stands to reason that you can have a generic type class that holds as many generic properties as possible that can be inherited and overridden by subsequent subclasses. Breaking these down we essentially get a tree of objects that inherit from one another or implement methods from one another.\n",
    "\n",
    "Here, I'll make a generic class called vehicle which is based on Mr. M's \"Collectable\" object."
   ]
  },
  {
   "cell_type": "code",
   "execution_count": 20,
   "metadata": {
    "vscode": {
     "languageId": "java"
    }
   },
   "outputs": [],
   "source": [
    "public abstract class Vehicle implements Comparable <Vehicle>{\n",
    "    public final String masterType = \"Vehicle\";\n",
    "    private String type;\n",
    "\n",
    "    /*\n",
    "     * Not sure what key types are for\n",
    "     * TODO: find out what enumeration is (enumeration, enumerated interfaces, etc.)\n",
    "     */\n",
    "\n",
    "    // enumerated interface\n",
    "    // public interface KeyTypes {\n",
    "\t// \tString name();\n",
    "\t// }\n",
    "\n",
    "\t// protected abstract KeyTypes getKey(); // this method helps force usage of KeyTypes\n",
    "\n",
    "    // getter\n",
    "\t// public String getMasterType() {\n",
    "\t// \treturn masterType;\n",
    "\t// }\n",
    "\n",
    "\t// get type\n",
    "\tpublic String getType() {\n",
    "\t\treturn type;\n",
    "\t}\n",
    "\n",
    "\t// set type\n",
    "\tpublic void setType(String type) {\n",
    "\t\tthis.type = type;\n",
    "\t}\n",
    "\t\n",
    "\t// this method is used to establish key order ???\n",
    "\tpublic abstract String toString();\n",
    "\n",
    "    // this method is used to compare toString of objects, compares two object together\n",
    "\tpublic int compareTo(Collectable obj) {\n",
    "\t\treturn this.toString().compareTo(obj.toString());\n",
    "\t}\n",
    "\n",
    "    // static print method used by extended classes (generally can use to list objects)\n",
    "\tpublic static void print(Collectable[] objs) {\n",
    "\t\t// print 'Object' properties\n",
    "\t\tSystem.out.println(objs.getClass() + \" \" + objs.length);\n",
    "\n",
    "\t\t// print 'Collectable' properties\n",
    "\t\tif (objs.length > 0) {\n",
    "\t\t\tCollectable obj = objs[0];\t// Look at properties of 1st element\n",
    "\t\t\tSystem.out.println(\n",
    "\t\t\t\t\tobj.getMasterType() + \": \" + \n",
    "\t\t\t\t\tobj.getType() +\n",
    "\t\t\t\t\t\" listed by \" +\n",
    "\t\t\t\t\tobj.getKey());\n",
    "\t\t}\n",
    "\n",
    "\t\t// print \"Collectable: Objects'\n",
    "\t\tfor(Object o : objs)\t// observe that type is Opaque\n",
    "\t\t\tSystem.out.println(o);\n",
    "\n",
    "\t\tSystem.out.println();\n",
    "    }\n",
    "}"
   ]
  },
  {
   "attachments": {},
   "cell_type": "markdown",
   "metadata": {},
   "source": [
    "#### Sub Classes (Motor Vehicle, Marine Vehicle, Aerial Vehicle Extends Vehicle)\n",
    "Through a generic class (vehicles in this case), we can inherit general methods and properties before building them up. For simplicity, I'll make some implementations of sub classes and focus in on motor vehicles and cars."
   ]
  },
  {
   "cell_type": "code",
   "execution_count": 26,
   "metadata": {
    "vscode": {
     "languageId": "java"
    }
   },
   "outputs": [],
   "source": [
    "public interface Engine {\n",
    "    String engineType = \"Diesal\"; // Default\n",
    "    boolean engineOn = false;\n",
    "\n",
    "    public void powerOn();\n",
    "\n",
    "    public void powerOff();\n",
    "\n",
    "    public void setEngineType(String type);\n",
    "}"
   ]
  },
  {
   "cell_type": "code",
   "execution_count": 28,
   "metadata": {
    "vscode": {
     "languageId": "java"
    }
   },
   "outputs": [
    {
     "ename": "CompilationException",
     "evalue": "",
     "output_type": "error",
     "traceback": [
      "\u001b[1m\u001b[30m|   \u001b[1m\u001b[30m\t\u001b[0m\u001b[1m\u001b[30m\u001b[41m\u001b[0m\u001b[1m\u001b[30mCupcake(String motorVehicleType, String motorType)\u001b[0m",
      "\u001b[1m\u001b[31minvalid method declaration; return type required\u001b[0m",
      ""
     ]
    }
   ],
   "source": [
    "public class Car extends Vehicle implements Engine{\n",
    "    public static KeyTypes key = KeyType.title;  // static initializer\n",
    "\tpublic static void setOrder(KeyTypes key) {Car.key = key;}\n",
    "\tpublic enum KeyType implements KeyTypes {title, engine, fuelType, capacity, numberOfWheels}\n",
    " \n",
    "\t// Instance data\n",
    "\tprivate final String engine;\n",
    "\tprivate final String motorType;\n",
    "\n",
    "\t// Constructor\n",
    "\tpublic Car(String motorVehicleType, String motorType){\n",
    "\t\tthis.setType(\"MotorVehicle\");\n",
    "\t\tthis.frosting = motorVehicleType;\n",
    "\t\tthis.flavor = motorType;\n",
    "\t}\n",
    "\n",
    "    /* \n",
    "     * 'Vehicle' requires getKey to help enforce KeyTypes usage \n",
    "     * Mort's Code TODO: Understand key types\n",
    "    */\n",
    "\t@Override\n",
    "\tprotected KeyTypes getKey() { return MotorVehicle.key; }\n",
    "\n",
    "\t/* \n",
    "     * 'Vehicle' requires toString override (overrides are required if abstract method)\n",
    "\t * toString provides data based off of Static Key setting\n",
    "     * TODO: Understand this toString Method\n",
    "\t */\n",
    "\t@Override\n",
    "\tpublic String toString() {\t\t\n",
    "\t\tString output=\"\";\n",
    "\t\tif (KeyType.motorVehicleType.equals(this.getKey())) {\n",
    "\t\t\toutput += this.motorVehicleType;\n",
    "\t\t} else if (KeyType.motorType.equals(this.getKey())) {\n",
    "\t\t\toutput += this.motorType;\n",
    "\t\t\t} else {\n",
    "\t\t\t    output = super.getType() + \": \" + this.motorVehicleType + \", \" + this.motorType;\n",
    "\t\t}\n",
    "\t\treturn output;\n",
    "\t}\n",
    "\n",
    "\t// Test data initializer\n",
    "\tpublic static MotorVehicle[] motorVehicles() {\n",
    "\t\treturn new MotorVehicle[]{\n",
    "\t\t\t\tnew MotorVehicle(\"Red\", 4, \"Red Velvet\"),\n",
    "\t\t\t    new Cupcake(\"Orange\", 5, \"Orange\"),\n",
    "\t\t\t    new Cupcake(\"Yellow\", 6, \"Lemon\"),\n",
    "\t\t\t    new Cupcake(\"Green\", 7, \"Apple\"),\n",
    "\t\t\t    new Cupcake(\"Blue\", 8, \"Blueberry\"),\n",
    "\t\t\t    new Cupcake(\"Purple\", 9, \"Blackberry\"),\n",
    "\t\t\t    new Cupcake(\"Pink\", 10, \"Strawberry\"),\n",
    "\t\t\t    new Cupcake(\"Tan\", 11, \"Vanilla\"),\n",
    "\t\t\t    new Cupcake(\"Brown\", 12, \"Chocolate\"),\n",
    "\t\t};\n",
    "\t}\n",
    "\t\n",
    "\tpublic static void main(String[] args)\n",
    "\t{\n",
    "\t\t// Inheritance Hierarchy\n",
    "\t\tCupcake[] objs = cupcakes();  // Array is reference type only, no methods\n",
    "\t\tList<Cupcake> cupcakes = new ArrayList<Cupcake>(Arrays.asList(objs));  // conversion required to make it a Collection\n",
    "\n",
    "\t\t// print with title\n",
    "\t\tCupcake.setOrder(KeyType.title);\n",
    "\t\tCupcake.print(objs);\n",
    "\n",
    "\t\t// convert to Coolection and sort in flavor order\n",
    "\t\tCupcake.setOrder(KeyType.flavor);\n",
    "\t\tCollections.sort(cupcakes);  // This works because of Collectable compareTo method\n",
    "\t\tCupcake.setOrder(KeyType.title);\n",
    "\t\tfor (Cupcake cupcake : cupcakes)\n",
    "\t\t\tSystem.out.println(cupcake);\n",
    "\t}\n",
    "}\n",
    "\n",
    "MotorVehicle.main(null);\n",
    "\n",
    "public class MarineVehicle /* extends Vehicle */ {\n",
    "    /* implementation not shown */\n",
    "}\n",
    "\n",
    "public class AerialVehicle /* extends Vehicle */ {\n",
    "    /* implementation not shown */ \n",
    "}"
   ]
  },
  {
   "cell_type": "code",
   "execution_count": null,
   "metadata": {
    "vscode": {
     "languageId": "java"
    }
   },
   "outputs": [],
   "source": [
    "public abstract class Sort<T>{\n",
    "    public Sort(){}\n",
    "\n",
    "    public abstract Collection<T> sort(Collection<T> collection);\n",
    "}\n",
    "\n",
    "public class BubbleSort<T> extends Sort<T>{\n",
    "    public BubbleSort() {}\n",
    "\n",
    "    @Override\n",
    "    public Collection<T> sort(Collection<T> collection) {\n",
    "        \n",
    "        \n",
    "        return null;\n",
    "    } \n",
    "}"
   ]
  },
  {
   "attachments": {},
   "cell_type": "markdown",
   "metadata": {},
   "source": [
    "### Collection Types\n",
    "Collection types are built in Java Objects used to store a \"collection\" of other objects/data. They are used to manage a group of data encapsulated as one generic grouping. This is very similar to the idea of a generic type in that collections too can be treed down to create new types of collections. For instance collections inherit from one another and can be implemented in new ways.\n",
    "\n",
    "#### Queues, Stacks, Linked Lists, and Other Collection Types\n",
    "\n",
    "\n",
    "### Sorting Algorithms"
   ]
  }
 ],
 "metadata": {
  "kernelspec": {
   "display_name": "Java",
   "language": "java",
   "name": "java"
  },
  "language_info": {
   "codemirror_mode": "java",
   "file_extension": ".jshell",
   "mimetype": "text/x-java-source",
   "name": "Java",
   "pygments_lexer": "java",
   "version": "18.0.1.1+2-6"
  },
  "orig_nbformat": 4
 },
 "nbformat": 4,
 "nbformat_minor": 2
}
