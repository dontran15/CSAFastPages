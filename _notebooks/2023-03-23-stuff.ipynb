{
 "cells": [
  {
   "attachments": {},
   "cell_type": "markdown",
   "metadata": {},
   "source": [
    "# Sort Week #2\n",
    "> Hacks & Explorations of Sorting with Queues, Stacks, Linked Lists, etc.\n",
    "\n",
    "- title: Sort Week #2\n",
    "- badges: true\n",
    "- toc: true\n",
    "- comments: true\n",
    "- categories: [collegeboard]"
   ]
  },
  {
   "attachments": {},
   "cell_type": "markdown",
   "metadata": {},
   "source": [
    "### Collection Types\n",
    "Collection types are built in Java Objects used to store a \"collection\" of other objects/data. They are used to manage a group of data encapsulated as one generic grouping. \n",
    "\n",
    "#### Queues, Stacks, Linked Lists, and Other Collection Types\n",
    "\n",
    "\n",
    "### Sorting Algorithms\n"
   ]
  },
  {
   "cell_type": "code",
   "execution_count": null,
   "metadata": {},
   "outputs": [],
   "source": []
  }
 ],
 "metadata": {
  "kernelspec": {
   "display_name": "Java",
   "language": "java",
   "name": "java"
  },
  "language_info": {
   "name": "java"
  },
  "orig_nbformat": 4
 },
 "nbformat": 4,
 "nbformat_minor": 2
}
