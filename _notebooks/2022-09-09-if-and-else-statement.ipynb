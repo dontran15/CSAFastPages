{
 "cells": [
  {
   "cell_type": "markdown",
   "metadata": {},
   "source": [
    "# Booleans, If Else Statements, Switch Case, De Morgan's Law <:)\n",
    "> The logic behind booleans if else statements switch case and De Morgan's Law\n",
    "\n",
    "- title: If Else Statements and Boolean Logic\n",
    "- toc: true\n",
    "- badges: true\n",
    "- comments: false\n",
    "- author: Don Tran\n",
    "- categories: [pbl, week 3]"
   ]
  },
  {
   "cell_type": "markdown",
   "metadata": {},
   "source": [
    "## Booleans\n",
    "Beans? Leans? Loo Beans? Boo Leans? It's a Boolean! Booleans are one of the primitive data types that Java supports and are an integral data type to all of computer science. In fact, it's the idea of booleans that actually makes up an integral part of computers which we know as 0s and 1s (on or off) which in computer speak is called binary. \n",
    "\n",
    "Established by 19th century mathematician George Bool, booleans are at its core data for logic simply put in two types: true or false. With this you can create a complex structure of computing code and all other manners of code. \n",
    "\n",
    "Let's see how they are when we assign them as variables!"
   ]
  },
  {
   "cell_type": "code",
   "execution_count": 4,
   "metadata": {},
   "outputs": [
    {
     "name": "stdout",
     "output_type": "stream",
     "text": [
      "variable a: true\n",
      "variable b: false\n"
     ]
    }
   ],
   "source": [
    "boolean a = true;\n",
    "boolean b = false;\n",
    "\n",
    "System.out.println(\"variable a: \" + a + \"\\nvariable b: \" + b);"
   ]
  },
  {
   "cell_type": "markdown",
   "metadata": {},
   "source": [
    "### Boolean Operators\n",
    "Booleans, interestingly enough, have operators to them just as math does. The most common operators you'll hear about are the comparison operators: and (&&), or (||), >, <, >=, <=, ==. Another common operator is not (!). \n",
    "\n",
    "The and operator compares two boolean statements and if both are true, then it will return true, otherwise all other combinations of the boolean statements return false. \n",
    "\n",
    "The or operator also compares two boolean statements and if one of them is true, it returns true while if both of them is false, it will return false. \n",
    "\n",
    "The not operator is applied to a boolean statement and switches true to false and false to true.\n",
    "\n",
    "Let's see them in action!"
   ]
  },
  {
   "cell_type": "code",
   "execution_count": 14,
   "metadata": {},
   "outputs": [
    {
     "name": "stdout",
     "output_type": "stream",
     "text": [
      "variable a: true\n",
      "variable b: false\n",
      "variable c: true\n",
      "variable d: false\n",
      "variable e: true\n"
     ]
    }
   ],
   "source": [
    "// examples of some of the operators\n",
    "boolean a = true && true;\n",
    "boolean b = false && true;\n",
    "boolean c = 20 >= 19;\n",
    "boolean d = 42 < 23;\n",
    "boolean e = !b;\n",
    "\n",
    "System.out.println(\"variable a: \" + a + \"\\nvariable b: \" + b + \"\\nvariable c: \" + c + \"\\nvariable d: \" + d + \"\\nvariable e: \" + e);"
   ]
  },
  {
   "cell_type": "markdown",
   "metadata": {},
   "source": [
    "## If and Else Statements\n",
    "If statements are, at their core, statements that check the conditions of true or false. If a condition is true, it will perform an action/line of code, if it is false, it will skip over the action/code block under the if statement.\n",
    "\n",
    "An Else statements is an action/code block that performs if the condition for the if statement is not true.\n",
    "\n",
    "An Else If statement is a combination of If and Else statements where if a condition is not true, it will move into the else statement which has another if statement. At its core. it is a nested If Else statement.\n",
    "\n",
    "Let's see them in action."
   ]
  },
  {
   "cell_type": "code",
   "execution_count": 15,
   "metadata": {},
   "outputs": [
    {
     "name": "stdout",
     "output_type": "stream",
     "text": [
      "a is the largest number\n"
     ]
    }
   ],
   "source": [
    "int a = 11;\n",
    "int b = 6;\n",
    "int c = 9;\n",
    "\n",
    "if (a > b){ //since a is greater than c, the else statement is ignored\n",
    "    if (a < c){\n",
    "        System.out.println(\"c is the largest number\");\n",
    "    }\n",
    "    else{ //since a is greater than c, the else statement's code block is called because the if statement is false\n",
    "        System.out.println(\"a is the largest number\");\n",
    "    }\n",
    "}\n",
    "else{\n",
    "    if (b < c){\n",
    "        System.out.println(\"c is the largest number\");\n",
    "    }\n",
    "    else{\n",
    "        System.out.println(\"b is the largest number\");\n",
    "    }\n",
    "}"
   ]
  },
  {
   "cell_type": "markdown",
   "metadata": {},
   "source": [
    "## Switch Case Statements\n",
    "Switch Case Statements help simplify/manage the complexity of if else statements which can in many circumstance become overly long especially when comparing by a case by case basis. \n",
    "\n",
    "It works by stating a variety of Case statements which all have conditions. The code blocks under each case are then run if the condition to one of the cases is met. Just like if else statements, Switch Case statements will go down each case to see if a conditon is met. If it is met, the case's block of code will run and ignore the rest of the Switch Case statements.\n",
    "\n",
    "In the examples below, the first will be a chain of If Else statements while the second example will use switch case to demonstrate how Switch Case statements simplify multiple If Else statements."
   ]
  },
  {
   "cell_type": "code",
   "execution_count": 16,
   "metadata": {},
   "outputs": [
    {
     "name": "stdout",
     "output_type": "stream",
     "text": [
      "7 is considered lucky in many cultures because its believed to be associated with its propagation as a positive value in folklores and myths.\n"
     ]
    }
   ],
   "source": [
    "int n = 7;\n",
    "if (n == 4){\n",
    "    System.out.println(\"4 is considered unlucky in Japan because of its pronounciation's (shi) similarity to the word for death.\");\n",
    "}\n",
    "else if (n == 7){\n",
    "    System.out.println(\"7 is considered lucky in many cultures because its believed to be associated with its propagation as a positive value in folklores and myths.\");  \n",
    "}\n",
    "else if (n == 8){\n",
    "    System.out.println(\"8 is considered a lucky number in China and Japan because of its relation to the word for prosperity in their cultures.\");  \n",
    "}\n",
    "else if (n == 9){\n",
    "    System.out.println(\"9 is considered unlucky in both China and Japan because both associate it with the word for sorrow, grief, and suffering.\"); \n",
    "}\n",
    "else if (n == 13){\n",
    "    System.out.println(\"13 is considered unlucky in Western society due to its association with the Christian Bible where the 13th to sit at the Last Supper was Judas who is known as the betrayer of Jesus Christ.\");\n",
    "}"
   ]
  },
  {
   "cell_type": "code",
   "execution_count": 17,
   "metadata": {},
   "outputs": [
    {
     "name": "stdout",
     "output_type": "stream",
     "text": [
      "7 is considered lucky in many cultures because its believed to be associated with its propagation as a positive value in folklores and myths.\n"
     ]
    }
   ],
   "source": [
    "int n = 7;\n",
    "String output;\n",
    "\n",
    "switch (n){ //variable passed in\n",
    "    case 4: //condition checked if equals\n",
    "        output = \"4 is considered unlucky in Japan because of its pronounciation's (shi) similarity to the word for death.\";\n",
    "        break;\n",
    "    case 7:\n",
    "        output = \"7 is considered lucky in many cultures because its believed to be associated with its propagation as a positive value in folklores and myths.\";\n",
    "        break;\n",
    "    case 8:\n",
    "        output = \"8 is considered a lucky number in China and Japan because of its relation to the word for prosperity in their cultures.\";\n",
    "        break;\n",
    "    case 9:\n",
    "        output = \"9 is considered unlucky in both China and Japan because both associate it with the word for sorrow, grief, and suffering.\";\n",
    "        break;\n",
    "    case 13:\n",
    "        output = \"13 is considered unlucky in Western society due to its association with the Christian Bible where the 13th to sit at the Last Supper was Judas who is known as the betrayer of Jesus Christ.\";\n",
    "        break;\n",
    "}\n",
    "System.out.println(output);"
   ]
  },
  {
   "cell_type": "markdown",
   "metadata": {},
   "source": [
    "## De Morgan's Law\n",
    "De Morgan's Law states that in a boolean statement, the not operator ! will reverse all the operators in that statement. For instance, true becomes false, false becomes true, and becomes or, or becomes and, > becomes <=, <= becomes >, etc. A tangible example of this is 'I will not drink water and eat a table' which means the same thing as 'I will either not drink water or eat a table.'\n",
    "\n",
    "Here's some examples!"
   ]
  },
  {
   "cell_type": "code",
   "execution_count": 19,
   "metadata": {},
   "outputs": [],
   "source": [
    "boolean a = true;\n",
    "boolean b = true;"
   ]
  },
  {
   "cell_type": "code",
   "execution_count": 21,
   "metadata": {},
   "outputs": [
    {
     "name": "stdout",
     "output_type": "stream",
     "text": [
      "A and B are true\n"
     ]
    }
   ],
   "source": [
    "if (!(A && B)){\n",
    "    System.out.println(\"A and B both are false\");\n",
    "}\n",
    "else{\n",
    "    System.out.println(\"A and B are true\");\n",
    "}"
   ]
  },
  {
   "cell_type": "code",
   "execution_count": 22,
   "metadata": {},
   "outputs": [
    {
     "name": "stdout",
     "output_type": "stream",
     "text": [
      "A and B are true\n"
     ]
    }
   ],
   "source": [
    "if (!A || !B){\n",
    "    System.out.println(\"A and B both are false\");\n",
    "}\n",
    "else{\n",
    "    System.out.println(\"A and B are true\");\n",
    "}"
   ]
  },
  {
   "cell_type": "markdown",
   "metadata": {},
   "source": [
    "As shown above, both statements are equal given De Morgan's Law. It's important because of how they can break inversions as a complement of a complex boolean expression."
   ]
  }
 ],
 "metadata": {
  "kernelspec": {
   "display_name": "Java",
   "language": "java",
   "name": "java"
  },
  "language_info": {
   "codemirror_mode": "java",
   "file_extension": ".jshell",
   "mimetype": "text/x-java-source",
   "name": "java",
   "pygments_lexer": "java",
   "version": "18.0.1.1+2-6"
  },
  "orig_nbformat": 4
 },
 "nbformat": 4,
 "nbformat_minor": 2
}
