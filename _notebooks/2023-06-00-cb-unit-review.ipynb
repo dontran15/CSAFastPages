{
 "cells": [
  {
   "cell_type": "markdown",
   "metadata": {},
   "source": [
    "# College Board Unit Review\n",
    "> College Board Unit Review\n",
    "\n",
    "- title: College Board Unit Review\n",
    "- badges: true\n",
    "- toc: true\n",
    "- comments: true\n",
    "- categories: [pbl, collegeboard, study guide]"
   ]
  },
  {
   "cell_type": "markdown",
   "metadata": {},
   "source": [
    "## Comprehensive Study Guide\n",
    "Here is a comprehensive study guide for college board material. This can both help with Java fundamentals and act as a study guide to help me prepare for the AP Exam."
   ]
  },
  {
   "cell_type": "code",
   "execution_count": null,
   "metadata": {},
   "outputs": [],
   "source": []
  },
  {
   "cell_type": "markdown",
   "metadata": {},
   "source": []
  },
  {
   "cell_type": "code",
   "execution_count": null,
   "metadata": {},
   "outputs": [],
   "source": []
  }
 ],
 "metadata": {
  "kernelspec": {
   "display_name": "Java",
   "language": "java",
   "name": "java"
  },
  "language_info": {
   "name": "java"
  },
  "orig_nbformat": 4
 },
 "nbformat": 4,
 "nbformat_minor": 2
}
