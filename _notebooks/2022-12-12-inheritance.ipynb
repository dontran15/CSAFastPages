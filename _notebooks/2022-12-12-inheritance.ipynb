{
 "cells": [
  {
   "cell_type": "markdown",
   "metadata": {},
   "source": [
    "# Inheritance\n",
    "> Inheritance Notes & HW\n",
    "\n",
    "- title: Inheritance\n",
    "- badges: true\n",
    "- toc: true\n",
    "- categories: [college board, Unit 9]"
   ]
  },
  {
   "cell_type": "markdown",
   "metadata": {},
   "source": [
    "### Inheritance\n",
    "A ability to inherit characteristics from super class to sub classes. Reduces risk of error and reduces redundancy. extends key word used to inherit characteristics from a class. You can have multiple instances of inheritance. Constructors in a sub class needs to have at least the same definition as the old class. When you call super() you call the supper class's constructor which must have all relevant parameters passed into it. @Override needed to state overriding methods of a super class and makes it readable\n",
    "\n",
    "### Creating Reference Using Inheritance Hierarchies\n",
    "Tree called inheritance hierarchies where lower subclasses inherit upper super classes in the hierarchy\n",
    "\n",
    "### Polymorphism\n",
    "Allows methods to take on multiple forms for code reusability of methods with different forms/implementations but execute the same way\n",
    "\n",
    "### Super class\n",
    "Includes equals() and toString() methods which are the most common methods of the Object class"
   ]
  },
  {
   "cell_type": "markdown",
   "metadata": {},
   "source": [
    "### Homework"
   ]
  },
  {
   "cell_type": "code",
   "execution_count": null,
   "metadata": {},
   "outputs": [],
   "source": []
  }
 ],
 "metadata": {
  "kernelspec": {
   "display_name": "Java",
   "language": "java",
   "name": "java"
  },
  "language_info": {
   "name": "java",
   "version": "3.10.6"
  },
  "orig_nbformat": 4,
  "vscode": {
   "interpreter": {
    "hash": "aee8b7b246df8f9039afb4144a1f6fd8d2ca17a180786b69acc140d282b71a49"
   }
  }
 },
 "nbformat": 4,
 "nbformat_minor": 2
}
