{
 "cells": [
  {
   "cell_type": "markdown",
   "metadata": {},
   "source": [
    "# FRQ 4\n",
    "> Completed FRQ 4\n",
    "\n",
    "- title: FRQ 4\n",
    "- badges: true\n",
    "- toc: true\n",
    "- categories: [college board]"
   ]
  },
  {
   "cell_type": "code",
   "execution_count": 20,
   "metadata": {
    "vscode": {
     "languageId": "java"
    }
   },
   "outputs": [
    {
     "name": "stdout",
     "output_type": "stream",
     "text": [
      "false\n"
     ]
    }
   ],
   "source": [
    "public class LightBoard{\n",
    "    private boolean[][] lights;\n",
    "    public LightBoard(int numRows, int numCols){\n",
    "        this.lights = new boolean[numRows][numCols];\n",
    "        \n",
    "        for(int r = 0; r < numRows; r++){\n",
    "            for(int c = 0; c < numCols; c++){\n",
    "                double random = Math.random();\n",
    "                if (random <= 0.4){\n",
    "                    lights[r][c] = true;\n",
    "                }\n",
    "            }\n",
    "        }\n",
    "    }\n",
    "\n",
    "    public boolean evaluateLight(int r, int c){\n",
    "        boolean light = lights[r][c];\n",
    "\n",
    "        int numLightsOn = 0;\n",
    "        for (int col = 0; col < c; col++){\n",
    "            if(lights[r][col]){\n",
    "                numLightsOn ++;\n",
    "            }\n",
    "        }\n",
    "\n",
    "        if(light && numLightsOn%2 == 0){\n",
    "            return false;\n",
    "        }\n",
    "        else if(!light && numLightsOn%3 == 0){\n",
    "            return true;\n",
    "        }\n",
    "        else{\n",
    "            return light;\n",
    "        }\n",
    "    }\n",
    "\n",
    "    public static void main(String[] args){\n",
    "        LightBoard lightBoard = new LightBoard(5, 5);\n",
    "        System.out.println(lightBoard.evaluateLight(0, 4));\n",
    "    }\n",
    "}\n",
    "\n",
    "LightBoard.main(null);\n"
   ]
  }
 ],
 "metadata": {
  "kernelspec": {
   "display_name": "Java",
   "language": "java",
   "name": "java"
  },
  "language_info": {
   "codemirror_mode": "java",
   "file_extension": ".jshell",
   "mimetype": "text/x-java-source",
   "name": "Java",
   "pygments_lexer": "java",
   "version": "18.0.1.1+2-6"
  },
  "orig_nbformat": 4
 },
 "nbformat": 4,
 "nbformat_minor": 2
}
