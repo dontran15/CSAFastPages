{
 "cells": [
  {
   "attachments": {},
   "cell_type": "markdown",
   "metadata": {},
   "source": [
    "# CanCode Lesson\n",
    "> CanCode Lesson Info & Hacks\n",
    "\n",
    "- title: CanCode Lesson\n",
    "- badges: true\n",
    "- toc: true\n",
    "- comments: true\n",
    "- categories: [collegeboard]"
   ]
  },
  {
   "attachments": {},
   "cell_type": "markdown",
   "metadata": {},
   "source": [
    "## Unit 5 Writing Classes\n",
    "Blue print of writing classes, constructors, mutators/accessors, etc.\n",
    "\n",
    "Stores data in the for of variables or has functions which are used to execute logic.\n",
    "\n",
    "Access Modifiers\n",
    "\n",
    "## Inheritance\n",
    "Inheriting properties of super classes and uses keyword extends. super references to super class while this refers to the instance itself. \n",
    "\n",
    "Constructors are never inherited, thus you need to generate your own constructors and use super(); in order to call super class constructor. \n",
    "\n",
    "Important things to know for ap exam:\n",
    "- can add new private instance variables\n",
    "- can have new methods (any modifier basically)\n",
    "- can override inherited methods through (@Override)\n",
    "- cant redefine public method as private\n",
    "- cant override static methods of the superclass\n",
    "- could define its own constructor\n",
    "- cannot directly access private members of super class and must use accessor/mutator"
   ]
  },
  {
   "cell_type": "code",
   "execution_count": null,
   "metadata": {},
   "outputs": [],
   "source": []
  }
 ],
 "metadata": {
  "kernelspec": {
   "display_name": "Java",
   "language": "java",
   "name": "java"
  },
  "language_info": {
   "name": "java"
  },
  "orig_nbformat": 4
 },
 "nbformat": 4,
 "nbformat_minor": 2
}
