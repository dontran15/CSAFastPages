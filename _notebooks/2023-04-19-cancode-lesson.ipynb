{
 "cells": [
  {
   "attachments": {},
   "cell_type": "markdown",
   "metadata": {},
   "source": [
    "# CanCode Lesson\n",
    "> CanCode Lesson Info & Hacks\n",
    "\n",
    "- title: CanCode Lesson\n",
    "- badges: true\n",
    "- toc: true\n",
    "- comments: true\n",
    "- categories: [collegeboard]"
   ]
  },
  {
   "attachments": {},
   "cell_type": "markdown",
   "metadata": {},
   "source": [
    "## Unit 5 Writing Classes\n",
    "Blue print of writing classes, constructors, mutators/accessors, etc.\n",
    "\n",
    "Stores data in the for of variables or has functions which are used to execute logic.\n",
    "\n",
    "Access Modifiers\n",
    "\n",
    "## Inheritance\n",
    "Inheriting properties of super classes and uses keyword extends. super references to super class while this refers to the instance itself. \n",
    "\n",
    "Constructors are never inherited, thus you need to generate your own constructors and use super(); in order to call super class constructor. \n",
    "\n",
    "Important things to know for ap exam:\n",
    "- can add new private instance variables\n",
    "- can have new methods (any modifier basically)\n",
    "- can override inherited methods through (@Override)\n",
    "- cant redefine public method as private\n",
    "- cant override static methods of the superclass\n",
    "- could define its own constructor\n",
    "- cannot directly access private members of super class and must use accessor/mutator"
   ]
  },
  {
   "attachments": {},
   "cell_type": "markdown",
   "metadata": {},
   "source": [
    "## Homework Hacks\n",
    "### Unit 5 Putting It All Together"
   ]
  },
  {
   "cell_type": "code",
   "execution_count": 17,
   "metadata": {
    "vscode": {
     "languageId": "java"
    }
   },
   "outputs": [
    {
     "name": "stdout",
     "output_type": "stream",
     "text": [
      "-----------Getter and Setter-----------\n",
      "420420420\n",
      "-----------Public Method-----------\n",
      "hahahahaha\n",
      "-----------Private Method-----------\n",
      "This is: my every day life\n",
      "-----------Testing Static ArrayList-----------\n",
      "John Jackle\n",
      "Jo Juckle\n",
      "Jonah Jeckle\n"
     ]
    }
   ],
   "source": [
    "public class Person{\n",
    "    static ArrayList<Person> registry = new ArrayList<Person>();\n",
    "    public String name;\n",
    "    private long ssn;\n",
    "\n",
    "    public Person(String name, long ssn){\n",
    "        this.name = name;\n",
    "        this.ssn = ssn;\n",
    "\n",
    "        registry.add(this);\n",
    "    }\n",
    "\n",
    "    public void setSSN(long ssn){\n",
    "        this.ssn = ssn;\n",
    "    }\n",
    "\n",
    "    public long getSSN(){\n",
    "        return this.ssn;\n",
    "    }\n",
    "\n",
    "    public void filmLife(){\n",
    "        System.out.print(\"This is: \");\n",
    "        this.doDailyLife();\n",
    "    }\n",
    "\n",
    "    private void doDailyLife(){\n",
    "        System.out.println(\"my every day life\");\n",
    "    }\n",
    "\n",
    "    public void laugh(){\n",
    "        System.out.println(\"hahahahaha\");\n",
    "    }\n",
    "}\n",
    "\n",
    "public class Main{\n",
    "    public static void tester(String[] args){\n",
    "        Person person1 = new Person(\"John Jackle\", Long.valueOf(2232322));\n",
    "        Person person2 = new Person(\"Jo Juckle\", Long.valueOf(445454545));\n",
    "        Person person3 = new Person(\"Jonah Jeckle\", Long.valueOf(89787878));\n",
    "\n",
    "        System.out.println(\"-----------Getter and Setter-----------\");\n",
    "        person1.setSSN(420420420);\n",
    "        System.out.println(person1.getSSN());\n",
    "        \n",
    "        System.out.println(\"-----------Public Method-----------\");\n",
    "        person1.laugh();\n",
    "\n",
    "        System.out.println(\"-----------Private Method-----------\");\n",
    "        person1.filmLife(); // calls public method that calls private method\n",
    "\n",
    "        // testing static array list\n",
    "        System.out.println(\"-----------Testing Static ArrayList-----------\");\n",
    "        for (int i = 0; i < Person.registry.size(); i++) {\n",
    "            System.out.println(Person.registry.get(i).name);\n",
    "        }\n",
    "    }\n",
    "}\n",
    "\n",
    "Main.tester(null);"
   ]
  },
  {
   "cell_type": "code",
   "execution_count": 19,
   "metadata": {
    "vscode": {
     "languageId": "java"
    }
   },
   "outputs": [
    {
     "ename": "CompilationException",
     "evalue": "",
     "output_type": "error",
     "traceback": [
      "\u001b[1m\u001b[30m|   \u001b[1m\u001b[30m        \u001b[0m\u001b[1m\u001b[30m\u001b[41mperson1.doDailyLife\u001b[0m\u001b[1m\u001b[30m(); // calls public method that calls private method\u001b[0m",
      "\u001b[1m\u001b[31mdoDailyLife() has private access in Person\u001b[0m",
      ""
     ]
    }
   ],
   "source": [
    "public class Main{\n",
    "    public static void tester(String[] args){\n",
    "        Person person1 = new Person(\"John Jackle\", Long.valueOf(2232322));\n",
    "        \n",
    "        System.out.println(\"-----------Private Method Can't Be Accessed-----------\");\n",
    "        person1.doDailyLife(); // calls public method that calls private method\n",
    "    }\n",
    "}\n",
    "\n",
    "Main.tester(null);"
   ]
  },
  {
   "attachments": {},
   "cell_type": "markdown",
   "metadata": {},
   "source": [
    "### Unit 9 Hack 1 (Superclass/Subclass Practice)"
   ]
  },
  {
   "cell_type": "code",
   "execution_count": null,
   "metadata": {
    "vscode": {
     "languageId": "java"
    }
   },
   "outputs": [],
   "source": []
  },
  {
   "attachments": {},
   "cell_type": "markdown",
   "metadata": {},
   "source": [
    "### Unit 9 Hack 2 (Polymorphism, Super, Override)"
   ]
  },
  {
   "cell_type": "code",
   "execution_count": null,
   "metadata": {
    "vscode": {
     "languageId": "java"
    }
   },
   "outputs": [],
   "source": []
  },
  {
   "attachments": {},
   "cell_type": "markdown",
   "metadata": {},
   "source": [
    "### Unit 10 Hack (Recursive Algorithm)"
   ]
  },
  {
   "cell_type": "code",
   "execution_count": null,
   "metadata": {
    "vscode": {
     "languageId": "java"
    }
   },
   "outputs": [],
   "source": []
  }
 ],
 "metadata": {
  "kernelspec": {
   "display_name": "Java",
   "language": "java",
   "name": "java"
  },
  "language_info": {
   "codemirror_mode": "java",
   "file_extension": ".jshell",
   "mimetype": "text/x-java-source",
   "name": "Java",
   "pygments_lexer": "java",
   "version": "18.0.1.1+2-6"
  },
  "orig_nbformat": 4
 },
 "nbformat": 4,
 "nbformat_minor": 2
}
