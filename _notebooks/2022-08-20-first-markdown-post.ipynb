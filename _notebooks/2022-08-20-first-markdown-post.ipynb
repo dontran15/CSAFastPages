{
 "cells": [
  {
   "cell_type": "markdown",
   "metadata": {},
   "source": [
    "# My First Post!\n",
    "> My first post using markdown on my fastpages. Coping through the struggles.\n",
    "\n",
    "- toc: true\n",
    "- badges: true\n",
    "- comments: false\n",
    "- author: Don Tran\n",
    "- categories: [markdown, fastpages]"
   ]
  },
  {
   "cell_type": "markdown",
   "metadata": {},
   "source": [
    "### First Fastpages Post 😎🥱\n",
    "Hi I'm Don. Welcome to my first fastpages post, the start to my year long experience to cope cope cope while I code code code.\n",
    "\n",
    "<img src=\"https://miro.medium.com/max/1280/1*2CfNcD1WOOWEMLvPwMU05Q.jpeg\" alt=\"Guy struggles to code code code\">\n",
    "\n",
    "#### What to Expect\n",
    "This post is to see if I didn't botch my fast pages and set them up right. It's also here to test how much markdown I vaguely remember.\n",
    "\n",
    "#### Some Fun Facts\n",
    "* I have a dog\n",
    "* I ate bun bo hue\n",
    "* Things I like:\n",
    "  * Drinking Boba\n",
    "  * Bread\n",
    "  * Sleeping\n",
    "* Things I hate:\n",
    "  * Insects\n",
    "  * Spiders\n",
    "  * Anything that looks like it could or can kill me\n",
    "\n",
    "#### Quote\n",
    "> \"Thumbs up.\" 👍\n",
    "\n",
    "#### Markdown Styling Examples\n",
    "| Markings Syntax | Description                       | Example         |\n",
    "|:----------------|:---------------------------------:|----------------:|\n",
    "| Strike Through  | Puts a Strike through words       | ~~Hello~~       |\n",
    "| Italics         | Slants characters in italic style | _Hello_         |\n",
    "| Bold            | Thickens characters in bold style | **Hello**       |\n",
    "\n",
    "#### End of My First Blog\n",
    "> Note: Wishing myself good luck for this year.\n",
    "\n",
    "> Tip: Remember to code code code and cope cope cope.\n",
    "\n",
    "> Important: This is the end of my fist blog post on fast pages."
   ]
  }
 ],
 "metadata": {
  "kernelspec": {
   "display_name": "Python 3.10.6 64-bit",
   "language": "python",
   "name": "python3"
  },
  "language_info": {
   "name": "python",
   "version": "3.10.6"
  },
  "orig_nbformat": 4,
  "vscode": {
   "interpreter": {
    "hash": "aee8b7b246df8f9039afb4144a1f6fd8d2ca17a180786b69acc140d282b71a49"
   }
  }
 },
 "nbformat": 4,
 "nbformat_minor": 2
}
